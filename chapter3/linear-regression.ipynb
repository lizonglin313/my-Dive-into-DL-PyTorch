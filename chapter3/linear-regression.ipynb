{
 "cells": [
  {
   "cell_type": "markdown",
   "metadata": {},
   "source": [
    "\n",
    "# 实现线性回归"
   ]
  },
  {
   "cell_type": "code",
   "execution_count": 97,
   "metadata": {},
   "outputs": [],
   "source": [
    "import random\n",
    "import numpy as np\n",
    "from matplotlib import pyplot as plt\n",
    "from IPython import display\n",
    "import torch\n",
    "%matplotlib inline"
   ]
  },
  {
   "cell_type": "markdown",
   "metadata": {},
   "source": [
    "## 生成数据集"
   ]
  },
  {
   "cell_type": "code",
   "execution_count": 98,
   "metadata": {},
   "outputs": [
    {
     "name": "stdout",
     "output_type": "stream",
     "text": [
      "tensor([-0.4718,  1.9586]) tensor(-3.3983)\n"
     ]
    }
   ],
   "source": [
    "num_inputs = 2 # 输入特征数 2\n",
    "num_examples = 1000 # 1000个样本\n",
    "true_w = [2, -3.4]  # 线性回归的真实权重\n",
    "true_b = 4.2   # 偏差\n",
    "\n",
    "# 100 row 2 col\n",
    "features = torch.randn(num_examples, num_inputs, dtype=torch.float32)\n",
    "\n",
    "labels = true_w[0] * features[:,0] + true_w[1] * features[:, 1] + true_b    # 这里不要忘记把偏差加上\n",
    "\n",
    "# 噪声项 服从 均值为 0  标准差为 0.01 的正态分布  噪声项代表无意义的干扰\n",
    "labels += torch.tensor(np.random.normal(0, 0.01, size=labels.size()), dtype=torch.float32)\n",
    "\n",
    "print(features[0], labels[0])   # 查看结构"
   ]
  },
  {
   "cell_type": "code",
   "execution_count": 99,
   "metadata": {},
   "outputs": [
    {
     "name": "stderr",
     "output_type": "stream",
     "text": [
      "C:\\Users\\zonglin\\AppData\\Local\\Temp/ipykernel_51176/942839298.py:3: DeprecationWarning: `set_matplotlib_formats` is deprecated since IPython 7.23, directly use `matplotlib_inline.backend_inline.set_matplotlib_formats()`\n",
      "  display.set_matplotlib_formats('svg')\n"
     ]
    },
    {
     "data": {
      "text/plain": [
       "<matplotlib.collections.PathCollection at 0x1fc1572e100>"
      ]
     },
     "execution_count": 99,
     "metadata": {},
     "output_type": "execute_result"
    },
    {
     "data": {
      "image/svg+xml": "<?xml version=\"1.0\" encoding=\"utf-8\" standalone=\"no\"?>\r\n<!DOCTYPE svg PUBLIC \"-//W3C//DTD SVG 1.1//EN\"\r\n  \"http://www.w3.org/Graphics/SVG/1.1/DTD/svg11.dtd\">\r\n<svg height=\"166.978125pt\" version=\"1.1\" viewBox=\"0 0 231.442187 166.978125\" width=\"231.442187pt\" xmlns=\"http://www.w3.org/2000/svg\" xmlns:xlink=\"http://www.w3.org/1999/xlink\">\r\n <metadata>\r\n  <rdf:RDF xmlns:cc=\"http://creativecommons.org/ns#\" xmlns:dc=\"http://purl.org/dc/elements/1.1/\" xmlns:rdf=\"http://www.w3.org/1999/02/22-rdf-syntax-ns#\">\r\n   <cc:Work>\r\n    <dc:type rdf:resource=\"http://purl.org/dc/dcmitype/StillImage\"/>\r\n    <dc:date>2022-03-26T19:03:25.018292</dc:date>\r\n    <dc:format>image/svg+xml</dc:format>\r\n    <dc:creator>\r\n     <cc:Agent>\r\n      <dc:title>Matplotlib v3.4.3, https://matplotlib.org/</dc:title>\r\n     </cc:Agent>\r\n    </dc:creator>\r\n   </cc:Work>\r\n  </rdf:RDF>\r\n </metadata>\r\n <defs>\r\n  <style type=\"text/css\">*{stroke-linecap:butt;stroke-linejoin:round;}</style>\r\n </defs>\r\n <g id=\"figure_1\">\r\n  <g id=\"patch_1\">\r\n   <path d=\"M 0 166.978125 \r\nL 231.442187 166.978125 \r\nL 231.442187 0 \r\nL 0 0 \r\nz\r\n\" style=\"fill:none;\"/>\r\n  </g>\r\n  <g id=\"axes_1\">\r\n   <g id=\"patch_2\">\r\n    <path d=\"M 28.942188 143.1 \r\nL 224.242188 143.1 \r\nL 224.242188 7.2 \r\nL 28.942188 7.2 \r\nz\r\n\" style=\"fill:#ffffff;\"/>\r\n   </g>\r\n   <g id=\"PathCollection_1\">\r\n    <defs>\r\n     <path d=\"M 0 0.5 \r\nC 0.132602 0.5 0.25979 0.447317 0.353553 0.353553 \r\nC 0.447317 0.25979 0.5 0.132602 0.5 0 \r\nC 0.5 -0.132602 0.447317 -0.25979 0.353553 -0.353553 \r\nC 0.25979 -0.447317 0.132602 -0.5 0 -0.5 \r\nC -0.132602 -0.5 -0.25979 -0.447317 -0.353553 -0.353553 \r\nC -0.447317 -0.25979 -0.5 -0.132602 -0.5 0 \r\nC -0.5 0.132602 -0.447317 0.25979 -0.353553 0.353553 \r\nC -0.25979 0.447317 -0.132602 0.5 0 0.5 \r\nz\r\n\" id=\"m459afa4ae4\" style=\"stroke:#1f77b4;\"/>\r\n    </defs>\r\n    <g clip-path=\"url(#pddddaf2c6b)\">\r\n     <use style=\"fill:#1f77b4;stroke:#1f77b4;\" x=\"183.132464\" xlink:href=\"#m459afa4ae4\" y=\"123.456932\"/>\r\n     <use style=\"fill:#1f77b4;stroke:#1f77b4;\" x=\"73.883294\" xlink:href=\"#m459afa4ae4\" y=\"24.430328\"/>\r\n     <use style=\"fill:#1f77b4;stroke:#1f77b4;\" x=\"121.285224\" xlink:href=\"#m459afa4ae4\" y=\"88.429574\"/>\r\n     <use style=\"fill:#1f77b4;stroke:#1f77b4;\" x=\"89.600913\" xlink:href=\"#m459afa4ae4\" y=\"52.065468\"/>\r\n     <use style=\"fill:#1f77b4;stroke:#1f77b4;\" x=\"74.753982\" xlink:href=\"#m459afa4ae4\" y=\"60.141589\"/>\r\n     <use style=\"fill:#1f77b4;stroke:#1f77b4;\" x=\"107.595194\" xlink:href=\"#m459afa4ae4\" y=\"59.682358\"/>\r\n     <use style=\"fill:#1f77b4;stroke:#1f77b4;\" x=\"123.303167\" xlink:href=\"#m459afa4ae4\" y=\"71.786875\"/>\r\n     <use style=\"fill:#1f77b4;stroke:#1f77b4;\" x=\"85.095672\" xlink:href=\"#m459afa4ae4\" y=\"74.968423\"/>\r\n     <use style=\"fill:#1f77b4;stroke:#1f77b4;\" x=\"95.051025\" xlink:href=\"#m459afa4ae4\" y=\"49.691682\"/>\r\n     <use style=\"fill:#1f77b4;stroke:#1f77b4;\" x=\"158.589298\" xlink:href=\"#m459afa4ae4\" y=\"98.751539\"/>\r\n     <use style=\"fill:#1f77b4;stroke:#1f77b4;\" x=\"134.911097\" xlink:href=\"#m459afa4ae4\" y=\"81.284245\"/>\r\n     <use style=\"fill:#1f77b4;stroke:#1f77b4;\" x=\"84.752486\" xlink:href=\"#m459afa4ae4\" y=\"63.560223\"/>\r\n     <use style=\"fill:#1f77b4;stroke:#1f77b4;\" x=\"118.466227\" xlink:href=\"#m459afa4ae4\" y=\"74.158788\"/>\r\n     <use style=\"fill:#1f77b4;stroke:#1f77b4;\" x=\"122.725498\" xlink:href=\"#m459afa4ae4\" y=\"80.386834\"/>\r\n     <use style=\"fill:#1f77b4;stroke:#1f77b4;\" x=\"124.839075\" xlink:href=\"#m459afa4ae4\" y=\"67.806952\"/>\r\n     <use style=\"fill:#1f77b4;stroke:#1f77b4;\" x=\"134.073956\" xlink:href=\"#m459afa4ae4\" y=\"87.554455\"/>\r\n     <use style=\"fill:#1f77b4;stroke:#1f77b4;\" x=\"73.403608\" xlink:href=\"#m459afa4ae4\" y=\"41.128691\"/>\r\n     <use style=\"fill:#1f77b4;stroke:#1f77b4;\" x=\"127.207536\" xlink:href=\"#m459afa4ae4\" y=\"93.528901\"/>\r\n     <use style=\"fill:#1f77b4;stroke:#1f77b4;\" x=\"100.975896\" xlink:href=\"#m459afa4ae4\" y=\"57.569196\"/>\r\n     <use style=\"fill:#1f77b4;stroke:#1f77b4;\" x=\"124.684663\" xlink:href=\"#m459afa4ae4\" y=\"78.280084\"/>\r\n     <use style=\"fill:#1f77b4;stroke:#1f77b4;\" x=\"162.506743\" xlink:href=\"#m459afa4ae4\" y=\"113.648643\"/>\r\n     <use style=\"fill:#1f77b4;stroke:#1f77b4;\" x=\"123.215084\" xlink:href=\"#m459afa4ae4\" y=\"79.799919\"/>\r\n     <use style=\"fill:#1f77b4;stroke:#1f77b4;\" x=\"120.259276\" xlink:href=\"#m459afa4ae4\" y=\"76.419357\"/>\r\n     <use style=\"fill:#1f77b4;stroke:#1f77b4;\" x=\"145.869907\" xlink:href=\"#m459afa4ae4\" y=\"104.062133\"/>\r\n     <use style=\"fill:#1f77b4;stroke:#1f77b4;\" x=\"138.935335\" xlink:href=\"#m459afa4ae4\" y=\"89.314768\"/>\r\n     <use style=\"fill:#1f77b4;stroke:#1f77b4;\" x=\"175.239809\" xlink:href=\"#m459afa4ae4\" y=\"97.034096\"/>\r\n     <use style=\"fill:#1f77b4;stroke:#1f77b4;\" x=\"147.619636\" xlink:href=\"#m459afa4ae4\" y=\"74.085986\"/>\r\n     <use style=\"fill:#1f77b4;stroke:#1f77b4;\" x=\"108.829858\" xlink:href=\"#m459afa4ae4\" y=\"88.576748\"/>\r\n     <use style=\"fill:#1f77b4;stroke:#1f77b4;\" x=\"122.766444\" xlink:href=\"#m459afa4ae4\" y=\"72.852821\"/>\r\n     <use style=\"fill:#1f77b4;stroke:#1f77b4;\" x=\"140.285883\" xlink:href=\"#m459afa4ae4\" y=\"112.013853\"/>\r\n     <use style=\"fill:#1f77b4;stroke:#1f77b4;\" x=\"145.179046\" xlink:href=\"#m459afa4ae4\" y=\"79.083911\"/>\r\n     <use style=\"fill:#1f77b4;stroke:#1f77b4;\" x=\"76.340274\" xlink:href=\"#m459afa4ae4\" y=\"64.264083\"/>\r\n     <use style=\"fill:#1f77b4;stroke:#1f77b4;\" x=\"157.204355\" xlink:href=\"#m459afa4ae4\" y=\"102.878073\"/>\r\n     <use style=\"fill:#1f77b4;stroke:#1f77b4;\" x=\"94.770154\" xlink:href=\"#m459afa4ae4\" y=\"59.17429\"/>\r\n     <use style=\"fill:#1f77b4;stroke:#1f77b4;\" x=\"159.862424\" xlink:href=\"#m459afa4ae4\" y=\"103.73321\"/>\r\n     <use style=\"fill:#1f77b4;stroke:#1f77b4;\" x=\"82.361601\" xlink:href=\"#m459afa4ae4\" y=\"52.588516\"/>\r\n     <use style=\"fill:#1f77b4;stroke:#1f77b4;\" x=\"161.457847\" xlink:href=\"#m459afa4ae4\" y=\"91.623892\"/>\r\n     <use style=\"fill:#1f77b4;stroke:#1f77b4;\" x=\"129.268068\" xlink:href=\"#m459afa4ae4\" y=\"86.138258\"/>\r\n     <use style=\"fill:#1f77b4;stroke:#1f77b4;\" x=\"143.081848\" xlink:href=\"#m459afa4ae4\" y=\"87.623257\"/>\r\n     <use style=\"fill:#1f77b4;stroke:#1f77b4;\" x=\"79.251802\" xlink:href=\"#m459afa4ae4\" y=\"63.230644\"/>\r\n     <use style=\"fill:#1f77b4;stroke:#1f77b4;\" x=\"132.409144\" xlink:href=\"#m459afa4ae4\" y=\"84.476017\"/>\r\n     <use style=\"fill:#1f77b4;stroke:#1f77b4;\" x=\"97.932448\" xlink:href=\"#m459afa4ae4\" y=\"63.578236\"/>\r\n     <use style=\"fill:#1f77b4;stroke:#1f77b4;\" x=\"201.683158\" xlink:href=\"#m459afa4ae4\" y=\"130.567126\"/>\r\n     <use style=\"fill:#1f77b4;stroke:#1f77b4;\" x=\"144.697716\" xlink:href=\"#m459afa4ae4\" y=\"72.396065\"/>\r\n     <use style=\"fill:#1f77b4;stroke:#1f77b4;\" x=\"143.8321\" xlink:href=\"#m459afa4ae4\" y=\"103.250213\"/>\r\n     <use style=\"fill:#1f77b4;stroke:#1f77b4;\" x=\"133.209705\" xlink:href=\"#m459afa4ae4\" y=\"112.678924\"/>\r\n     <use style=\"fill:#1f77b4;stroke:#1f77b4;\" x=\"78.042575\" xlink:href=\"#m459afa4ae4\" y=\"38.251684\"/>\r\n     <use style=\"fill:#1f77b4;stroke:#1f77b4;\" x=\"126.951308\" xlink:href=\"#m459afa4ae4\" y=\"81.059824\"/>\r\n     <use style=\"fill:#1f77b4;stroke:#1f77b4;\" x=\"124.929592\" xlink:href=\"#m459afa4ae4\" y=\"95.402235\"/>\r\n     <use style=\"fill:#1f77b4;stroke:#1f77b4;\" x=\"115.921941\" xlink:href=\"#m459afa4ae4\" y=\"59.592289\"/>\r\n     <use style=\"fill:#1f77b4;stroke:#1f77b4;\" x=\"136.787236\" xlink:href=\"#m459afa4ae4\" y=\"90.750293\"/>\r\n     <use style=\"fill:#1f77b4;stroke:#1f77b4;\" x=\"93.835939\" xlink:href=\"#m459afa4ae4\" y=\"81.778426\"/>\r\n     <use style=\"fill:#1f77b4;stroke:#1f77b4;\" x=\"111.909742\" xlink:href=\"#m459afa4ae4\" y=\"61.106409\"/>\r\n     <use style=\"fill:#1f77b4;stroke:#1f77b4;\" x=\"66.410595\" xlink:href=\"#m459afa4ae4\" y=\"39.567131\"/>\r\n     <use style=\"fill:#1f77b4;stroke:#1f77b4;\" x=\"146.207709\" xlink:href=\"#m459afa4ae4\" y=\"90.616692\"/>\r\n     <use style=\"fill:#1f77b4;stroke:#1f77b4;\" x=\"137.963422\" xlink:href=\"#m459afa4ae4\" y=\"108.058919\"/>\r\n     <use style=\"fill:#1f77b4;stroke:#1f77b4;\" x=\"139.166442\" xlink:href=\"#m459afa4ae4\" y=\"89.080981\"/>\r\n     <use style=\"fill:#1f77b4;stroke:#1f77b4;\" x=\"105.093986\" xlink:href=\"#m459afa4ae4\" y=\"57.898488\"/>\r\n     <use style=\"fill:#1f77b4;stroke:#1f77b4;\" x=\"108.103573\" xlink:href=\"#m459afa4ae4\" y=\"66.763062\"/>\r\n     <use style=\"fill:#1f77b4;stroke:#1f77b4;\" x=\"156.367911\" xlink:href=\"#m459afa4ae4\" y=\"105.669065\"/>\r\n     <use style=\"fill:#1f77b4;stroke:#1f77b4;\" x=\"148.249393\" xlink:href=\"#m459afa4ae4\" y=\"96.528335\"/>\r\n     <use style=\"fill:#1f77b4;stroke:#1f77b4;\" x=\"138.399341\" xlink:href=\"#m459afa4ae4\" y=\"89.596714\"/>\r\n     <use style=\"fill:#1f77b4;stroke:#1f77b4;\" x=\"104.622406\" xlink:href=\"#m459afa4ae4\" y=\"80.197917\"/>\r\n     <use style=\"fill:#1f77b4;stroke:#1f77b4;\" x=\"125.756038\" xlink:href=\"#m459afa4ae4\" y=\"79.079098\"/>\r\n     <use style=\"fill:#1f77b4;stroke:#1f77b4;\" x=\"132.772476\" xlink:href=\"#m459afa4ae4\" y=\"84.030488\"/>\r\n     <use style=\"fill:#1f77b4;stroke:#1f77b4;\" x=\"94.691474\" xlink:href=\"#m459afa4ae4\" y=\"58.958211\"/>\r\n     <use style=\"fill:#1f77b4;stroke:#1f77b4;\" x=\"128.577238\" xlink:href=\"#m459afa4ae4\" y=\"77.532501\"/>\r\n     <use style=\"fill:#1f77b4;stroke:#1f77b4;\" x=\"161.728116\" xlink:href=\"#m459afa4ae4\" y=\"88.198943\"/>\r\n     <use style=\"fill:#1f77b4;stroke:#1f77b4;\" x=\"178.804365\" xlink:href=\"#m459afa4ae4\" y=\"99.458517\"/>\r\n     <use style=\"fill:#1f77b4;stroke:#1f77b4;\" x=\"87.818169\" xlink:href=\"#m459afa4ae4\" y=\"44.473562\"/>\r\n     <use style=\"fill:#1f77b4;stroke:#1f77b4;\" x=\"106.044259\" xlink:href=\"#m459afa4ae4\" y=\"65.580615\"/>\r\n     <use style=\"fill:#1f77b4;stroke:#1f77b4;\" x=\"159.996574\" xlink:href=\"#m459afa4ae4\" y=\"106.001472\"/>\r\n     <use style=\"fill:#1f77b4;stroke:#1f77b4;\" x=\"112.717181\" xlink:href=\"#m459afa4ae4\" y=\"69.273464\"/>\r\n     <use style=\"fill:#1f77b4;stroke:#1f77b4;\" x=\"186.056202\" xlink:href=\"#m459afa4ae4\" y=\"124.312347\"/>\r\n     <use style=\"fill:#1f77b4;stroke:#1f77b4;\" x=\"97.929334\" xlink:href=\"#m459afa4ae4\" y=\"45.248103\"/>\r\n     <use style=\"fill:#1f77b4;stroke:#1f77b4;\" x=\"130.756392\" xlink:href=\"#m459afa4ae4\" y=\"94.084526\"/>\r\n     <use style=\"fill:#1f77b4;stroke:#1f77b4;\" x=\"105.980654\" xlink:href=\"#m459afa4ae4\" y=\"77.987752\"/>\r\n     <use style=\"fill:#1f77b4;stroke:#1f77b4;\" x=\"125.542657\" xlink:href=\"#m459afa4ae4\" y=\"91.359827\"/>\r\n     <use style=\"fill:#1f77b4;stroke:#1f77b4;\" x=\"123.949557\" xlink:href=\"#m459afa4ae4\" y=\"68.712078\"/>\r\n     <use style=\"fill:#1f77b4;stroke:#1f77b4;\" x=\"113.385513\" xlink:href=\"#m459afa4ae4\" y=\"73.835334\"/>\r\n     <use style=\"fill:#1f77b4;stroke:#1f77b4;\" x=\"123.589955\" xlink:href=\"#m459afa4ae4\" y=\"94.561075\"/>\r\n     <use style=\"fill:#1f77b4;stroke:#1f77b4;\" x=\"92.892695\" xlink:href=\"#m459afa4ae4\" y=\"63.468767\"/>\r\n     <use style=\"fill:#1f77b4;stroke:#1f77b4;\" x=\"134.200417\" xlink:href=\"#m459afa4ae4\" y=\"102.312773\"/>\r\n     <use style=\"fill:#1f77b4;stroke:#1f77b4;\" x=\"150.832722\" xlink:href=\"#m459afa4ae4\" y=\"102.138658\"/>\r\n     <use style=\"fill:#1f77b4;stroke:#1f77b4;\" x=\"96.024539\" xlink:href=\"#m459afa4ae4\" y=\"63.437052\"/>\r\n     <use style=\"fill:#1f77b4;stroke:#1f77b4;\" x=\"126.912929\" xlink:href=\"#m459afa4ae4\" y=\"62.80974\"/>\r\n     <use style=\"fill:#1f77b4;stroke:#1f77b4;\" x=\"105.717583\" xlink:href=\"#m459afa4ae4\" y=\"57.460593\"/>\r\n     <use style=\"fill:#1f77b4;stroke:#1f77b4;\" x=\"181.144786\" xlink:href=\"#m459afa4ae4\" y=\"108.310725\"/>\r\n     <use style=\"fill:#1f77b4;stroke:#1f77b4;\" x=\"159.357387\" xlink:href=\"#m459afa4ae4\" y=\"104.903788\"/>\r\n     <use style=\"fill:#1f77b4;stroke:#1f77b4;\" x=\"88.388132\" xlink:href=\"#m459afa4ae4\" y=\"73.314436\"/>\r\n     <use style=\"fill:#1f77b4;stroke:#1f77b4;\" x=\"97.857513\" xlink:href=\"#m459afa4ae4\" y=\"52.240999\"/>\r\n     <use style=\"fill:#1f77b4;stroke:#1f77b4;\" x=\"129.032514\" xlink:href=\"#m459afa4ae4\" y=\"87.428592\"/>\r\n     <use style=\"fill:#1f77b4;stroke:#1f77b4;\" x=\"175.958193\" xlink:href=\"#m459afa4ae4\" y=\"106.01662\"/>\r\n     <use style=\"fill:#1f77b4;stroke:#1f77b4;\" x=\"140.290896\" xlink:href=\"#m459afa4ae4\" y=\"93.347224\"/>\r\n     <use style=\"fill:#1f77b4;stroke:#1f77b4;\" x=\"136.493905\" xlink:href=\"#m459afa4ae4\" y=\"79.625908\"/>\r\n     <use style=\"fill:#1f77b4;stroke:#1f77b4;\" x=\"80.254023\" xlink:href=\"#m459afa4ae4\" y=\"46.846338\"/>\r\n     <use style=\"fill:#1f77b4;stroke:#1f77b4;\" x=\"165.775428\" xlink:href=\"#m459afa4ae4\" y=\"118.120005\"/>\r\n     <use style=\"fill:#1f77b4;stroke:#1f77b4;\" x=\"134.589684\" xlink:href=\"#m459afa4ae4\" y=\"79.62834\"/>\r\n     <use style=\"fill:#1f77b4;stroke:#1f77b4;\" x=\"123.579665\" xlink:href=\"#m459afa4ae4\" y=\"92.882103\"/>\r\n     <use style=\"fill:#1f77b4;stroke:#1f77b4;\" x=\"127.717585\" xlink:href=\"#m459afa4ae4\" y=\"89.829634\"/>\r\n     <use style=\"fill:#1f77b4;stroke:#1f77b4;\" x=\"114.008281\" xlink:href=\"#m459afa4ae4\" y=\"79.270483\"/>\r\n     <use style=\"fill:#1f77b4;stroke:#1f77b4;\" x=\"130.931656\" xlink:href=\"#m459afa4ae4\" y=\"75.899061\"/>\r\n     <use style=\"fill:#1f77b4;stroke:#1f77b4;\" x=\"119.2832\" xlink:href=\"#m459afa4ae4\" y=\"87.209447\"/>\r\n     <use style=\"fill:#1f77b4;stroke:#1f77b4;\" x=\"104.720283\" xlink:href=\"#m459afa4ae4\" y=\"62.210171\"/>\r\n     <use style=\"fill:#1f77b4;stroke:#1f77b4;\" x=\"144.170983\" xlink:href=\"#m459afa4ae4\" y=\"97.427727\"/>\r\n     <use style=\"fill:#1f77b4;stroke:#1f77b4;\" x=\"72.641223\" xlink:href=\"#m459afa4ae4\" y=\"28.300285\"/>\r\n     <use style=\"fill:#1f77b4;stroke:#1f77b4;\" x=\"92.801775\" xlink:href=\"#m459afa4ae4\" y=\"86.013534\"/>\r\n     <use style=\"fill:#1f77b4;stroke:#1f77b4;\" x=\"132.257049\" xlink:href=\"#m459afa4ae4\" y=\"90.642244\"/>\r\n     <use style=\"fill:#1f77b4;stroke:#1f77b4;\" x=\"159.371608\" xlink:href=\"#m459afa4ae4\" y=\"94.436281\"/>\r\n     <use style=\"fill:#1f77b4;stroke:#1f77b4;\" x=\"131.274195\" xlink:href=\"#m459afa4ae4\" y=\"72.670184\"/>\r\n     <use style=\"fill:#1f77b4;stroke:#1f77b4;\" x=\"114.445472\" xlink:href=\"#m459afa4ae4\" y=\"74.213231\"/>\r\n     <use style=\"fill:#1f77b4;stroke:#1f77b4;\" x=\"97.499837\" xlink:href=\"#m459afa4ae4\" y=\"71.491486\"/>\r\n     <use style=\"fill:#1f77b4;stroke:#1f77b4;\" x=\"107.487208\" xlink:href=\"#m459afa4ae4\" y=\"72.854902\"/>\r\n     <use style=\"fill:#1f77b4;stroke:#1f77b4;\" x=\"143.182524\" xlink:href=\"#m459afa4ae4\" y=\"120.615684\"/>\r\n     <use style=\"fill:#1f77b4;stroke:#1f77b4;\" x=\"125.210829\" xlink:href=\"#m459afa4ae4\" y=\"86.494199\"/>\r\n     <use style=\"fill:#1f77b4;stroke:#1f77b4;\" x=\"155.442032\" xlink:href=\"#m459afa4ae4\" y=\"105.27697\"/>\r\n     <use style=\"fill:#1f77b4;stroke:#1f77b4;\" x=\"112.914426\" xlink:href=\"#m459afa4ae4\" y=\"65.099332\"/>\r\n     <use style=\"fill:#1f77b4;stroke:#1f77b4;\" x=\"166.514901\" xlink:href=\"#m459afa4ae4\" y=\"107.700924\"/>\r\n     <use style=\"fill:#1f77b4;stroke:#1f77b4;\" x=\"113.50111\" xlink:href=\"#m459afa4ae4\" y=\"68.54789\"/>\r\n     <use style=\"fill:#1f77b4;stroke:#1f77b4;\" x=\"123.520218\" xlink:href=\"#m459afa4ae4\" y=\"59.668241\"/>\r\n     <use style=\"fill:#1f77b4;stroke:#1f77b4;\" x=\"104.520868\" xlink:href=\"#m459afa4ae4\" y=\"59.580646\"/>\r\n     <use style=\"fill:#1f77b4;stroke:#1f77b4;\" x=\"170.647616\" xlink:href=\"#m459afa4ae4\" y=\"108.93884\"/>\r\n     <use style=\"fill:#1f77b4;stroke:#1f77b4;\" x=\"90.499637\" xlink:href=\"#m459afa4ae4\" y=\"57.522714\"/>\r\n     <use style=\"fill:#1f77b4;stroke:#1f77b4;\" x=\"120.81566\" xlink:href=\"#m459afa4ae4\" y=\"43.934801\"/>\r\n     <use style=\"fill:#1f77b4;stroke:#1f77b4;\" x=\"104.655006\" xlink:href=\"#m459afa4ae4\" y=\"89.191367\"/>\r\n     <use style=\"fill:#1f77b4;stroke:#1f77b4;\" x=\"84.10053\" xlink:href=\"#m459afa4ae4\" y=\"54.345913\"/>\r\n     <use style=\"fill:#1f77b4;stroke:#1f77b4;\" x=\"64.999061\" xlink:href=\"#m459afa4ae4\" y=\"35.068747\"/>\r\n     <use style=\"fill:#1f77b4;stroke:#1f77b4;\" x=\"141.068706\" xlink:href=\"#m459afa4ae4\" y=\"87.804251\"/>\r\n     <use style=\"fill:#1f77b4;stroke:#1f77b4;\" x=\"102.934794\" xlink:href=\"#m459afa4ae4\" y=\"71.056307\"/>\r\n     <use style=\"fill:#1f77b4;stroke:#1f77b4;\" x=\"139.489186\" xlink:href=\"#m459afa4ae4\" y=\"103.681935\"/>\r\n     <use style=\"fill:#1f77b4;stroke:#1f77b4;\" x=\"86.588018\" xlink:href=\"#m459afa4ae4\" y=\"39.366952\"/>\r\n     <use style=\"fill:#1f77b4;stroke:#1f77b4;\" x=\"133.155197\" xlink:href=\"#m459afa4ae4\" y=\"99.26369\"/>\r\n     <use style=\"fill:#1f77b4;stroke:#1f77b4;\" x=\"121.926092\" xlink:href=\"#m459afa4ae4\" y=\"69.928505\"/>\r\n     <use style=\"fill:#1f77b4;stroke:#1f77b4;\" x=\"80.861825\" xlink:href=\"#m459afa4ae4\" y=\"39.014443\"/>\r\n     <use style=\"fill:#1f77b4;stroke:#1f77b4;\" x=\"149.391122\" xlink:href=\"#m459afa4ae4\" y=\"125.235416\"/>\r\n     <use style=\"fill:#1f77b4;stroke:#1f77b4;\" x=\"103.89734\" xlink:href=\"#m459afa4ae4\" y=\"63.889847\"/>\r\n     <use style=\"fill:#1f77b4;stroke:#1f77b4;\" x=\"119.557853\" xlink:href=\"#m459afa4ae4\" y=\"66.279786\"/>\r\n     <use style=\"fill:#1f77b4;stroke:#1f77b4;\" x=\"92.989035\" xlink:href=\"#m459afa4ae4\" y=\"81.732524\"/>\r\n     <use style=\"fill:#1f77b4;stroke:#1f77b4;\" x=\"153.742846\" xlink:href=\"#m459afa4ae4\" y=\"117.148331\"/>\r\n     <use style=\"fill:#1f77b4;stroke:#1f77b4;\" x=\"104.033169\" xlink:href=\"#m459afa4ae4\" y=\"79.522812\"/>\r\n     <use style=\"fill:#1f77b4;stroke:#1f77b4;\" x=\"147.961343\" xlink:href=\"#m459afa4ae4\" y=\"85.927927\"/>\r\n     <use style=\"fill:#1f77b4;stroke:#1f77b4;\" x=\"89.724673\" xlink:href=\"#m459afa4ae4\" y=\"41.216461\"/>\r\n     <use style=\"fill:#1f77b4;stroke:#1f77b4;\" x=\"113.877084\" xlink:href=\"#m459afa4ae4\" y=\"71.910738\"/>\r\n     <use style=\"fill:#1f77b4;stroke:#1f77b4;\" x=\"117.648317\" xlink:href=\"#m459afa4ae4\" y=\"77.517224\"/>\r\n     <use style=\"fill:#1f77b4;stroke:#1f77b4;\" x=\"137.802555\" xlink:href=\"#m459afa4ae4\" y=\"111.938404\"/>\r\n     <use style=\"fill:#1f77b4;stroke:#1f77b4;\" x=\"125.98035\" xlink:href=\"#m459afa4ae4\" y=\"90.058756\"/>\r\n     <use style=\"fill:#1f77b4;stroke:#1f77b4;\" x=\"122.505802\" xlink:href=\"#m459afa4ae4\" y=\"82.699783\"/>\r\n     <use style=\"fill:#1f77b4;stroke:#1f77b4;\" x=\"111.322178\" xlink:href=\"#m459afa4ae4\" y=\"74.005546\"/>\r\n     <use style=\"fill:#1f77b4;stroke:#1f77b4;\" x=\"131.764659\" xlink:href=\"#m459afa4ae4\" y=\"72.236027\"/>\r\n     <use style=\"fill:#1f77b4;stroke:#1f77b4;\" x=\"127.869524\" xlink:href=\"#m459afa4ae4\" y=\"70.416019\"/>\r\n     <use style=\"fill:#1f77b4;stroke:#1f77b4;\" x=\"141.493646\" xlink:href=\"#m459afa4ae4\" y=\"84.942031\"/>\r\n     <use style=\"fill:#1f77b4;stroke:#1f77b4;\" x=\"112.821009\" xlink:href=\"#m459afa4ae4\" y=\"74.512129\"/>\r\n     <use style=\"fill:#1f77b4;stroke:#1f77b4;\" x=\"124.371241\" xlink:href=\"#m459afa4ae4\" y=\"80.479159\"/>\r\n     <use style=\"fill:#1f77b4;stroke:#1f77b4;\" x=\"88.800796\" xlink:href=\"#m459afa4ae4\" y=\"58.580947\"/>\r\n     <use style=\"fill:#1f77b4;stroke:#1f77b4;\" x=\"133.480113\" xlink:href=\"#m459afa4ae4\" y=\"93.231612\"/>\r\n     <use style=\"fill:#1f77b4;stroke:#1f77b4;\" x=\"91.706007\" xlink:href=\"#m459afa4ae4\" y=\"49.575277\"/>\r\n     <use style=\"fill:#1f77b4;stroke:#1f77b4;\" x=\"131.20912\" xlink:href=\"#m459afa4ae4\" y=\"78.370502\"/>\r\n     <use style=\"fill:#1f77b4;stroke:#1f77b4;\" x=\"115.571805\" xlink:href=\"#m459afa4ae4\" y=\"73.452638\"/>\r\n     <use style=\"fill:#1f77b4;stroke:#1f77b4;\" x=\"137.057114\" xlink:href=\"#m459afa4ae4\" y=\"66.991186\"/>\r\n     <use style=\"fill:#1f77b4;stroke:#1f77b4;\" x=\"154.247579\" xlink:href=\"#m459afa4ae4\" y=\"90.043548\"/>\r\n     <use style=\"fill:#1f77b4;stroke:#1f77b4;\" x=\"119.446781\" xlink:href=\"#m459afa4ae4\" y=\"77.666001\"/>\r\n     <use style=\"fill:#1f77b4;stroke:#1f77b4;\" x=\"141.294804\" xlink:href=\"#m459afa4ae4\" y=\"99.538475\"/>\r\n     <use style=\"fill:#1f77b4;stroke:#1f77b4;\" x=\"129.785294\" xlink:href=\"#m459afa4ae4\" y=\"75.88556\"/>\r\n     <use style=\"fill:#1f77b4;stroke:#1f77b4;\" x=\"149.636895\" xlink:href=\"#m459afa4ae4\" y=\"99.842816\"/>\r\n     <use style=\"fill:#1f77b4;stroke:#1f77b4;\" x=\"132.201432\" xlink:href=\"#m459afa4ae4\" y=\"70.794584\"/>\r\n     <use style=\"fill:#1f77b4;stroke:#1f77b4;\" x=\"103.986779\" xlink:href=\"#m459afa4ae4\" y=\"58.831014\"/>\r\n     <use style=\"fill:#1f77b4;stroke:#1f77b4;\" x=\"66.492734\" xlink:href=\"#m459afa4ae4\" y=\"37.899968\"/>\r\n     <use style=\"fill:#1f77b4;stroke:#1f77b4;\" x=\"156.413297\" xlink:href=\"#m459afa4ae4\" y=\"102.387534\"/>\r\n     <use style=\"fill:#1f77b4;stroke:#1f77b4;\" x=\"133.870423\" xlink:href=\"#m459afa4ae4\" y=\"73.33672\"/>\r\n     <use style=\"fill:#1f77b4;stroke:#1f77b4;\" x=\"121.466046\" xlink:href=\"#m459afa4ae4\" y=\"71.228448\"/>\r\n     <use style=\"fill:#1f77b4;stroke:#1f77b4;\" x=\"101.693963\" xlink:href=\"#m459afa4ae4\" y=\"79.577103\"/>\r\n     <use style=\"fill:#1f77b4;stroke:#1f77b4;\" x=\"126.730336\" xlink:href=\"#m459afa4ae4\" y=\"92.203637\"/>\r\n     <use style=\"fill:#1f77b4;stroke:#1f77b4;\" x=\"152.567465\" xlink:href=\"#m459afa4ae4\" y=\"111.200755\"/>\r\n     <use style=\"fill:#1f77b4;stroke:#1f77b4;\" x=\"141.592186\" xlink:href=\"#m459afa4ae4\" y=\"75.651253\"/>\r\n     <use style=\"fill:#1f77b4;stroke:#1f77b4;\" x=\"153.460888\" xlink:href=\"#m459afa4ae4\" y=\"99.831743\"/>\r\n     <use style=\"fill:#1f77b4;stroke:#1f77b4;\" x=\"150.335201\" xlink:href=\"#m459afa4ae4\" y=\"94.079461\"/>\r\n     <use style=\"fill:#1f77b4;stroke:#1f77b4;\" x=\"118.095803\" xlink:href=\"#m459afa4ae4\" y=\"68.852294\"/>\r\n     <use style=\"fill:#1f77b4;stroke:#1f77b4;\" x=\"141.605999\" xlink:href=\"#m459afa4ae4\" y=\"79.17593\"/>\r\n     <use style=\"fill:#1f77b4;stroke:#1f77b4;\" x=\"119.761896\" xlink:href=\"#m459afa4ae4\" y=\"82.544827\"/>\r\n     <use style=\"fill:#1f77b4;stroke:#1f77b4;\" x=\"136.764829\" xlink:href=\"#m459afa4ae4\" y=\"79.915619\"/>\r\n     <use style=\"fill:#1f77b4;stroke:#1f77b4;\" x=\"92.551584\" xlink:href=\"#m459afa4ae4\" y=\"59.047392\"/>\r\n     <use style=\"fill:#1f77b4;stroke:#1f77b4;\" x=\"93.581502\" xlink:href=\"#m459afa4ae4\" y=\"75.240893\"/>\r\n     <use style=\"fill:#1f77b4;stroke:#1f77b4;\" x=\"122.885286\" xlink:href=\"#m459afa4ae4\" y=\"79.483787\"/>\r\n     <use style=\"fill:#1f77b4;stroke:#1f77b4;\" x=\"116.857627\" xlink:href=\"#m459afa4ae4\" y=\"55.694756\"/>\r\n     <use style=\"fill:#1f77b4;stroke:#1f77b4;\" x=\"62.538529\" xlink:href=\"#m459afa4ae4\" y=\"38.266297\"/>\r\n     <use style=\"fill:#1f77b4;stroke:#1f77b4;\" x=\"146.083187\" xlink:href=\"#m459afa4ae4\" y=\"93.791455\"/>\r\n     <use style=\"fill:#1f77b4;stroke:#1f77b4;\" x=\"106.505747\" xlink:href=\"#m459afa4ae4\" y=\"46.435464\"/>\r\n     <use style=\"fill:#1f77b4;stroke:#1f77b4;\" x=\"118.994138\" xlink:href=\"#m459afa4ae4\" y=\"74.218962\"/>\r\n     <use style=\"fill:#1f77b4;stroke:#1f77b4;\" x=\"121.98337\" xlink:href=\"#m459afa4ae4\" y=\"103.201025\"/>\r\n     <use style=\"fill:#1f77b4;stroke:#1f77b4;\" x=\"152.923728\" xlink:href=\"#m459afa4ae4\" y=\"86.215635\"/>\r\n     <use style=\"fill:#1f77b4;stroke:#1f77b4;\" x=\"110.123854\" xlink:href=\"#m459afa4ae4\" y=\"71.070215\"/>\r\n     <use style=\"fill:#1f77b4;stroke:#1f77b4;\" x=\"138.154965\" xlink:href=\"#m459afa4ae4\" y=\"56.294447\"/>\r\n     <use style=\"fill:#1f77b4;stroke:#1f77b4;\" x=\"131.853224\" xlink:href=\"#m459afa4ae4\" y=\"88.48479\"/>\r\n     <use style=\"fill:#1f77b4;stroke:#1f77b4;\" x=\"127.854659\" xlink:href=\"#m459afa4ae4\" y=\"91.894466\"/>\r\n     <use style=\"fill:#1f77b4;stroke:#1f77b4;\" x=\"99.153702\" xlink:href=\"#m459afa4ae4\" y=\"68.976949\"/>\r\n     <use style=\"fill:#1f77b4;stroke:#1f77b4;\" x=\"124.142538\" xlink:href=\"#m459afa4ae4\" y=\"77.136262\"/>\r\n     <use style=\"fill:#1f77b4;stroke:#1f77b4;\" x=\"141.649376\" xlink:href=\"#m459afa4ae4\" y=\"66.030276\"/>\r\n     <use style=\"fill:#1f77b4;stroke:#1f77b4;\" x=\"163.400853\" xlink:href=\"#m459afa4ae4\" y=\"92.471267\"/>\r\n     <use style=\"fill:#1f77b4;stroke:#1f77b4;\" x=\"174.064119\" xlink:href=\"#m459afa4ae4\" y=\"111.375564\"/>\r\n     <use style=\"fill:#1f77b4;stroke:#1f77b4;\" x=\"100.618792\" xlink:href=\"#m459afa4ae4\" y=\"55.820926\"/>\r\n     <use style=\"fill:#1f77b4;stroke:#1f77b4;\" x=\"142.77367\" xlink:href=\"#m459afa4ae4\" y=\"90.211298\"/>\r\n     <use style=\"fill:#1f77b4;stroke:#1f77b4;\" x=\"142.107826\" xlink:href=\"#m459afa4ae4\" y=\"91.117285\"/>\r\n     <use style=\"fill:#1f77b4;stroke:#1f77b4;\" x=\"135.57364\" xlink:href=\"#m459afa4ae4\" y=\"104.353691\"/>\r\n     <use style=\"fill:#1f77b4;stroke:#1f77b4;\" x=\"114.487893\" xlink:href=\"#m459afa4ae4\" y=\"67.989743\"/>\r\n     <use style=\"fill:#1f77b4;stroke:#1f77b4;\" x=\"109.520014\" xlink:href=\"#m459afa4ae4\" y=\"49.449629\"/>\r\n     <use style=\"fill:#1f77b4;stroke:#1f77b4;\" x=\"42.827822\" xlink:href=\"#m459afa4ae4\" y=\"24.439438\"/>\r\n     <use style=\"fill:#1f77b4;stroke:#1f77b4;\" x=\"121.153652\" xlink:href=\"#m459afa4ae4\" y=\"94.838618\"/>\r\n     <use style=\"fill:#1f77b4;stroke:#1f77b4;\" x=\"147.773734\" xlink:href=\"#m459afa4ae4\" y=\"80.371905\"/>\r\n     <use style=\"fill:#1f77b4;stroke:#1f77b4;\" x=\"177.36316\" xlink:href=\"#m459afa4ae4\" y=\"115.01477\"/>\r\n     <use style=\"fill:#1f77b4;stroke:#1f77b4;\" x=\"104.271437\" xlink:href=\"#m459afa4ae4\" y=\"90.665674\"/>\r\n     <use style=\"fill:#1f77b4;stroke:#1f77b4;\" x=\"122.391438\" xlink:href=\"#m459afa4ae4\" y=\"71.905182\"/>\r\n     <use style=\"fill:#1f77b4;stroke:#1f77b4;\" x=\"97.561662\" xlink:href=\"#m459afa4ae4\" y=\"78.742992\"/>\r\n     <use style=\"fill:#1f77b4;stroke:#1f77b4;\" x=\"96.866209\" xlink:href=\"#m459afa4ae4\" y=\"48.028718\"/>\r\n     <use style=\"fill:#1f77b4;stroke:#1f77b4;\" x=\"130.34683\" xlink:href=\"#m459afa4ae4\" y=\"73.147907\"/>\r\n     <use style=\"fill:#1f77b4;stroke:#1f77b4;\" x=\"161.433168\" xlink:href=\"#m459afa4ae4\" y=\"114.440567\"/>\r\n     <use style=\"fill:#1f77b4;stroke:#1f77b4;\" x=\"181.23161\" xlink:href=\"#m459afa4ae4\" y=\"121.902732\"/>\r\n     <use style=\"fill:#1f77b4;stroke:#1f77b4;\" x=\"110.687709\" xlink:href=\"#m459afa4ae4\" y=\"57.509086\"/>\r\n     <use style=\"fill:#1f77b4;stroke:#1f77b4;\" x=\"110.624213\" xlink:href=\"#m459afa4ae4\" y=\"87.837765\"/>\r\n     <use style=\"fill:#1f77b4;stroke:#1f77b4;\" x=\"189.044875\" xlink:href=\"#m459afa4ae4\" y=\"115.021751\"/>\r\n     <use style=\"fill:#1f77b4;stroke:#1f77b4;\" x=\"157.250803\" xlink:href=\"#m459afa4ae4\" y=\"88.017724\"/>\r\n     <use style=\"fill:#1f77b4;stroke:#1f77b4;\" x=\"109.318839\" xlink:href=\"#m459afa4ae4\" y=\"57.124224\"/>\r\n     <use style=\"fill:#1f77b4;stroke:#1f77b4;\" x=\"128.934986\" xlink:href=\"#m459afa4ae4\" y=\"91.520849\"/>\r\n     <use style=\"fill:#1f77b4;stroke:#1f77b4;\" x=\"149.573294\" xlink:href=\"#m459afa4ae4\" y=\"98.828405\"/>\r\n     <use style=\"fill:#1f77b4;stroke:#1f77b4;\" x=\"177.236055\" xlink:href=\"#m459afa4ae4\" y=\"103.497865\"/>\r\n     <use style=\"fill:#1f77b4;stroke:#1f77b4;\" x=\"181.712358\" xlink:href=\"#m459afa4ae4\" y=\"123.693164\"/>\r\n     <use style=\"fill:#1f77b4;stroke:#1f77b4;\" x=\"104.925361\" xlink:href=\"#m459afa4ae4\" y=\"62.025414\"/>\r\n     <use style=\"fill:#1f77b4;stroke:#1f77b4;\" x=\"140.576768\" xlink:href=\"#m459afa4ae4\" y=\"70.570131\"/>\r\n     <use style=\"fill:#1f77b4;stroke:#1f77b4;\" x=\"117.234226\" xlink:href=\"#m459afa4ae4\" y=\"80.92451\"/>\r\n     <use style=\"fill:#1f77b4;stroke:#1f77b4;\" x=\"99.422834\" xlink:href=\"#m459afa4ae4\" y=\"75.698097\"/>\r\n     <use style=\"fill:#1f77b4;stroke:#1f77b4;\" x=\"127.490673\" xlink:href=\"#m459afa4ae4\" y=\"93.818108\"/>\r\n     <use style=\"fill:#1f77b4;stroke:#1f77b4;\" x=\"126.159024\" xlink:href=\"#m459afa4ae4\" y=\"84.947734\"/>\r\n     <use style=\"fill:#1f77b4;stroke:#1f77b4;\" x=\"173.650828\" xlink:href=\"#m459afa4ae4\" y=\"120.573726\"/>\r\n     <use style=\"fill:#1f77b4;stroke:#1f77b4;\" x=\"153.034252\" xlink:href=\"#m459afa4ae4\" y=\"99.315076\"/>\r\n     <use style=\"fill:#1f77b4;stroke:#1f77b4;\" x=\"160.173861\" xlink:href=\"#m459afa4ae4\" y=\"109.841143\"/>\r\n     <use style=\"fill:#1f77b4;stroke:#1f77b4;\" x=\"131.84102\" xlink:href=\"#m459afa4ae4\" y=\"76.781335\"/>\r\n     <use style=\"fill:#1f77b4;stroke:#1f77b4;\" x=\"147.125641\" xlink:href=\"#m459afa4ae4\" y=\"106.082662\"/>\r\n     <use style=\"fill:#1f77b4;stroke:#1f77b4;\" x=\"103.210848\" xlink:href=\"#m459afa4ae4\" y=\"80.732603\"/>\r\n     <use style=\"fill:#1f77b4;stroke:#1f77b4;\" x=\"167.880017\" xlink:href=\"#m459afa4ae4\" y=\"112.674978\"/>\r\n     <use style=\"fill:#1f77b4;stroke:#1f77b4;\" x=\"99.455677\" xlink:href=\"#m459afa4ae4\" y=\"65.668665\"/>\r\n     <use style=\"fill:#1f77b4;stroke:#1f77b4;\" x=\"152.377334\" xlink:href=\"#m459afa4ae4\" y=\"106.828024\"/>\r\n     <use style=\"fill:#1f77b4;stroke:#1f77b4;\" x=\"137.315552\" xlink:href=\"#m459afa4ae4\" y=\"89.800564\"/>\r\n     <use style=\"fill:#1f77b4;stroke:#1f77b4;\" x=\"135.09761\" xlink:href=\"#m459afa4ae4\" y=\"80.585978\"/>\r\n     <use style=\"fill:#1f77b4;stroke:#1f77b4;\" x=\"147.603272\" xlink:href=\"#m459afa4ae4\" y=\"99.121095\"/>\r\n     <use style=\"fill:#1f77b4;stroke:#1f77b4;\" x=\"124.176873\" xlink:href=\"#m459afa4ae4\" y=\"85.551186\"/>\r\n     <use style=\"fill:#1f77b4;stroke:#1f77b4;\" x=\"120.709171\" xlink:href=\"#m459afa4ae4\" y=\"79.122331\"/>\r\n     <use style=\"fill:#1f77b4;stroke:#1f77b4;\" x=\"118.77833\" xlink:href=\"#m459afa4ae4\" y=\"79.113894\"/>\r\n     <use style=\"fill:#1f77b4;stroke:#1f77b4;\" x=\"78.817272\" xlink:href=\"#m459afa4ae4\" y=\"47.643153\"/>\r\n     <use style=\"fill:#1f77b4;stroke:#1f77b4;\" x=\"146.347501\" xlink:href=\"#m459afa4ae4\" y=\"88.052147\"/>\r\n     <use style=\"fill:#1f77b4;stroke:#1f77b4;\" x=\"158.984749\" xlink:href=\"#m459afa4ae4\" y=\"120.071517\"/>\r\n     <use style=\"fill:#1f77b4;stroke:#1f77b4;\" x=\"155.962928\" xlink:href=\"#m459afa4ae4\" y=\"113.396499\"/>\r\n     <use style=\"fill:#1f77b4;stroke:#1f77b4;\" x=\"142.803118\" xlink:href=\"#m459afa4ae4\" y=\"106.35402\"/>\r\n     <use style=\"fill:#1f77b4;stroke:#1f77b4;\" x=\"109.93116\" xlink:href=\"#m459afa4ae4\" y=\"62.597333\"/>\r\n     <use style=\"fill:#1f77b4;stroke:#1f77b4;\" x=\"83.701264\" xlink:href=\"#m459afa4ae4\" y=\"58.554314\"/>\r\n     <use style=\"fill:#1f77b4;stroke:#1f77b4;\" x=\"145.388525\" xlink:href=\"#m459afa4ae4\" y=\"89.199199\"/>\r\n     <use style=\"fill:#1f77b4;stroke:#1f77b4;\" x=\"130.817406\" xlink:href=\"#m459afa4ae4\" y=\"72.301331\"/>\r\n     <use style=\"fill:#1f77b4;stroke:#1f77b4;\" x=\"134.667839\" xlink:href=\"#m459afa4ae4\" y=\"82.418909\"/>\r\n     <use style=\"fill:#1f77b4;stroke:#1f77b4;\" x=\"113.792158\" xlink:href=\"#m459afa4ae4\" y=\"58.95488\"/>\r\n     <use style=\"fill:#1f77b4;stroke:#1f77b4;\" x=\"146.234648\" xlink:href=\"#m459afa4ae4\" y=\"90.326084\"/>\r\n     <use style=\"fill:#1f77b4;stroke:#1f77b4;\" x=\"193.45926\" xlink:href=\"#m459afa4ae4\" y=\"128.702195\"/>\r\n     <use style=\"fill:#1f77b4;stroke:#1f77b4;\" x=\"147.32892\" xlink:href=\"#m459afa4ae4\" y=\"98.143766\"/>\r\n     <use style=\"fill:#1f77b4;stroke:#1f77b4;\" x=\"151.50244\" xlink:href=\"#m459afa4ae4\" y=\"96.916686\"/>\r\n     <use style=\"fill:#1f77b4;stroke:#1f77b4;\" x=\"155.567588\" xlink:href=\"#m459afa4ae4\" y=\"99.506219\"/>\r\n     <use style=\"fill:#1f77b4;stroke:#1f77b4;\" x=\"101.481158\" xlink:href=\"#m459afa4ae4\" y=\"57.654136\"/>\r\n     <use style=\"fill:#1f77b4;stroke:#1f77b4;\" x=\"113.363415\" xlink:href=\"#m459afa4ae4\" y=\"64.410918\"/>\r\n     <use style=\"fill:#1f77b4;stroke:#1f77b4;\" x=\"175.420827\" xlink:href=\"#m459afa4ae4\" y=\"113.691845\"/>\r\n     <use style=\"fill:#1f77b4;stroke:#1f77b4;\" x=\"114.812394\" xlink:href=\"#m459afa4ae4\" y=\"61.237979\"/>\r\n     <use style=\"fill:#1f77b4;stroke:#1f77b4;\" x=\"145.307214\" xlink:href=\"#m459afa4ae4\" y=\"93.7769\"/>\r\n     <use style=\"fill:#1f77b4;stroke:#1f77b4;\" x=\"110.371394\" xlink:href=\"#m459afa4ae4\" y=\"79.479054\"/>\r\n     <use style=\"fill:#1f77b4;stroke:#1f77b4;\" x=\"119.675184\" xlink:href=\"#m459afa4ae4\" y=\"76.327885\"/>\r\n     <use style=\"fill:#1f77b4;stroke:#1f77b4;\" x=\"140.432039\" xlink:href=\"#m459afa4ae4\" y=\"81.018655\"/>\r\n     <use style=\"fill:#1f77b4;stroke:#1f77b4;\" x=\"208.051856\" xlink:href=\"#m459afa4ae4\" y=\"136.141812\"/>\r\n     <use style=\"fill:#1f77b4;stroke:#1f77b4;\" x=\"154.596346\" xlink:href=\"#m459afa4ae4\" y=\"90.569104\"/>\r\n     <use style=\"fill:#1f77b4;stroke:#1f77b4;\" x=\"118.021318\" xlink:href=\"#m459afa4ae4\" y=\"74.550986\"/>\r\n     <use style=\"fill:#1f77b4;stroke:#1f77b4;\" x=\"130.66528\" xlink:href=\"#m459afa4ae4\" y=\"75.807219\"/>\r\n     <use style=\"fill:#1f77b4;stroke:#1f77b4;\" x=\"119.018864\" xlink:href=\"#m459afa4ae4\" y=\"69.540163\"/>\r\n     <use style=\"fill:#1f77b4;stroke:#1f77b4;\" x=\"63.702678\" xlink:href=\"#m459afa4ae4\" y=\"42.07907\"/>\r\n     <use style=\"fill:#1f77b4;stroke:#1f77b4;\" x=\"149.547758\" xlink:href=\"#m459afa4ae4\" y=\"103.856951\"/>\r\n     <use style=\"fill:#1f77b4;stroke:#1f77b4;\" x=\"116.155199\" xlink:href=\"#m459afa4ae4\" y=\"69.347234\"/>\r\n     <use style=\"fill:#1f77b4;stroke:#1f77b4;\" x=\"112.743019\" xlink:href=\"#m459afa4ae4\" y=\"62.587023\"/>\r\n     <use style=\"fill:#1f77b4;stroke:#1f77b4;\" x=\"117.289373\" xlink:href=\"#m459afa4ae4\" y=\"80.664412\"/>\r\n     <use style=\"fill:#1f77b4;stroke:#1f77b4;\" x=\"166.020365\" xlink:href=\"#m459afa4ae4\" y=\"119.040153\"/>\r\n     <use style=\"fill:#1f77b4;stroke:#1f77b4;\" x=\"133.838623\" xlink:href=\"#m459afa4ae4\" y=\"90.147092\"/>\r\n     <use style=\"fill:#1f77b4;stroke:#1f77b4;\" x=\"99.322127\" xlink:href=\"#m459afa4ae4\" y=\"79.445213\"/>\r\n     <use style=\"fill:#1f77b4;stroke:#1f77b4;\" x=\"202.533336\" xlink:href=\"#m459afa4ae4\" y=\"133.063737\"/>\r\n     <use style=\"fill:#1f77b4;stroke:#1f77b4;\" x=\"139.173008\" xlink:href=\"#m459afa4ae4\" y=\"89.670148\"/>\r\n     <use style=\"fill:#1f77b4;stroke:#1f77b4;\" x=\"107.640216\" xlink:href=\"#m459afa4ae4\" y=\"87.648884\"/>\r\n     <use style=\"fill:#1f77b4;stroke:#1f77b4;\" x=\"124.851403\" xlink:href=\"#m459afa4ae4\" y=\"72.436033\"/>\r\n     <use style=\"fill:#1f77b4;stroke:#1f77b4;\" x=\"111.234163\" xlink:href=\"#m459afa4ae4\" y=\"62.937304\"/>\r\n     <use style=\"fill:#1f77b4;stroke:#1f77b4;\" x=\"126.193821\" xlink:href=\"#m459afa4ae4\" y=\"99.15721\"/>\r\n     <use style=\"fill:#1f77b4;stroke:#1f77b4;\" x=\"152.28507\" xlink:href=\"#m459afa4ae4\" y=\"91.889101\"/>\r\n     <use style=\"fill:#1f77b4;stroke:#1f77b4;\" x=\"141.134211\" xlink:href=\"#m459afa4ae4\" y=\"68.841292\"/>\r\n     <use style=\"fill:#1f77b4;stroke:#1f77b4;\" x=\"97.416676\" xlink:href=\"#m459afa4ae4\" y=\"73.248789\"/>\r\n     <use style=\"fill:#1f77b4;stroke:#1f77b4;\" x=\"184.182247\" xlink:href=\"#m459afa4ae4\" y=\"109.724978\"/>\r\n     <use style=\"fill:#1f77b4;stroke:#1f77b4;\" x=\"156.290028\" xlink:href=\"#m459afa4ae4\" y=\"81.440863\"/>\r\n     <use style=\"fill:#1f77b4;stroke:#1f77b4;\" x=\"138.532679\" xlink:href=\"#m459afa4ae4\" y=\"84.159595\"/>\r\n     <use style=\"fill:#1f77b4;stroke:#1f77b4;\" x=\"112.800313\" xlink:href=\"#m459afa4ae4\" y=\"72.674164\"/>\r\n     <use style=\"fill:#1f77b4;stroke:#1f77b4;\" x=\"141.850575\" xlink:href=\"#m459afa4ae4\" y=\"106.375603\"/>\r\n     <use style=\"fill:#1f77b4;stroke:#1f77b4;\" x=\"101.294715\" xlink:href=\"#m459afa4ae4\" y=\"80.880372\"/>\r\n     <use style=\"fill:#1f77b4;stroke:#1f77b4;\" x=\"127.793091\" xlink:href=\"#m459afa4ae4\" y=\"72.976237\"/>\r\n     <use style=\"fill:#1f77b4;stroke:#1f77b4;\" x=\"122.605681\" xlink:href=\"#m459afa4ae4\" y=\"82.809091\"/>\r\n     <use style=\"fill:#1f77b4;stroke:#1f77b4;\" x=\"95.182294\" xlink:href=\"#m459afa4ae4\" y=\"42.094194\"/>\r\n     <use style=\"fill:#1f77b4;stroke:#1f77b4;\" x=\"104.556664\" xlink:href=\"#m459afa4ae4\" y=\"63.691991\"/>\r\n     <use style=\"fill:#1f77b4;stroke:#1f77b4;\" x=\"149.286441\" xlink:href=\"#m459afa4ae4\" y=\"88.415881\"/>\r\n     <use style=\"fill:#1f77b4;stroke:#1f77b4;\" x=\"136.671111\" xlink:href=\"#m459afa4ae4\" y=\"86.136433\"/>\r\n     <use style=\"fill:#1f77b4;stroke:#1f77b4;\" x=\"122.111365\" xlink:href=\"#m459afa4ae4\" y=\"65.560481\"/>\r\n     <use style=\"fill:#1f77b4;stroke:#1f77b4;\" x=\"166.524813\" xlink:href=\"#m459afa4ae4\" y=\"95.810122\"/>\r\n     <use style=\"fill:#1f77b4;stroke:#1f77b4;\" x=\"180.716908\" xlink:href=\"#m459afa4ae4\" y=\"117.59269\"/>\r\n     <use style=\"fill:#1f77b4;stroke:#1f77b4;\" x=\"135.644747\" xlink:href=\"#m459afa4ae4\" y=\"79.387963\"/>\r\n     <use style=\"fill:#1f77b4;stroke:#1f77b4;\" x=\"185.918248\" xlink:href=\"#m459afa4ae4\" y=\"130.452349\"/>\r\n     <use style=\"fill:#1f77b4;stroke:#1f77b4;\" x=\"169.116052\" xlink:href=\"#m459afa4ae4\" y=\"116.396659\"/>\r\n     <use style=\"fill:#1f77b4;stroke:#1f77b4;\" x=\"132.56255\" xlink:href=\"#m459afa4ae4\" y=\"97.562805\"/>\r\n     <use style=\"fill:#1f77b4;stroke:#1f77b4;\" x=\"110.562251\" xlink:href=\"#m459afa4ae4\" y=\"54.533523\"/>\r\n     <use style=\"fill:#1f77b4;stroke:#1f77b4;\" x=\"132.530949\" xlink:href=\"#m459afa4ae4\" y=\"87.999995\"/>\r\n     <use style=\"fill:#1f77b4;stroke:#1f77b4;\" x=\"136.717476\" xlink:href=\"#m459afa4ae4\" y=\"78.396388\"/>\r\n     <use style=\"fill:#1f77b4;stroke:#1f77b4;\" x=\"117.306586\" xlink:href=\"#m459afa4ae4\" y=\"82.630329\"/>\r\n     <use style=\"fill:#1f77b4;stroke:#1f77b4;\" x=\"126.236905\" xlink:href=\"#m459afa4ae4\" y=\"73.671348\"/>\r\n     <use style=\"fill:#1f77b4;stroke:#1f77b4;\" x=\"122.383663\" xlink:href=\"#m459afa4ae4\" y=\"73.264088\"/>\r\n     <use style=\"fill:#1f77b4;stroke:#1f77b4;\" x=\"132.102081\" xlink:href=\"#m459afa4ae4\" y=\"92.865031\"/>\r\n     <use style=\"fill:#1f77b4;stroke:#1f77b4;\" x=\"132.247174\" xlink:href=\"#m459afa4ae4\" y=\"110.041465\"/>\r\n     <use style=\"fill:#1f77b4;stroke:#1f77b4;\" x=\"154.924568\" xlink:href=\"#m459afa4ae4\" y=\"96.614952\"/>\r\n     <use style=\"fill:#1f77b4;stroke:#1f77b4;\" x=\"121.436631\" xlink:href=\"#m459afa4ae4\" y=\"55.377358\"/>\r\n     <use style=\"fill:#1f77b4;stroke:#1f77b4;\" x=\"89.8254\" xlink:href=\"#m459afa4ae4\" y=\"59.827488\"/>\r\n     <use style=\"fill:#1f77b4;stroke:#1f77b4;\" x=\"141.51629\" xlink:href=\"#m459afa4ae4\" y=\"88.941706\"/>\r\n     <use style=\"fill:#1f77b4;stroke:#1f77b4;\" x=\"129.325204\" xlink:href=\"#m459afa4ae4\" y=\"75.029225\"/>\r\n     <use style=\"fill:#1f77b4;stroke:#1f77b4;\" x=\"124.183259\" xlink:href=\"#m459afa4ae4\" y=\"96.382087\"/>\r\n     <use style=\"fill:#1f77b4;stroke:#1f77b4;\" x=\"165.648675\" xlink:href=\"#m459afa4ae4\" y=\"118.218011\"/>\r\n     <use style=\"fill:#1f77b4;stroke:#1f77b4;\" x=\"183.749335\" xlink:href=\"#m459afa4ae4\" y=\"103.93153\"/>\r\n     <use style=\"fill:#1f77b4;stroke:#1f77b4;\" x=\"142.283175\" xlink:href=\"#m459afa4ae4\" y=\"102.030218\"/>\r\n     <use style=\"fill:#1f77b4;stroke:#1f77b4;\" x=\"159.286741\" xlink:href=\"#m459afa4ae4\" y=\"116.512397\"/>\r\n     <use style=\"fill:#1f77b4;stroke:#1f77b4;\" x=\"118.407782\" xlink:href=\"#m459afa4ae4\" y=\"58.996897\"/>\r\n     <use style=\"fill:#1f77b4;stroke:#1f77b4;\" x=\"122.130421\" xlink:href=\"#m459afa4ae4\" y=\"71.077949\"/>\r\n     <use style=\"fill:#1f77b4;stroke:#1f77b4;\" x=\"141.526694\" xlink:href=\"#m459afa4ae4\" y=\"84.42839\"/>\r\n     <use style=\"fill:#1f77b4;stroke:#1f77b4;\" x=\"130.626758\" xlink:href=\"#m459afa4ae4\" y=\"81.296731\"/>\r\n     <use style=\"fill:#1f77b4;stroke:#1f77b4;\" x=\"130.286808\" xlink:href=\"#m459afa4ae4\" y=\"70.613634\"/>\r\n     <use style=\"fill:#1f77b4;stroke:#1f77b4;\" x=\"100.916011\" xlink:href=\"#m459afa4ae4\" y=\"66.709723\"/>\r\n     <use style=\"fill:#1f77b4;stroke:#1f77b4;\" x=\"60.425503\" xlink:href=\"#m459afa4ae4\" y=\"61.452422\"/>\r\n     <use style=\"fill:#1f77b4;stroke:#1f77b4;\" x=\"118.661241\" xlink:href=\"#m459afa4ae4\" y=\"79.227518\"/>\r\n     <use style=\"fill:#1f77b4;stroke:#1f77b4;\" x=\"145.29107\" xlink:href=\"#m459afa4ae4\" y=\"106.163575\"/>\r\n     <use style=\"fill:#1f77b4;stroke:#1f77b4;\" x=\"170.765062\" xlink:href=\"#m459afa4ae4\" y=\"116.335077\"/>\r\n     <use style=\"fill:#1f77b4;stroke:#1f77b4;\" x=\"124.098206\" xlink:href=\"#m459afa4ae4\" y=\"76.71638\"/>\r\n     <use style=\"fill:#1f77b4;stroke:#1f77b4;\" x=\"144.326853\" xlink:href=\"#m459afa4ae4\" y=\"106.288966\"/>\r\n     <use style=\"fill:#1f77b4;stroke:#1f77b4;\" x=\"144.476981\" xlink:href=\"#m459afa4ae4\" y=\"90.205248\"/>\r\n     <use style=\"fill:#1f77b4;stroke:#1f77b4;\" x=\"125.449638\" xlink:href=\"#m459afa4ae4\" y=\"85.544437\"/>\r\n     <use style=\"fill:#1f77b4;stroke:#1f77b4;\" x=\"169.40648\" xlink:href=\"#m459afa4ae4\" y=\"111.32426\"/>\r\n     <use style=\"fill:#1f77b4;stroke:#1f77b4;\" x=\"124.226913\" xlink:href=\"#m459afa4ae4\" y=\"69.495155\"/>\r\n     <use style=\"fill:#1f77b4;stroke:#1f77b4;\" x=\"134.661651\" xlink:href=\"#m459afa4ae4\" y=\"78.418384\"/>\r\n     <use style=\"fill:#1f77b4;stroke:#1f77b4;\" x=\"89.808278\" xlink:href=\"#m459afa4ae4\" y=\"66.601809\"/>\r\n     <use style=\"fill:#1f77b4;stroke:#1f77b4;\" x=\"166.405339\" xlink:href=\"#m459afa4ae4\" y=\"105.730675\"/>\r\n     <use style=\"fill:#1f77b4;stroke:#1f77b4;\" x=\"69.411279\" xlink:href=\"#m459afa4ae4\" y=\"34.129031\"/>\r\n     <use style=\"fill:#1f77b4;stroke:#1f77b4;\" x=\"143.225398\" xlink:href=\"#m459afa4ae4\" y=\"74.079633\"/>\r\n     <use style=\"fill:#1f77b4;stroke:#1f77b4;\" x=\"80.645784\" xlink:href=\"#m459afa4ae4\" y=\"56.597276\"/>\r\n     <use style=\"fill:#1f77b4;stroke:#1f77b4;\" x=\"118.210212\" xlink:href=\"#m459afa4ae4\" y=\"64.409228\"/>\r\n     <use style=\"fill:#1f77b4;stroke:#1f77b4;\" x=\"125.186104\" xlink:href=\"#m459afa4ae4\" y=\"90.613316\"/>\r\n     <use style=\"fill:#1f77b4;stroke:#1f77b4;\" x=\"117.847057\" xlink:href=\"#m459afa4ae4\" y=\"55.655426\"/>\r\n     <use style=\"fill:#1f77b4;stroke:#1f77b4;\" x=\"134.88452\" xlink:href=\"#m459afa4ae4\" y=\"89.695183\"/>\r\n     <use style=\"fill:#1f77b4;stroke:#1f77b4;\" x=\"137.070136\" xlink:href=\"#m459afa4ae4\" y=\"84.658754\"/>\r\n     <use style=\"fill:#1f77b4;stroke:#1f77b4;\" x=\"120.619897\" xlink:href=\"#m459afa4ae4\" y=\"58.368386\"/>\r\n     <use style=\"fill:#1f77b4;stroke:#1f77b4;\" x=\"150.555625\" xlink:href=\"#m459afa4ae4\" y=\"102.852624\"/>\r\n     <use style=\"fill:#1f77b4;stroke:#1f77b4;\" x=\"120.945617\" xlink:href=\"#m459afa4ae4\" y=\"89.502334\"/>\r\n     <use style=\"fill:#1f77b4;stroke:#1f77b4;\" x=\"129.453677\" xlink:href=\"#m459afa4ae4\" y=\"113.274668\"/>\r\n     <use style=\"fill:#1f77b4;stroke:#1f77b4;\" x=\"162.301115\" xlink:href=\"#m459afa4ae4\" y=\"119.433451\"/>\r\n     <use style=\"fill:#1f77b4;stroke:#1f77b4;\" x=\"154.033978\" xlink:href=\"#m459afa4ae4\" y=\"94.027322\"/>\r\n     <use style=\"fill:#1f77b4;stroke:#1f77b4;\" x=\"113.826336\" xlink:href=\"#m459afa4ae4\" y=\"84.190628\"/>\r\n     <use style=\"fill:#1f77b4;stroke:#1f77b4;\" x=\"113.820554\" xlink:href=\"#m459afa4ae4\" y=\"54.867449\"/>\r\n     <use style=\"fill:#1f77b4;stroke:#1f77b4;\" x=\"118.382442\" xlink:href=\"#m459afa4ae4\" y=\"80.260749\"/>\r\n     <use style=\"fill:#1f77b4;stroke:#1f77b4;\" x=\"130.999153\" xlink:href=\"#m459afa4ae4\" y=\"83.639265\"/>\r\n     <use style=\"fill:#1f77b4;stroke:#1f77b4;\" x=\"108.284567\" xlink:href=\"#m459afa4ae4\" y=\"64.801852\"/>\r\n     <use style=\"fill:#1f77b4;stroke:#1f77b4;\" x=\"132.717045\" xlink:href=\"#m459afa4ae4\" y=\"90.060859\"/>\r\n     <use style=\"fill:#1f77b4;stroke:#1f77b4;\" x=\"146.570509\" xlink:href=\"#m459afa4ae4\" y=\"88.260816\"/>\r\n     <use style=\"fill:#1f77b4;stroke:#1f77b4;\" x=\"103.515415\" xlink:href=\"#m459afa4ae4\" y=\"71.443564\"/>\r\n     <use style=\"fill:#1f77b4;stroke:#1f77b4;\" x=\"146.063759\" xlink:href=\"#m459afa4ae4\" y=\"107.736118\"/>\r\n     <use style=\"fill:#1f77b4;stroke:#1f77b4;\" x=\"104.565396\" xlink:href=\"#m459afa4ae4\" y=\"57.712836\"/>\r\n     <use style=\"fill:#1f77b4;stroke:#1f77b4;\" x=\"90.574278\" xlink:href=\"#m459afa4ae4\" y=\"39.088463\"/>\r\n     <use style=\"fill:#1f77b4;stroke:#1f77b4;\" x=\"67.948716\" xlink:href=\"#m459afa4ae4\" y=\"40.412541\"/>\r\n     <use style=\"fill:#1f77b4;stroke:#1f77b4;\" x=\"151.611068\" xlink:href=\"#m459afa4ae4\" y=\"99.105914\"/>\r\n     <use style=\"fill:#1f77b4;stroke:#1f77b4;\" x=\"93.494059\" xlink:href=\"#m459afa4ae4\" y=\"74.174784\"/>\r\n     <use style=\"fill:#1f77b4;stroke:#1f77b4;\" x=\"127.962406\" xlink:href=\"#m459afa4ae4\" y=\"97.046014\"/>\r\n     <use style=\"fill:#1f77b4;stroke:#1f77b4;\" x=\"144.873696\" xlink:href=\"#m459afa4ae4\" y=\"87.234013\"/>\r\n     <use style=\"fill:#1f77b4;stroke:#1f77b4;\" x=\"95.220716\" xlink:href=\"#m459afa4ae4\" y=\"46.176809\"/>\r\n     <use style=\"fill:#1f77b4;stroke:#1f77b4;\" x=\"147.753235\" xlink:href=\"#m459afa4ae4\" y=\"85.728154\"/>\r\n     <use style=\"fill:#1f77b4;stroke:#1f77b4;\" x=\"119.027859\" xlink:href=\"#m459afa4ae4\" y=\"80.070965\"/>\r\n     <use style=\"fill:#1f77b4;stroke:#1f77b4;\" x=\"129.627193\" xlink:href=\"#m459afa4ae4\" y=\"85.518441\"/>\r\n     <use style=\"fill:#1f77b4;stroke:#1f77b4;\" x=\"215.364915\" xlink:href=\"#m459afa4ae4\" y=\"131.696524\"/>\r\n     <use style=\"fill:#1f77b4;stroke:#1f77b4;\" x=\"104.168378\" xlink:href=\"#m459afa4ae4\" y=\"74.049056\"/>\r\n     <use style=\"fill:#1f77b4;stroke:#1f77b4;\" x=\"106.034379\" xlink:href=\"#m459afa4ae4\" y=\"65.429658\"/>\r\n     <use style=\"fill:#1f77b4;stroke:#1f77b4;\" x=\"100.903804\" xlink:href=\"#m459afa4ae4\" y=\"65.601363\"/>\r\n     <use style=\"fill:#1f77b4;stroke:#1f77b4;\" x=\"79.153989\" xlink:href=\"#m459afa4ae4\" y=\"53.689932\"/>\r\n     <use style=\"fill:#1f77b4;stroke:#1f77b4;\" x=\"73.206869\" xlink:href=\"#m459afa4ae4\" y=\"52.857804\"/>\r\n     <use style=\"fill:#1f77b4;stroke:#1f77b4;\" x=\"121.973764\" xlink:href=\"#m459afa4ae4\" y=\"62.999654\"/>\r\n     <use style=\"fill:#1f77b4;stroke:#1f77b4;\" x=\"156.829604\" xlink:href=\"#m459afa4ae4\" y=\"106.886188\"/>\r\n     <use style=\"fill:#1f77b4;stroke:#1f77b4;\" x=\"132.18689\" xlink:href=\"#m459afa4ae4\" y=\"82.214095\"/>\r\n     <use style=\"fill:#1f77b4;stroke:#1f77b4;\" x=\"145.018061\" xlink:href=\"#m459afa4ae4\" y=\"105.196263\"/>\r\n     <use style=\"fill:#1f77b4;stroke:#1f77b4;\" x=\"140.388715\" xlink:href=\"#m459afa4ae4\" y=\"86.684851\"/>\r\n     <use style=\"fill:#1f77b4;stroke:#1f77b4;\" x=\"122.877854\" xlink:href=\"#m459afa4ae4\" y=\"80.91723\"/>\r\n     <use style=\"fill:#1f77b4;stroke:#1f77b4;\" x=\"105.969298\" xlink:href=\"#m459afa4ae4\" y=\"66.82251\"/>\r\n     <use style=\"fill:#1f77b4;stroke:#1f77b4;\" x=\"190.751837\" xlink:href=\"#m459afa4ae4\" y=\"120.222417\"/>\r\n     <use style=\"fill:#1f77b4;stroke:#1f77b4;\" x=\"77.205617\" xlink:href=\"#m459afa4ae4\" y=\"62.721102\"/>\r\n     <use style=\"fill:#1f77b4;stroke:#1f77b4;\" x=\"163.064823\" xlink:href=\"#m459afa4ae4\" y=\"100.698774\"/>\r\n     <use style=\"fill:#1f77b4;stroke:#1f77b4;\" x=\"168.65836\" xlink:href=\"#m459afa4ae4\" y=\"105.319992\"/>\r\n     <use style=\"fill:#1f77b4;stroke:#1f77b4;\" x=\"116.718352\" xlink:href=\"#m459afa4ae4\" y=\"75.596634\"/>\r\n     <use style=\"fill:#1f77b4;stroke:#1f77b4;\" x=\"110.174202\" xlink:href=\"#m459afa4ae4\" y=\"80.690556\"/>\r\n     <use style=\"fill:#1f77b4;stroke:#1f77b4;\" x=\"118.987605\" xlink:href=\"#m459afa4ae4\" y=\"79.115051\"/>\r\n     <use style=\"fill:#1f77b4;stroke:#1f77b4;\" x=\"102.940713\" xlink:href=\"#m459afa4ae4\" y=\"53.654976\"/>\r\n     <use style=\"fill:#1f77b4;stroke:#1f77b4;\" x=\"113.556675\" xlink:href=\"#m459afa4ae4\" y=\"44.811059\"/>\r\n     <use style=\"fill:#1f77b4;stroke:#1f77b4;\" x=\"116.851868\" xlink:href=\"#m459afa4ae4\" y=\"69.911682\"/>\r\n     <use style=\"fill:#1f77b4;stroke:#1f77b4;\" x=\"110.973877\" xlink:href=\"#m459afa4ae4\" y=\"73.167412\"/>\r\n     <use style=\"fill:#1f77b4;stroke:#1f77b4;\" x=\"116.51908\" xlink:href=\"#m459afa4ae4\" y=\"86.162679\"/>\r\n     <use style=\"fill:#1f77b4;stroke:#1f77b4;\" x=\"162.763359\" xlink:href=\"#m459afa4ae4\" y=\"113.354076\"/>\r\n     <use style=\"fill:#1f77b4;stroke:#1f77b4;\" x=\"191.82772\" xlink:href=\"#m459afa4ae4\" y=\"118.771263\"/>\r\n     <use style=\"fill:#1f77b4;stroke:#1f77b4;\" x=\"142.50869\" xlink:href=\"#m459afa4ae4\" y=\"71.065247\"/>\r\n     <use style=\"fill:#1f77b4;stroke:#1f77b4;\" x=\"75.057466\" xlink:href=\"#m459afa4ae4\" y=\"35.22263\"/>\r\n     <use style=\"fill:#1f77b4;stroke:#1f77b4;\" x=\"186.912716\" xlink:href=\"#m459afa4ae4\" y=\"100.096528\"/>\r\n     <use style=\"fill:#1f77b4;stroke:#1f77b4;\" x=\"93.749893\" xlink:href=\"#m459afa4ae4\" y=\"75.653118\"/>\r\n     <use style=\"fill:#1f77b4;stroke:#1f77b4;\" x=\"128.591852\" xlink:href=\"#m459afa4ae4\" y=\"81.051302\"/>\r\n     <use style=\"fill:#1f77b4;stroke:#1f77b4;\" x=\"130.662352\" xlink:href=\"#m459afa4ae4\" y=\"92.364392\"/>\r\n     <use style=\"fill:#1f77b4;stroke:#1f77b4;\" x=\"77.711023\" xlink:href=\"#m459afa4ae4\" y=\"52.131501\"/>\r\n     <use style=\"fill:#1f77b4;stroke:#1f77b4;\" x=\"129.016685\" xlink:href=\"#m459afa4ae4\" y=\"77.400755\"/>\r\n     <use style=\"fill:#1f77b4;stroke:#1f77b4;\" x=\"134.708312\" xlink:href=\"#m459afa4ae4\" y=\"86.758057\"/>\r\n     <use style=\"fill:#1f77b4;stroke:#1f77b4;\" x=\"176.773556\" xlink:href=\"#m459afa4ae4\" y=\"107.51683\"/>\r\n     <use style=\"fill:#1f77b4;stroke:#1f77b4;\" x=\"104.305252\" xlink:href=\"#m459afa4ae4\" y=\"33.135165\"/>\r\n     <use style=\"fill:#1f77b4;stroke:#1f77b4;\" x=\"185.11547\" xlink:href=\"#m459afa4ae4\" y=\"100.125723\"/>\r\n     <use style=\"fill:#1f77b4;stroke:#1f77b4;\" x=\"147.808431\" xlink:href=\"#m459afa4ae4\" y=\"100.999309\"/>\r\n     <use style=\"fill:#1f77b4;stroke:#1f77b4;\" x=\"108.628859\" xlink:href=\"#m459afa4ae4\" y=\"67.283119\"/>\r\n     <use style=\"fill:#1f77b4;stroke:#1f77b4;\" x=\"114.412743\" xlink:href=\"#m459afa4ae4\" y=\"61.953354\"/>\r\n     <use style=\"fill:#1f77b4;stroke:#1f77b4;\" x=\"119.86265\" xlink:href=\"#m459afa4ae4\" y=\"86.333126\"/>\r\n     <use style=\"fill:#1f77b4;stroke:#1f77b4;\" x=\"94.171007\" xlink:href=\"#m459afa4ae4\" y=\"64.005608\"/>\r\n     <use style=\"fill:#1f77b4;stroke:#1f77b4;\" x=\"107.925857\" xlink:href=\"#m459afa4ae4\" y=\"84.813612\"/>\r\n     <use style=\"fill:#1f77b4;stroke:#1f77b4;\" x=\"71.080303\" xlink:href=\"#m459afa4ae4\" y=\"54.954267\"/>\r\n     <use style=\"fill:#1f77b4;stroke:#1f77b4;\" x=\"136.284925\" xlink:href=\"#m459afa4ae4\" y=\"60.403861\"/>\r\n     <use style=\"fill:#1f77b4;stroke:#1f77b4;\" x=\"98.522647\" xlink:href=\"#m459afa4ae4\" y=\"74.762646\"/>\r\n     <use style=\"fill:#1f77b4;stroke:#1f77b4;\" x=\"120.972306\" xlink:href=\"#m459afa4ae4\" y=\"80.595841\"/>\r\n     <use style=\"fill:#1f77b4;stroke:#1f77b4;\" x=\"112.371838\" xlink:href=\"#m459afa4ae4\" y=\"101.725715\"/>\r\n     <use style=\"fill:#1f77b4;stroke:#1f77b4;\" x=\"108.300968\" xlink:href=\"#m459afa4ae4\" y=\"73.982717\"/>\r\n     <use style=\"fill:#1f77b4;stroke:#1f77b4;\" x=\"91.904022\" xlink:href=\"#m459afa4ae4\" y=\"29.735861\"/>\r\n     <use style=\"fill:#1f77b4;stroke:#1f77b4;\" x=\"134.72632\" xlink:href=\"#m459afa4ae4\" y=\"92.701059\"/>\r\n     <use style=\"fill:#1f77b4;stroke:#1f77b4;\" x=\"136.714963\" xlink:href=\"#m459afa4ae4\" y=\"89.069653\"/>\r\n     <use style=\"fill:#1f77b4;stroke:#1f77b4;\" x=\"105.450031\" xlink:href=\"#m459afa4ae4\" y=\"63.679052\"/>\r\n     <use style=\"fill:#1f77b4;stroke:#1f77b4;\" x=\"152.924697\" xlink:href=\"#m459afa4ae4\" y=\"96.021787\"/>\r\n     <use style=\"fill:#1f77b4;stroke:#1f77b4;\" x=\"127.16091\" xlink:href=\"#m459afa4ae4\" y=\"78.669584\"/>\r\n     <use style=\"fill:#1f77b4;stroke:#1f77b4;\" x=\"131.439122\" xlink:href=\"#m459afa4ae4\" y=\"96.049422\"/>\r\n     <use style=\"fill:#1f77b4;stroke:#1f77b4;\" x=\"147.155438\" xlink:href=\"#m459afa4ae4\" y=\"95.180675\"/>\r\n     <use style=\"fill:#1f77b4;stroke:#1f77b4;\" x=\"144.676529\" xlink:href=\"#m459afa4ae4\" y=\"97.658163\"/>\r\n     <use style=\"fill:#1f77b4;stroke:#1f77b4;\" x=\"118.073276\" xlink:href=\"#m459afa4ae4\" y=\"85.446612\"/>\r\n     <use style=\"fill:#1f77b4;stroke:#1f77b4;\" x=\"139.65993\" xlink:href=\"#m459afa4ae4\" y=\"96.720549\"/>\r\n     <use style=\"fill:#1f77b4;stroke:#1f77b4;\" x=\"174.94843\" xlink:href=\"#m459afa4ae4\" y=\"113.76975\"/>\r\n     <use style=\"fill:#1f77b4;stroke:#1f77b4;\" x=\"102.18886\" xlink:href=\"#m459afa4ae4\" y=\"76.755377\"/>\r\n     <use style=\"fill:#1f77b4;stroke:#1f77b4;\" x=\"158.94131\" xlink:href=\"#m459afa4ae4\" y=\"97.600797\"/>\r\n     <use style=\"fill:#1f77b4;stroke:#1f77b4;\" x=\"144.482875\" xlink:href=\"#m459afa4ae4\" y=\"86.765451\"/>\r\n     <use style=\"fill:#1f77b4;stroke:#1f77b4;\" x=\"81.158488\" xlink:href=\"#m459afa4ae4\" y=\"23.692621\"/>\r\n     <use style=\"fill:#1f77b4;stroke:#1f77b4;\" x=\"147.431265\" xlink:href=\"#m459afa4ae4\" y=\"92.370422\"/>\r\n     <use style=\"fill:#1f77b4;stroke:#1f77b4;\" x=\"135.867855\" xlink:href=\"#m459afa4ae4\" y=\"85.313821\"/>\r\n     <use style=\"fill:#1f77b4;stroke:#1f77b4;\" x=\"138.302134\" xlink:href=\"#m459afa4ae4\" y=\"78.66418\"/>\r\n     <use style=\"fill:#1f77b4;stroke:#1f77b4;\" x=\"132.229337\" xlink:href=\"#m459afa4ae4\" y=\"93.011961\"/>\r\n     <use style=\"fill:#1f77b4;stroke:#1f77b4;\" x=\"137.340564\" xlink:href=\"#m459afa4ae4\" y=\"86.052621\"/>\r\n     <use style=\"fill:#1f77b4;stroke:#1f77b4;\" x=\"188.304169\" xlink:href=\"#m459afa4ae4\" y=\"136.922727\"/>\r\n     <use style=\"fill:#1f77b4;stroke:#1f77b4;\" x=\"147.606833\" xlink:href=\"#m459afa4ae4\" y=\"98.887278\"/>\r\n     <use style=\"fill:#1f77b4;stroke:#1f77b4;\" x=\"143.655549\" xlink:href=\"#m459afa4ae4\" y=\"108.239644\"/>\r\n     <use style=\"fill:#1f77b4;stroke:#1f77b4;\" x=\"66.18908\" xlink:href=\"#m459afa4ae4\" y=\"42.220417\"/>\r\n     <use style=\"fill:#1f77b4;stroke:#1f77b4;\" x=\"140.150358\" xlink:href=\"#m459afa4ae4\" y=\"84.217764\"/>\r\n     <use style=\"fill:#1f77b4;stroke:#1f77b4;\" x=\"150.143546\" xlink:href=\"#m459afa4ae4\" y=\"88.223251\"/>\r\n     <use style=\"fill:#1f77b4;stroke:#1f77b4;\" x=\"122.527955\" xlink:href=\"#m459afa4ae4\" y=\"87.825362\"/>\r\n     <use style=\"fill:#1f77b4;stroke:#1f77b4;\" x=\"128.271292\" xlink:href=\"#m459afa4ae4\" y=\"85.772959\"/>\r\n     <use style=\"fill:#1f77b4;stroke:#1f77b4;\" x=\"129.665343\" xlink:href=\"#m459afa4ae4\" y=\"86.00201\"/>\r\n     <use style=\"fill:#1f77b4;stroke:#1f77b4;\" x=\"147.13613\" xlink:href=\"#m459afa4ae4\" y=\"95.962574\"/>\r\n     <use style=\"fill:#1f77b4;stroke:#1f77b4;\" x=\"132.706158\" xlink:href=\"#m459afa4ae4\" y=\"80.783499\"/>\r\n     <use style=\"fill:#1f77b4;stroke:#1f77b4;\" x=\"130.579194\" xlink:href=\"#m459afa4ae4\" y=\"86.573744\"/>\r\n     <use style=\"fill:#1f77b4;stroke:#1f77b4;\" x=\"164.152785\" xlink:href=\"#m459afa4ae4\" y=\"117.454647\"/>\r\n     <use style=\"fill:#1f77b4;stroke:#1f77b4;\" x=\"122.621158\" xlink:href=\"#m459afa4ae4\" y=\"86.042262\"/>\r\n     <use style=\"fill:#1f77b4;stroke:#1f77b4;\" x=\"180.18985\" xlink:href=\"#m459afa4ae4\" y=\"114.679904\"/>\r\n     <use style=\"fill:#1f77b4;stroke:#1f77b4;\" x=\"139.941181\" xlink:href=\"#m459afa4ae4\" y=\"97.816744\"/>\r\n     <use style=\"fill:#1f77b4;stroke:#1f77b4;\" x=\"79.758535\" xlink:href=\"#m459afa4ae4\" y=\"50.91625\"/>\r\n     <use style=\"fill:#1f77b4;stroke:#1f77b4;\" x=\"137.491114\" xlink:href=\"#m459afa4ae4\" y=\"97.218822\"/>\r\n     <use style=\"fill:#1f77b4;stroke:#1f77b4;\" x=\"119.304353\" xlink:href=\"#m459afa4ae4\" y=\"73.010408\"/>\r\n     <use style=\"fill:#1f77b4;stroke:#1f77b4;\" x=\"126.24879\" xlink:href=\"#m459afa4ae4\" y=\"77.072126\"/>\r\n     <use style=\"fill:#1f77b4;stroke:#1f77b4;\" x=\"171.697382\" xlink:href=\"#m459afa4ae4\" y=\"118.30418\"/>\r\n     <use style=\"fill:#1f77b4;stroke:#1f77b4;\" x=\"126.980904\" xlink:href=\"#m459afa4ae4\" y=\"85.635223\"/>\r\n     <use style=\"fill:#1f77b4;stroke:#1f77b4;\" x=\"127.204104\" xlink:href=\"#m459afa4ae4\" y=\"89.565794\"/>\r\n     <use style=\"fill:#1f77b4;stroke:#1f77b4;\" x=\"120.753133\" xlink:href=\"#m459afa4ae4\" y=\"55.886464\"/>\r\n     <use style=\"fill:#1f77b4;stroke:#1f77b4;\" x=\"99.414687\" xlink:href=\"#m459afa4ae4\" y=\"73.763413\"/>\r\n     <use style=\"fill:#1f77b4;stroke:#1f77b4;\" x=\"172.507099\" xlink:href=\"#m459afa4ae4\" y=\"110.355902\"/>\r\n     <use style=\"fill:#1f77b4;stroke:#1f77b4;\" x=\"131.687077\" xlink:href=\"#m459afa4ae4\" y=\"65.643745\"/>\r\n     <use style=\"fill:#1f77b4;stroke:#1f77b4;\" x=\"145.7363\" xlink:href=\"#m459afa4ae4\" y=\"98.051662\"/>\r\n     <use style=\"fill:#1f77b4;stroke:#1f77b4;\" x=\"84.327069\" xlink:href=\"#m459afa4ae4\" y=\"27.817339\"/>\r\n     <use style=\"fill:#1f77b4;stroke:#1f77b4;\" x=\"106.617957\" xlink:href=\"#m459afa4ae4\" y=\"58.441522\"/>\r\n     <use style=\"fill:#1f77b4;stroke:#1f77b4;\" x=\"175.76035\" xlink:href=\"#m459afa4ae4\" y=\"102.583442\"/>\r\n     <use style=\"fill:#1f77b4;stroke:#1f77b4;\" x=\"128.960625\" xlink:href=\"#m459afa4ae4\" y=\"83.407542\"/>\r\n     <use style=\"fill:#1f77b4;stroke:#1f77b4;\" x=\"127.267695\" xlink:href=\"#m459afa4ae4\" y=\"80.22165\"/>\r\n     <use style=\"fill:#1f77b4;stroke:#1f77b4;\" x=\"173.326464\" xlink:href=\"#m459afa4ae4\" y=\"128.960329\"/>\r\n     <use style=\"fill:#1f77b4;stroke:#1f77b4;\" x=\"127.541238\" xlink:href=\"#m459afa4ae4\" y=\"82.81975\"/>\r\n     <use style=\"fill:#1f77b4;stroke:#1f77b4;\" x=\"91.894665\" xlink:href=\"#m459afa4ae4\" y=\"62.347002\"/>\r\n     <use style=\"fill:#1f77b4;stroke:#1f77b4;\" x=\"148.422697\" xlink:href=\"#m459afa4ae4\" y=\"100.556859\"/>\r\n     <use style=\"fill:#1f77b4;stroke:#1f77b4;\" x=\"84.897536\" xlink:href=\"#m459afa4ae4\" y=\"49.273907\"/>\r\n     <use style=\"fill:#1f77b4;stroke:#1f77b4;\" x=\"155.751521\" xlink:href=\"#m459afa4ae4\" y=\"95.518613\"/>\r\n     <use style=\"fill:#1f77b4;stroke:#1f77b4;\" x=\"85.143705\" xlink:href=\"#m459afa4ae4\" y=\"74.54294\"/>\r\n     <use style=\"fill:#1f77b4;stroke:#1f77b4;\" x=\"149.085884\" xlink:href=\"#m459afa4ae4\" y=\"97.622744\"/>\r\n     <use style=\"fill:#1f77b4;stroke:#1f77b4;\" x=\"131.699763\" xlink:href=\"#m459afa4ae4\" y=\"80.484228\"/>\r\n     <use style=\"fill:#1f77b4;stroke:#1f77b4;\" x=\"111.010412\" xlink:href=\"#m459afa4ae4\" y=\"83.026978\"/>\r\n     <use style=\"fill:#1f77b4;stroke:#1f77b4;\" x=\"101.822848\" xlink:href=\"#m459afa4ae4\" y=\"78.579565\"/>\r\n     <use style=\"fill:#1f77b4;stroke:#1f77b4;\" x=\"131.764077\" xlink:href=\"#m459afa4ae4\" y=\"82.442468\"/>\r\n     <use style=\"fill:#1f77b4;stroke:#1f77b4;\" x=\"95.221752\" xlink:href=\"#m459afa4ae4\" y=\"57.329368\"/>\r\n     <use style=\"fill:#1f77b4;stroke:#1f77b4;\" x=\"111.639243\" xlink:href=\"#m459afa4ae4\" y=\"75.011223\"/>\r\n     <use style=\"fill:#1f77b4;stroke:#1f77b4;\" x=\"130.350708\" xlink:href=\"#m459afa4ae4\" y=\"74.190913\"/>\r\n     <use style=\"fill:#1f77b4;stroke:#1f77b4;\" x=\"150.919849\" xlink:href=\"#m459afa4ae4\" y=\"111.598243\"/>\r\n     <use style=\"fill:#1f77b4;stroke:#1f77b4;\" x=\"106.435683\" xlink:href=\"#m459afa4ae4\" y=\"61.20036\"/>\r\n     <use style=\"fill:#1f77b4;stroke:#1f77b4;\" x=\"126.286612\" xlink:href=\"#m459afa4ae4\" y=\"75.850721\"/>\r\n     <use style=\"fill:#1f77b4;stroke:#1f77b4;\" x=\"109.695989\" xlink:href=\"#m459afa4ae4\" y=\"68.577541\"/>\r\n     <use style=\"fill:#1f77b4;stroke:#1f77b4;\" x=\"133.576957\" xlink:href=\"#m459afa4ae4\" y=\"73.84516\"/>\r\n     <use style=\"fill:#1f77b4;stroke:#1f77b4;\" x=\"132.257316\" xlink:href=\"#m459afa4ae4\" y=\"99.205121\"/>\r\n     <use style=\"fill:#1f77b4;stroke:#1f77b4;\" x=\"125.591429\" xlink:href=\"#m459afa4ae4\" y=\"77.59014\"/>\r\n     <use style=\"fill:#1f77b4;stroke:#1f77b4;\" x=\"73.971157\" xlink:href=\"#m459afa4ae4\" y=\"42.738909\"/>\r\n     <use style=\"fill:#1f77b4;stroke:#1f77b4;\" x=\"124.85219\" xlink:href=\"#m459afa4ae4\" y=\"80.632838\"/>\r\n     <use style=\"fill:#1f77b4;stroke:#1f77b4;\" x=\"140.040178\" xlink:href=\"#m459afa4ae4\" y=\"95.991632\"/>\r\n     <use style=\"fill:#1f77b4;stroke:#1f77b4;\" x=\"118.73983\" xlink:href=\"#m459afa4ae4\" y=\"62.627175\"/>\r\n     <use style=\"fill:#1f77b4;stroke:#1f77b4;\" x=\"69.083414\" xlink:href=\"#m459afa4ae4\" y=\"29.219508\"/>\r\n     <use style=\"fill:#1f77b4;stroke:#1f77b4;\" x=\"110.468791\" xlink:href=\"#m459afa4ae4\" y=\"88.342835\"/>\r\n     <use style=\"fill:#1f77b4;stroke:#1f77b4;\" x=\"119.127711\" xlink:href=\"#m459afa4ae4\" y=\"67.353401\"/>\r\n     <use style=\"fill:#1f77b4;stroke:#1f77b4;\" x=\"85.328971\" xlink:href=\"#m459afa4ae4\" y=\"59.404897\"/>\r\n     <use style=\"fill:#1f77b4;stroke:#1f77b4;\" x=\"112.494224\" xlink:href=\"#m459afa4ae4\" y=\"69.626156\"/>\r\n     <use style=\"fill:#1f77b4;stroke:#1f77b4;\" x=\"159.790041\" xlink:href=\"#m459afa4ae4\" y=\"108.279338\"/>\r\n     <use style=\"fill:#1f77b4;stroke:#1f77b4;\" x=\"72.989004\" xlink:href=\"#m459afa4ae4\" y=\"51.603313\"/>\r\n     <use style=\"fill:#1f77b4;stroke:#1f77b4;\" x=\"169.50741\" xlink:href=\"#m459afa4ae4\" y=\"104.676575\"/>\r\n     <use style=\"fill:#1f77b4;stroke:#1f77b4;\" x=\"125.235544\" xlink:href=\"#m459afa4ae4\" y=\"91.801447\"/>\r\n     <use style=\"fill:#1f77b4;stroke:#1f77b4;\" x=\"135.776801\" xlink:href=\"#m459afa4ae4\" y=\"103.346469\"/>\r\n     <use style=\"fill:#1f77b4;stroke:#1f77b4;\" x=\"112.408909\" xlink:href=\"#m459afa4ae4\" y=\"60.599354\"/>\r\n     <use style=\"fill:#1f77b4;stroke:#1f77b4;\" x=\"70.44373\" xlink:href=\"#m459afa4ae4\" y=\"33.17813\"/>\r\n     <use style=\"fill:#1f77b4;stroke:#1f77b4;\" x=\"178.498714\" xlink:href=\"#m459afa4ae4\" y=\"121.220576\"/>\r\n     <use style=\"fill:#1f77b4;stroke:#1f77b4;\" x=\"133.302252\" xlink:href=\"#m459afa4ae4\" y=\"90.682785\"/>\r\n     <use style=\"fill:#1f77b4;stroke:#1f77b4;\" x=\"161.449766\" xlink:href=\"#m459afa4ae4\" y=\"98.621671\"/>\r\n     <use style=\"fill:#1f77b4;stroke:#1f77b4;\" x=\"113.518416\" xlink:href=\"#m459afa4ae4\" y=\"81.664246\"/>\r\n     <use style=\"fill:#1f77b4;stroke:#1f77b4;\" x=\"55.823564\" xlink:href=\"#m459afa4ae4\" y=\"13.377273\"/>\r\n     <use style=\"fill:#1f77b4;stroke:#1f77b4;\" x=\"159.6186\" xlink:href=\"#m459afa4ae4\" y=\"115.431562\"/>\r\n     <use style=\"fill:#1f77b4;stroke:#1f77b4;\" x=\"97.216366\" xlink:href=\"#m459afa4ae4\" y=\"75.304119\"/>\r\n     <use style=\"fill:#1f77b4;stroke:#1f77b4;\" x=\"124.445007\" xlink:href=\"#m459afa4ae4\" y=\"75.499322\"/>\r\n     <use style=\"fill:#1f77b4;stroke:#1f77b4;\" x=\"107.881504\" xlink:href=\"#m459afa4ae4\" y=\"75.362553\"/>\r\n     <use style=\"fill:#1f77b4;stroke:#1f77b4;\" x=\"78.994986\" xlink:href=\"#m459afa4ae4\" y=\"50.038417\"/>\r\n     <use style=\"fill:#1f77b4;stroke:#1f77b4;\" x=\"117.862346\" xlink:href=\"#m459afa4ae4\" y=\"78.726677\"/>\r\n     <use style=\"fill:#1f77b4;stroke:#1f77b4;\" x=\"117.741657\" xlink:href=\"#m459afa4ae4\" y=\"99.796073\"/>\r\n     <use style=\"fill:#1f77b4;stroke:#1f77b4;\" x=\"111.777004\" xlink:href=\"#m459afa4ae4\" y=\"82.763841\"/>\r\n     <use style=\"fill:#1f77b4;stroke:#1f77b4;\" x=\"135.186767\" xlink:href=\"#m459afa4ae4\" y=\"89.053074\"/>\r\n     <use style=\"fill:#1f77b4;stroke:#1f77b4;\" x=\"175.195828\" xlink:href=\"#m459afa4ae4\" y=\"106.868843\"/>\r\n     <use style=\"fill:#1f77b4;stroke:#1f77b4;\" x=\"132.164678\" xlink:href=\"#m459afa4ae4\" y=\"76.723758\"/>\r\n     <use style=\"fill:#1f77b4;stroke:#1f77b4;\" x=\"111.475969\" xlink:href=\"#m459afa4ae4\" y=\"87.432305\"/>\r\n     <use style=\"fill:#1f77b4;stroke:#1f77b4;\" x=\"101.435855\" xlink:href=\"#m459afa4ae4\" y=\"59.331909\"/>\r\n     <use style=\"fill:#1f77b4;stroke:#1f77b4;\" x=\"146.889788\" xlink:href=\"#m459afa4ae4\" y=\"90.524646\"/>\r\n     <use style=\"fill:#1f77b4;stroke:#1f77b4;\" x=\"176.545575\" xlink:href=\"#m459afa4ae4\" y=\"119.269896\"/>\r\n     <use style=\"fill:#1f77b4;stroke:#1f77b4;\" x=\"178.310039\" xlink:href=\"#m459afa4ae4\" y=\"114.417866\"/>\r\n     <use style=\"fill:#1f77b4;stroke:#1f77b4;\" x=\"143.710349\" xlink:href=\"#m459afa4ae4\" y=\"89.412335\"/>\r\n     <use style=\"fill:#1f77b4;stroke:#1f77b4;\" x=\"153.329381\" xlink:href=\"#m459afa4ae4\" y=\"89.198275\"/>\r\n     <use style=\"fill:#1f77b4;stroke:#1f77b4;\" x=\"108.748379\" xlink:href=\"#m459afa4ae4\" y=\"51.875166\"/>\r\n     <use style=\"fill:#1f77b4;stroke:#1f77b4;\" x=\"153.115355\" xlink:href=\"#m459afa4ae4\" y=\"113.783014\"/>\r\n     <use style=\"fill:#1f77b4;stroke:#1f77b4;\" x=\"131.459034\" xlink:href=\"#m459afa4ae4\" y=\"76.599664\"/>\r\n     <use style=\"fill:#1f77b4;stroke:#1f77b4;\" x=\"103.501803\" xlink:href=\"#m459afa4ae4\" y=\"61.097836\"/>\r\n     <use style=\"fill:#1f77b4;stroke:#1f77b4;\" x=\"87.23451\" xlink:href=\"#m459afa4ae4\" y=\"54.196707\"/>\r\n     <use style=\"fill:#1f77b4;stroke:#1f77b4;\" x=\"108.651787\" xlink:href=\"#m459afa4ae4\" y=\"64.516925\"/>\r\n     <use style=\"fill:#1f77b4;stroke:#1f77b4;\" x=\"149.025637\" xlink:href=\"#m459afa4ae4\" y=\"99.930646\"/>\r\n     <use style=\"fill:#1f77b4;stroke:#1f77b4;\" x=\"88.282195\" xlink:href=\"#m459afa4ae4\" y=\"34.187492\"/>\r\n     <use style=\"fill:#1f77b4;stroke:#1f77b4;\" x=\"152.813909\" xlink:href=\"#m459afa4ae4\" y=\"97.520109\"/>\r\n     <use style=\"fill:#1f77b4;stroke:#1f77b4;\" x=\"173.444567\" xlink:href=\"#m459afa4ae4\" y=\"121.82404\"/>\r\n     <use style=\"fill:#1f77b4;stroke:#1f77b4;\" x=\"124.139163\" xlink:href=\"#m459afa4ae4\" y=\"84.669358\"/>\r\n     <use style=\"fill:#1f77b4;stroke:#1f77b4;\" x=\"121.07391\" xlink:href=\"#m459afa4ae4\" y=\"88.733788\"/>\r\n     <use style=\"fill:#1f77b4;stroke:#1f77b4;\" x=\"116.158194\" xlink:href=\"#m459afa4ae4\" y=\"76.569302\"/>\r\n     <use style=\"fill:#1f77b4;stroke:#1f77b4;\" x=\"98.229447\" xlink:href=\"#m459afa4ae4\" y=\"58.481858\"/>\r\n     <use style=\"fill:#1f77b4;stroke:#1f77b4;\" x=\"130.816372\" xlink:href=\"#m459afa4ae4\" y=\"86.566159\"/>\r\n     <use style=\"fill:#1f77b4;stroke:#1f77b4;\" x=\"100.815252\" xlink:href=\"#m459afa4ae4\" y=\"63.17067\"/>\r\n     <use style=\"fill:#1f77b4;stroke:#1f77b4;\" x=\"124.369415\" xlink:href=\"#m459afa4ae4\" y=\"88.706193\"/>\r\n     <use style=\"fill:#1f77b4;stroke:#1f77b4;\" x=\"165.385877\" xlink:href=\"#m459afa4ae4\" y=\"101.805742\"/>\r\n     <use style=\"fill:#1f77b4;stroke:#1f77b4;\" x=\"70.077002\" xlink:href=\"#m459afa4ae4\" y=\"42.069151\"/>\r\n     <use style=\"fill:#1f77b4;stroke:#1f77b4;\" x=\"103.342574\" xlink:href=\"#m459afa4ae4\" y=\"65.980856\"/>\r\n     <use style=\"fill:#1f77b4;stroke:#1f77b4;\" x=\"109.234043\" xlink:href=\"#m459afa4ae4\" y=\"66.275282\"/>\r\n     <use style=\"fill:#1f77b4;stroke:#1f77b4;\" x=\"80.104362\" xlink:href=\"#m459afa4ae4\" y=\"59.267079\"/>\r\n     <use style=\"fill:#1f77b4;stroke:#1f77b4;\" x=\"108.660443\" xlink:href=\"#m459afa4ae4\" y=\"55.85237\"/>\r\n     <use style=\"fill:#1f77b4;stroke:#1f77b4;\" x=\"124.174517\" xlink:href=\"#m459afa4ae4\" y=\"96.385361\"/>\r\n     <use style=\"fill:#1f77b4;stroke:#1f77b4;\" x=\"133.837254\" xlink:href=\"#m459afa4ae4\" y=\"61.13264\"/>\r\n     <use style=\"fill:#1f77b4;stroke:#1f77b4;\" x=\"116.335637\" xlink:href=\"#m459afa4ae4\" y=\"51.502292\"/>\r\n     <use style=\"fill:#1f77b4;stroke:#1f77b4;\" x=\"96.568764\" xlink:href=\"#m459afa4ae4\" y=\"95.918114\"/>\r\n     <use style=\"fill:#1f77b4;stroke:#1f77b4;\" x=\"113.77214\" xlink:href=\"#m459afa4ae4\" y=\"56.346538\"/>\r\n     <use style=\"fill:#1f77b4;stroke:#1f77b4;\" x=\"116.912447\" xlink:href=\"#m459afa4ae4\" y=\"77.873463\"/>\r\n     <use style=\"fill:#1f77b4;stroke:#1f77b4;\" x=\"141.920211\" xlink:href=\"#m459afa4ae4\" y=\"76.617413\"/>\r\n     <use style=\"fill:#1f77b4;stroke:#1f77b4;\" x=\"160.561556\" xlink:href=\"#m459afa4ae4\" y=\"96.616273\"/>\r\n     <use style=\"fill:#1f77b4;stroke:#1f77b4;\" x=\"96.783965\" xlink:href=\"#m459afa4ae4\" y=\"56.615342\"/>\r\n     <use style=\"fill:#1f77b4;stroke:#1f77b4;\" x=\"122.110287\" xlink:href=\"#m459afa4ae4\" y=\"78.340897\"/>\r\n     <use style=\"fill:#1f77b4;stroke:#1f77b4;\" x=\"102.835061\" xlink:href=\"#m459afa4ae4\" y=\"65.176415\"/>\r\n     <use style=\"fill:#1f77b4;stroke:#1f77b4;\" x=\"114.57192\" xlink:href=\"#m459afa4ae4\" y=\"63.406369\"/>\r\n     <use style=\"fill:#1f77b4;stroke:#1f77b4;\" x=\"83.754524\" xlink:href=\"#m459afa4ae4\" y=\"49.779532\"/>\r\n     <use style=\"fill:#1f77b4;stroke:#1f77b4;\" x=\"86.961604\" xlink:href=\"#m459afa4ae4\" y=\"35.199003\"/>\r\n     <use style=\"fill:#1f77b4;stroke:#1f77b4;\" x=\"145.208256\" xlink:href=\"#m459afa4ae4\" y=\"97.113384\"/>\r\n     <use style=\"fill:#1f77b4;stroke:#1f77b4;\" x=\"116.387927\" xlink:href=\"#m459afa4ae4\" y=\"79.96738\"/>\r\n     <use style=\"fill:#1f77b4;stroke:#1f77b4;\" x=\"102.139138\" xlink:href=\"#m459afa4ae4\" y=\"62.582757\"/>\r\n     <use style=\"fill:#1f77b4;stroke:#1f77b4;\" x=\"100.019111\" xlink:href=\"#m459afa4ae4\" y=\"67.560958\"/>\r\n     <use style=\"fill:#1f77b4;stroke:#1f77b4;\" x=\"187.629624\" xlink:href=\"#m459afa4ae4\" y=\"114.089595\"/>\r\n     <use style=\"fill:#1f77b4;stroke:#1f77b4;\" x=\"130.401883\" xlink:href=\"#m459afa4ae4\" y=\"96.052823\"/>\r\n     <use style=\"fill:#1f77b4;stroke:#1f77b4;\" x=\"135.52145\" xlink:href=\"#m459afa4ae4\" y=\"104.294646\"/>\r\n     <use style=\"fill:#1f77b4;stroke:#1f77b4;\" x=\"134.55994\" xlink:href=\"#m459afa4ae4\" y=\"87.265601\"/>\r\n     <use style=\"fill:#1f77b4;stroke:#1f77b4;\" x=\"150.938613\" xlink:href=\"#m459afa4ae4\" y=\"95.009251\"/>\r\n     <use style=\"fill:#1f77b4;stroke:#1f77b4;\" x=\"112.346373\" xlink:href=\"#m459afa4ae4\" y=\"59.209629\"/>\r\n     <use style=\"fill:#1f77b4;stroke:#1f77b4;\" x=\"146.741712\" xlink:href=\"#m459afa4ae4\" y=\"91.149984\"/>\r\n     <use style=\"fill:#1f77b4;stroke:#1f77b4;\" x=\"120.71427\" xlink:href=\"#m459afa4ae4\" y=\"71.61339\"/>\r\n     <use style=\"fill:#1f77b4;stroke:#1f77b4;\" x=\"87.82279\" xlink:href=\"#m459afa4ae4\" y=\"55.587515\"/>\r\n     <use style=\"fill:#1f77b4;stroke:#1f77b4;\" x=\"125.200201\" xlink:href=\"#m459afa4ae4\" y=\"84.004549\"/>\r\n     <use style=\"fill:#1f77b4;stroke:#1f77b4;\" x=\"142.948943\" xlink:href=\"#m459afa4ae4\" y=\"91.76076\"/>\r\n     <use style=\"fill:#1f77b4;stroke:#1f77b4;\" x=\"124.98761\" xlink:href=\"#m459afa4ae4\" y=\"76.029495\"/>\r\n     <use style=\"fill:#1f77b4;stroke:#1f77b4;\" x=\"112.221387\" xlink:href=\"#m459afa4ae4\" y=\"53.033292\"/>\r\n     <use style=\"fill:#1f77b4;stroke:#1f77b4;\" x=\"174.418894\" xlink:href=\"#m459afa4ae4\" y=\"111.964925\"/>\r\n     <use style=\"fill:#1f77b4;stroke:#1f77b4;\" x=\"117.498453\" xlink:href=\"#m459afa4ae4\" y=\"85.389381\"/>\r\n     <use style=\"fill:#1f77b4;stroke:#1f77b4;\" x=\"110.125494\" xlink:href=\"#m459afa4ae4\" y=\"52.919196\"/>\r\n     <use style=\"fill:#1f77b4;stroke:#1f77b4;\" x=\"180.523528\" xlink:href=\"#m459afa4ae4\" y=\"96.918347\"/>\r\n     <use style=\"fill:#1f77b4;stroke:#1f77b4;\" x=\"111.926678\" xlink:href=\"#m459afa4ae4\" y=\"65.542666\"/>\r\n     <use style=\"fill:#1f77b4;stroke:#1f77b4;\" x=\"155.014263\" xlink:href=\"#m459afa4ae4\" y=\"106.044651\"/>\r\n     <use style=\"fill:#1f77b4;stroke:#1f77b4;\" x=\"69.968019\" xlink:href=\"#m459afa4ae4\" y=\"33.699395\"/>\r\n     <use style=\"fill:#1f77b4;stroke:#1f77b4;\" x=\"98.610967\" xlink:href=\"#m459afa4ae4\" y=\"51.23219\"/>\r\n     <use style=\"fill:#1f77b4;stroke:#1f77b4;\" x=\"128.849307\" xlink:href=\"#m459afa4ae4\" y=\"72.865734\"/>\r\n     <use style=\"fill:#1f77b4;stroke:#1f77b4;\" x=\"155.607541\" xlink:href=\"#m459afa4ae4\" y=\"95.809995\"/>\r\n     <use style=\"fill:#1f77b4;stroke:#1f77b4;\" x=\"114.966402\" xlink:href=\"#m459afa4ae4\" y=\"76.148694\"/>\r\n     <use style=\"fill:#1f77b4;stroke:#1f77b4;\" x=\"166.262354\" xlink:href=\"#m459afa4ae4\" y=\"116.328584\"/>\r\n     <use style=\"fill:#1f77b4;stroke:#1f77b4;\" x=\"109.794966\" xlink:href=\"#m459afa4ae4\" y=\"75.209973\"/>\r\n     <use style=\"fill:#1f77b4;stroke:#1f77b4;\" x=\"168.544553\" xlink:href=\"#m459afa4ae4\" y=\"108.958265\"/>\r\n     <use style=\"fill:#1f77b4;stroke:#1f77b4;\" x=\"153.862554\" xlink:href=\"#m459afa4ae4\" y=\"98.684796\"/>\r\n     <use style=\"fill:#1f77b4;stroke:#1f77b4;\" x=\"178.838387\" xlink:href=\"#m459afa4ae4\" y=\"116.932871\"/>\r\n     <use style=\"fill:#1f77b4;stroke:#1f77b4;\" x=\"142.390011\" xlink:href=\"#m459afa4ae4\" y=\"83.117339\"/>\r\n     <use style=\"fill:#1f77b4;stroke:#1f77b4;\" x=\"74.213122\" xlink:href=\"#m459afa4ae4\" y=\"55.198959\"/>\r\n     <use style=\"fill:#1f77b4;stroke:#1f77b4;\" x=\"111.817434\" xlink:href=\"#m459afa4ae4\" y=\"74.887203\"/>\r\n     <use style=\"fill:#1f77b4;stroke:#1f77b4;\" x=\"126.447885\" xlink:href=\"#m459afa4ae4\" y=\"106.974653\"/>\r\n     <use style=\"fill:#1f77b4;stroke:#1f77b4;\" x=\"174.891287\" xlink:href=\"#m459afa4ae4\" y=\"114.345086\"/>\r\n     <use style=\"fill:#1f77b4;stroke:#1f77b4;\" x=\"116.710483\" xlink:href=\"#m459afa4ae4\" y=\"87.565336\"/>\r\n     <use style=\"fill:#1f77b4;stroke:#1f77b4;\" x=\"146.186018\" xlink:href=\"#m459afa4ae4\" y=\"89.456097\"/>\r\n     <use style=\"fill:#1f77b4;stroke:#1f77b4;\" x=\"93.508351\" xlink:href=\"#m459afa4ae4\" y=\"78.543832\"/>\r\n     <use style=\"fill:#1f77b4;stroke:#1f77b4;\" x=\"99.928447\" xlink:href=\"#m459afa4ae4\" y=\"75.328844\"/>\r\n     <use style=\"fill:#1f77b4;stroke:#1f77b4;\" x=\"134.657611\" xlink:href=\"#m459afa4ae4\" y=\"90.926881\"/>\r\n     <use style=\"fill:#1f77b4;stroke:#1f77b4;\" x=\"104.106652\" xlink:href=\"#m459afa4ae4\" y=\"63.430863\"/>\r\n     <use style=\"fill:#1f77b4;stroke:#1f77b4;\" x=\"159.557585\" xlink:href=\"#m459afa4ae4\" y=\"97.512417\"/>\r\n     <use style=\"fill:#1f77b4;stroke:#1f77b4;\" x=\"114.805691\" xlink:href=\"#m459afa4ae4\" y=\"54.486966\"/>\r\n     <use style=\"fill:#1f77b4;stroke:#1f77b4;\" x=\"129.456123\" xlink:href=\"#m459afa4ae4\" y=\"87.657244\"/>\r\n     <use style=\"fill:#1f77b4;stroke:#1f77b4;\" x=\"79.810637\" xlink:href=\"#m459afa4ae4\" y=\"58.950969\"/>\r\n     <use style=\"fill:#1f77b4;stroke:#1f77b4;\" x=\"129.320885\" xlink:href=\"#m459afa4ae4\" y=\"77.570757\"/>\r\n     <use style=\"fill:#1f77b4;stroke:#1f77b4;\" x=\"174.359845\" xlink:href=\"#m459afa4ae4\" y=\"129.544208\"/>\r\n     <use style=\"fill:#1f77b4;stroke:#1f77b4;\" x=\"97.954381\" xlink:href=\"#m459afa4ae4\" y=\"41.55962\"/>\r\n     <use style=\"fill:#1f77b4;stroke:#1f77b4;\" x=\"144.729919\" xlink:href=\"#m459afa4ae4\" y=\"104.507365\"/>\r\n     <use style=\"fill:#1f77b4;stroke:#1f77b4;\" x=\"100.337808\" xlink:href=\"#m459afa4ae4\" y=\"57.998556\"/>\r\n     <use style=\"fill:#1f77b4;stroke:#1f77b4;\" x=\"91.300143\" xlink:href=\"#m459afa4ae4\" y=\"60.969525\"/>\r\n     <use style=\"fill:#1f77b4;stroke:#1f77b4;\" x=\"159.383802\" xlink:href=\"#m459afa4ae4\" y=\"101.490148\"/>\r\n     <use style=\"fill:#1f77b4;stroke:#1f77b4;\" x=\"147.523027\" xlink:href=\"#m459afa4ae4\" y=\"103.433759\"/>\r\n     <use style=\"fill:#1f77b4;stroke:#1f77b4;\" x=\"131.193036\" xlink:href=\"#m459afa4ae4\" y=\"89.376382\"/>\r\n     <use style=\"fill:#1f77b4;stroke:#1f77b4;\" x=\"113.128459\" xlink:href=\"#m459afa4ae4\" y=\"76.402808\"/>\r\n     <use style=\"fill:#1f77b4;stroke:#1f77b4;\" x=\"102.611585\" xlink:href=\"#m459afa4ae4\" y=\"77.99666\"/>\r\n     <use style=\"fill:#1f77b4;stroke:#1f77b4;\" x=\"117.836147\" xlink:href=\"#m459afa4ae4\" y=\"85.18386\"/>\r\n     <use style=\"fill:#1f77b4;stroke:#1f77b4;\" x=\"134.902107\" xlink:href=\"#m459afa4ae4\" y=\"89.428289\"/>\r\n     <use style=\"fill:#1f77b4;stroke:#1f77b4;\" x=\"139.433368\" xlink:href=\"#m459afa4ae4\" y=\"74.585253\"/>\r\n     <use style=\"fill:#1f77b4;stroke:#1f77b4;\" x=\"118.999717\" xlink:href=\"#m459afa4ae4\" y=\"75.12767\"/>\r\n     <use style=\"fill:#1f77b4;stroke:#1f77b4;\" x=\"147.599968\" xlink:href=\"#m459afa4ae4\" y=\"104.855322\"/>\r\n     <use style=\"fill:#1f77b4;stroke:#1f77b4;\" x=\"114.900836\" xlink:href=\"#m459afa4ae4\" y=\"53.600868\"/>\r\n     <use style=\"fill:#1f77b4;stroke:#1f77b4;\" x=\"128.24893\" xlink:href=\"#m459afa4ae4\" y=\"62.560972\"/>\r\n     <use style=\"fill:#1f77b4;stroke:#1f77b4;\" x=\"145.457176\" xlink:href=\"#m459afa4ae4\" y=\"104.89984\"/>\r\n     <use style=\"fill:#1f77b4;stroke:#1f77b4;\" x=\"113.096396\" xlink:href=\"#m459afa4ae4\" y=\"57.052093\"/>\r\n     <use style=\"fill:#1f77b4;stroke:#1f77b4;\" x=\"109.155566\" xlink:href=\"#m459afa4ae4\" y=\"52.406525\"/>\r\n     <use style=\"fill:#1f77b4;stroke:#1f77b4;\" x=\"130.034552\" xlink:href=\"#m459afa4ae4\" y=\"74.986159\"/>\r\n     <use style=\"fill:#1f77b4;stroke:#1f77b4;\" x=\"104.611313\" xlink:href=\"#m459afa4ae4\" y=\"60.331336\"/>\r\n     <use style=\"fill:#1f77b4;stroke:#1f77b4;\" x=\"130.445681\" xlink:href=\"#m459afa4ae4\" y=\"77.665456\"/>\r\n     <use style=\"fill:#1f77b4;stroke:#1f77b4;\" x=\"154.185533\" xlink:href=\"#m459afa4ae4\" y=\"98.193582\"/>\r\n     <use style=\"fill:#1f77b4;stroke:#1f77b4;\" x=\"182.391812\" xlink:href=\"#m459afa4ae4\" y=\"115.011536\"/>\r\n     <use style=\"fill:#1f77b4;stroke:#1f77b4;\" x=\"111.020075\" xlink:href=\"#m459afa4ae4\" y=\"65.597638\"/>\r\n     <use style=\"fill:#1f77b4;stroke:#1f77b4;\" x=\"143.536698\" xlink:href=\"#m459afa4ae4\" y=\"88.345951\"/>\r\n     <use style=\"fill:#1f77b4;stroke:#1f77b4;\" x=\"91.214091\" xlink:href=\"#m459afa4ae4\" y=\"46.19256\"/>\r\n     <use style=\"fill:#1f77b4;stroke:#1f77b4;\" x=\"144.244958\" xlink:href=\"#m459afa4ae4\" y=\"120.563992\"/>\r\n     <use style=\"fill:#1f77b4;stroke:#1f77b4;\" x=\"141.327468\" xlink:href=\"#m459afa4ae4\" y=\"88.037156\"/>\r\n     <use style=\"fill:#1f77b4;stroke:#1f77b4;\" x=\"106.740517\" xlink:href=\"#m459afa4ae4\" y=\"68.800913\"/>\r\n     <use style=\"fill:#1f77b4;stroke:#1f77b4;\" x=\"103.93183\" xlink:href=\"#m459afa4ae4\" y=\"83.175459\"/>\r\n     <use style=\"fill:#1f77b4;stroke:#1f77b4;\" x=\"113.613613\" xlink:href=\"#m459afa4ae4\" y=\"67.159903\"/>\r\n     <use style=\"fill:#1f77b4;stroke:#1f77b4;\" x=\"141.760958\" xlink:href=\"#m459afa4ae4\" y=\"70.035124\"/>\r\n     <use style=\"fill:#1f77b4;stroke:#1f77b4;\" x=\"158.522274\" xlink:href=\"#m459afa4ae4\" y=\"95.184031\"/>\r\n     <use style=\"fill:#1f77b4;stroke:#1f77b4;\" x=\"109.688924\" xlink:href=\"#m459afa4ae4\" y=\"63.308046\"/>\r\n     <use style=\"fill:#1f77b4;stroke:#1f77b4;\" x=\"106.018978\" xlink:href=\"#m459afa4ae4\" y=\"46.64353\"/>\r\n     <use style=\"fill:#1f77b4;stroke:#1f77b4;\" x=\"143.339206\" xlink:href=\"#m459afa4ae4\" y=\"101.919507\"/>\r\n     <use style=\"fill:#1f77b4;stroke:#1f77b4;\" x=\"94.801477\" xlink:href=\"#m459afa4ae4\" y=\"66.123051\"/>\r\n     <use style=\"fill:#1f77b4;stroke:#1f77b4;\" x=\"122.922606\" xlink:href=\"#m459afa4ae4\" y=\"61.005739\"/>\r\n     <use style=\"fill:#1f77b4;stroke:#1f77b4;\" x=\"155.148839\" xlink:href=\"#m459afa4ae4\" y=\"88.705079\"/>\r\n     <use style=\"fill:#1f77b4;stroke:#1f77b4;\" x=\"141.373713\" xlink:href=\"#m459afa4ae4\" y=\"96.152701\"/>\r\n     <use style=\"fill:#1f77b4;stroke:#1f77b4;\" x=\"167.0007\" xlink:href=\"#m459afa4ae4\" y=\"105.813366\"/>\r\n     <use style=\"fill:#1f77b4;stroke:#1f77b4;\" x=\"138.175142\" xlink:href=\"#m459afa4ae4\" y=\"79.617104\"/>\r\n     <use style=\"fill:#1f77b4;stroke:#1f77b4;\" x=\"146.525938\" xlink:href=\"#m459afa4ae4\" y=\"90.900842\"/>\r\n     <use style=\"fill:#1f77b4;stroke:#1f77b4;\" x=\"87.222534\" xlink:href=\"#m459afa4ae4\" y=\"48.379306\"/>\r\n     <use style=\"fill:#1f77b4;stroke:#1f77b4;\" x=\"154.019963\" xlink:href=\"#m459afa4ae4\" y=\"109.281325\"/>\r\n     <use style=\"fill:#1f77b4;stroke:#1f77b4;\" x=\"37.81946\" xlink:href=\"#m459afa4ae4\" y=\"27.198225\"/>\r\n     <use style=\"fill:#1f77b4;stroke:#1f77b4;\" x=\"172.516432\" xlink:href=\"#m459afa4ae4\" y=\"115.740854\"/>\r\n     <use style=\"fill:#1f77b4;stroke:#1f77b4;\" x=\"96.206474\" xlink:href=\"#m459afa4ae4\" y=\"57.842544\"/>\r\n     <use style=\"fill:#1f77b4;stroke:#1f77b4;\" x=\"80.041871\" xlink:href=\"#m459afa4ae4\" y=\"65.539329\"/>\r\n     <use style=\"fill:#1f77b4;stroke:#1f77b4;\" x=\"160.777577\" xlink:href=\"#m459afa4ae4\" y=\"110.542787\"/>\r\n     <use style=\"fill:#1f77b4;stroke:#1f77b4;\" x=\"128.185942\" xlink:href=\"#m459afa4ae4\" y=\"63.681244\"/>\r\n     <use style=\"fill:#1f77b4;stroke:#1f77b4;\" x=\"133.822627\" xlink:href=\"#m459afa4ae4\" y=\"103.823629\"/>\r\n     <use style=\"fill:#1f77b4;stroke:#1f77b4;\" x=\"162.398473\" xlink:href=\"#m459afa4ae4\" y=\"110.42202\"/>\r\n     <use style=\"fill:#1f77b4;stroke:#1f77b4;\" x=\"172.879737\" xlink:href=\"#m459afa4ae4\" y=\"109.459821\"/>\r\n     <use style=\"fill:#1f77b4;stroke:#1f77b4;\" x=\"148.356241\" xlink:href=\"#m459afa4ae4\" y=\"111.385854\"/>\r\n     <use style=\"fill:#1f77b4;stroke:#1f77b4;\" x=\"157.329675\" xlink:href=\"#m459afa4ae4\" y=\"101.075761\"/>\r\n     <use style=\"fill:#1f77b4;stroke:#1f77b4;\" x=\"119.652611\" xlink:href=\"#m459afa4ae4\" y=\"70.476603\"/>\r\n     <use style=\"fill:#1f77b4;stroke:#1f77b4;\" x=\"132.676021\" xlink:href=\"#m459afa4ae4\" y=\"84.969062\"/>\r\n     <use style=\"fill:#1f77b4;stroke:#1f77b4;\" x=\"109.40067\" xlink:href=\"#m459afa4ae4\" y=\"90.630155\"/>\r\n     <use style=\"fill:#1f77b4;stroke:#1f77b4;\" x=\"135.448261\" xlink:href=\"#m459afa4ae4\" y=\"101.760264\"/>\r\n     <use style=\"fill:#1f77b4;stroke:#1f77b4;\" x=\"115.740559\" xlink:href=\"#m459afa4ae4\" y=\"72.071169\"/>\r\n     <use style=\"fill:#1f77b4;stroke:#1f77b4;\" x=\"84.710431\" xlink:href=\"#m459afa4ae4\" y=\"57.620712\"/>\r\n     <use style=\"fill:#1f77b4;stroke:#1f77b4;\" x=\"146.733411\" xlink:href=\"#m459afa4ae4\" y=\"90.590383\"/>\r\n     <use style=\"fill:#1f77b4;stroke:#1f77b4;\" x=\"159.508239\" xlink:href=\"#m459afa4ae4\" y=\"111.873065\"/>\r\n     <use style=\"fill:#1f77b4;stroke:#1f77b4;\" x=\"122.064262\" xlink:href=\"#m459afa4ae4\" y=\"89.552291\"/>\r\n     <use style=\"fill:#1f77b4;stroke:#1f77b4;\" x=\"118.967422\" xlink:href=\"#m459afa4ae4\" y=\"62.567554\"/>\r\n     <use style=\"fill:#1f77b4;stroke:#1f77b4;\" x=\"117.777937\" xlink:href=\"#m459afa4ae4\" y=\"75.065604\"/>\r\n     <use style=\"fill:#1f77b4;stroke:#1f77b4;\" x=\"107.65616\" xlink:href=\"#m459afa4ae4\" y=\"48.494737\"/>\r\n     <use style=\"fill:#1f77b4;stroke:#1f77b4;\" x=\"102.703171\" xlink:href=\"#m459afa4ae4\" y=\"63.727037\"/>\r\n     <use style=\"fill:#1f77b4;stroke:#1f77b4;\" x=\"160.223823\" xlink:href=\"#m459afa4ae4\" y=\"111.972742\"/>\r\n     <use style=\"fill:#1f77b4;stroke:#1f77b4;\" x=\"84.925142\" xlink:href=\"#m459afa4ae4\" y=\"63.623143\"/>\r\n     <use style=\"fill:#1f77b4;stroke:#1f77b4;\" x=\"144.388588\" xlink:href=\"#m459afa4ae4\" y=\"81.588706\"/>\r\n     <use style=\"fill:#1f77b4;stroke:#1f77b4;\" x=\"146.935556\" xlink:href=\"#m459afa4ae4\" y=\"102.489322\"/>\r\n     <use style=\"fill:#1f77b4;stroke:#1f77b4;\" x=\"126.831956\" xlink:href=\"#m459afa4ae4\" y=\"81.62565\"/>\r\n     <use style=\"fill:#1f77b4;stroke:#1f77b4;\" x=\"159.533503\" xlink:href=\"#m459afa4ae4\" y=\"114.730634\"/>\r\n     <use style=\"fill:#1f77b4;stroke:#1f77b4;\" x=\"196.034083\" xlink:href=\"#m459afa4ae4\" y=\"132.135886\"/>\r\n     <use style=\"fill:#1f77b4;stroke:#1f77b4;\" x=\"163.403886\" xlink:href=\"#m459afa4ae4\" y=\"101.342221\"/>\r\n     <use style=\"fill:#1f77b4;stroke:#1f77b4;\" x=\"144.405301\" xlink:href=\"#m459afa4ae4\" y=\"85.345695\"/>\r\n     <use style=\"fill:#1f77b4;stroke:#1f77b4;\" x=\"139.492216\" xlink:href=\"#m459afa4ae4\" y=\"93.066828\"/>\r\n     <use style=\"fill:#1f77b4;stroke:#1f77b4;\" x=\"140.400014\" xlink:href=\"#m459afa4ae4\" y=\"91.805131\"/>\r\n     <use style=\"fill:#1f77b4;stroke:#1f77b4;\" x=\"85.784923\" xlink:href=\"#m459afa4ae4\" y=\"57.390468\"/>\r\n     <use style=\"fill:#1f77b4;stroke:#1f77b4;\" x=\"55.917443\" xlink:href=\"#m459afa4ae4\" y=\"22.673075\"/>\r\n     <use style=\"fill:#1f77b4;stroke:#1f77b4;\" x=\"161.145455\" xlink:href=\"#m459afa4ae4\" y=\"100.887536\"/>\r\n     <use style=\"fill:#1f77b4;stroke:#1f77b4;\" x=\"98.42606\" xlink:href=\"#m459afa4ae4\" y=\"60.052353\"/>\r\n     <use style=\"fill:#1f77b4;stroke:#1f77b4;\" x=\"158.062771\" xlink:href=\"#m459afa4ae4\" y=\"104.194603\"/>\r\n     <use style=\"fill:#1f77b4;stroke:#1f77b4;\" x=\"128.687064\" xlink:href=\"#m459afa4ae4\" y=\"87.239174\"/>\r\n     <use style=\"fill:#1f77b4;stroke:#1f77b4;\" x=\"136.905536\" xlink:href=\"#m459afa4ae4\" y=\"101.949879\"/>\r\n     <use style=\"fill:#1f77b4;stroke:#1f77b4;\" x=\"118.789914\" xlink:href=\"#m459afa4ae4\" y=\"66.725251\"/>\r\n     <use style=\"fill:#1f77b4;stroke:#1f77b4;\" x=\"87.167866\" xlink:href=\"#m459afa4ae4\" y=\"46.551177\"/>\r\n     <use style=\"fill:#1f77b4;stroke:#1f77b4;\" x=\"145.486644\" xlink:href=\"#m459afa4ae4\" y=\"76.784294\"/>\r\n     <use style=\"fill:#1f77b4;stroke:#1f77b4;\" x=\"115.277558\" xlink:href=\"#m459afa4ae4\" y=\"60.216232\"/>\r\n     <use style=\"fill:#1f77b4;stroke:#1f77b4;\" x=\"117.840621\" xlink:href=\"#m459afa4ae4\" y=\"73.478233\"/>\r\n     <use style=\"fill:#1f77b4;stroke:#1f77b4;\" x=\"158.714324\" xlink:href=\"#m459afa4ae4\" y=\"83.380312\"/>\r\n     <use style=\"fill:#1f77b4;stroke:#1f77b4;\" x=\"97.183641\" xlink:href=\"#m459afa4ae4\" y=\"56.632498\"/>\r\n     <use style=\"fill:#1f77b4;stroke:#1f77b4;\" x=\"113.649904\" xlink:href=\"#m459afa4ae4\" y=\"59.108497\"/>\r\n     <use style=\"fill:#1f77b4;stroke:#1f77b4;\" x=\"105.031232\" xlink:href=\"#m459afa4ae4\" y=\"72.172072\"/>\r\n     <use style=\"fill:#1f77b4;stroke:#1f77b4;\" x=\"121.983577\" xlink:href=\"#m459afa4ae4\" y=\"92.36301\"/>\r\n     <use style=\"fill:#1f77b4;stroke:#1f77b4;\" x=\"106.161804\" xlink:href=\"#m459afa4ae4\" y=\"58.584773\"/>\r\n     <use style=\"fill:#1f77b4;stroke:#1f77b4;\" x=\"166.166522\" xlink:href=\"#m459afa4ae4\" y=\"97.675228\"/>\r\n     <use style=\"fill:#1f77b4;stroke:#1f77b4;\" x=\"120.149342\" xlink:href=\"#m459afa4ae4\" y=\"83.190415\"/>\r\n     <use style=\"fill:#1f77b4;stroke:#1f77b4;\" x=\"100.834636\" xlink:href=\"#m459afa4ae4\" y=\"51.882956\"/>\r\n     <use style=\"fill:#1f77b4;stroke:#1f77b4;\" x=\"126.220897\" xlink:href=\"#m459afa4ae4\" y=\"76.355288\"/>\r\n     <use style=\"fill:#1f77b4;stroke:#1f77b4;\" x=\"88.479417\" xlink:href=\"#m459afa4ae4\" y=\"54.892204\"/>\r\n     <use style=\"fill:#1f77b4;stroke:#1f77b4;\" x=\"100.441947\" xlink:href=\"#m459afa4ae4\" y=\"67.528242\"/>\r\n     <use style=\"fill:#1f77b4;stroke:#1f77b4;\" x=\"125.990544\" xlink:href=\"#m459afa4ae4\" y=\"82.606153\"/>\r\n     <use style=\"fill:#1f77b4;stroke:#1f77b4;\" x=\"124.28619\" xlink:href=\"#m459afa4ae4\" y=\"83.187106\"/>\r\n     <use style=\"fill:#1f77b4;stroke:#1f77b4;\" x=\"151.352894\" xlink:href=\"#m459afa4ae4\" y=\"86.695103\"/>\r\n     <use style=\"fill:#1f77b4;stroke:#1f77b4;\" x=\"134.740662\" xlink:href=\"#m459afa4ae4\" y=\"80.824668\"/>\r\n     <use style=\"fill:#1f77b4;stroke:#1f77b4;\" x=\"125.107809\" xlink:href=\"#m459afa4ae4\" y=\"69.489644\"/>\r\n     <use style=\"fill:#1f77b4;stroke:#1f77b4;\" x=\"106.765896\" xlink:href=\"#m459afa4ae4\" y=\"73.412852\"/>\r\n     <use style=\"fill:#1f77b4;stroke:#1f77b4;\" x=\"139.399517\" xlink:href=\"#m459afa4ae4\" y=\"90.981106\"/>\r\n     <use style=\"fill:#1f77b4;stroke:#1f77b4;\" x=\"117.372843\" xlink:href=\"#m459afa4ae4\" y=\"91.364385\"/>\r\n     <use style=\"fill:#1f77b4;stroke:#1f77b4;\" x=\"147.375624\" xlink:href=\"#m459afa4ae4\" y=\"86.994704\"/>\r\n     <use style=\"fill:#1f77b4;stroke:#1f77b4;\" x=\"151.213161\" xlink:href=\"#m459afa4ae4\" y=\"86.178451\"/>\r\n     <use style=\"fill:#1f77b4;stroke:#1f77b4;\" x=\"199.357379\" xlink:href=\"#m459afa4ae4\" y=\"124.146525\"/>\r\n     <use style=\"fill:#1f77b4;stroke:#1f77b4;\" x=\"139.006691\" xlink:href=\"#m459afa4ae4\" y=\"71.533216\"/>\r\n     <use style=\"fill:#1f77b4;stroke:#1f77b4;\" x=\"122.612524\" xlink:href=\"#m459afa4ae4\" y=\"94.773133\"/>\r\n     <use style=\"fill:#1f77b4;stroke:#1f77b4;\" x=\"115.440136\" xlink:href=\"#m459afa4ae4\" y=\"72.973925\"/>\r\n     <use style=\"fill:#1f77b4;stroke:#1f77b4;\" x=\"117.629788\" xlink:href=\"#m459afa4ae4\" y=\"85.200539\"/>\r\n     <use style=\"fill:#1f77b4;stroke:#1f77b4;\" x=\"131.185169\" xlink:href=\"#m459afa4ae4\" y=\"91.279489\"/>\r\n     <use style=\"fill:#1f77b4;stroke:#1f77b4;\" x=\"127.506567\" xlink:href=\"#m459afa4ae4\" y=\"90.005815\"/>\r\n     <use style=\"fill:#1f77b4;stroke:#1f77b4;\" x=\"131.775028\" xlink:href=\"#m459afa4ae4\" y=\"94.040951\"/>\r\n     <use style=\"fill:#1f77b4;stroke:#1f77b4;\" x=\"119.576408\" xlink:href=\"#m459afa4ae4\" y=\"74.382804\"/>\r\n     <use style=\"fill:#1f77b4;stroke:#1f77b4;\" x=\"189.781878\" xlink:href=\"#m459afa4ae4\" y=\"117.140766\"/>\r\n     <use style=\"fill:#1f77b4;stroke:#1f77b4;\" x=\"161.105879\" xlink:href=\"#m459afa4ae4\" y=\"117.98039\"/>\r\n     <use style=\"fill:#1f77b4;stroke:#1f77b4;\" x=\"113.048511\" xlink:href=\"#m459afa4ae4\" y=\"80.508919\"/>\r\n     <use style=\"fill:#1f77b4;stroke:#1f77b4;\" x=\"129.1397\" xlink:href=\"#m459afa4ae4\" y=\"92.93582\"/>\r\n     <use style=\"fill:#1f77b4;stroke:#1f77b4;\" x=\"152.944055\" xlink:href=\"#m459afa4ae4\" y=\"91.29991\"/>\r\n     <use style=\"fill:#1f77b4;stroke:#1f77b4;\" x=\"90.075825\" xlink:href=\"#m459afa4ae4\" y=\"23.478351\"/>\r\n     <use style=\"fill:#1f77b4;stroke:#1f77b4;\" x=\"173.063229\" xlink:href=\"#m459afa4ae4\" y=\"118.963379\"/>\r\n     <use style=\"fill:#1f77b4;stroke:#1f77b4;\" x=\"146.775396\" xlink:href=\"#m459afa4ae4\" y=\"86.622811\"/>\r\n     <use style=\"fill:#1f77b4;stroke:#1f77b4;\" x=\"111.519344\" xlink:href=\"#m459afa4ae4\" y=\"76.012323\"/>\r\n     <use style=\"fill:#1f77b4;stroke:#1f77b4;\" x=\"47.722901\" xlink:href=\"#m459afa4ae4\" y=\"17.999926\"/>\r\n     <use style=\"fill:#1f77b4;stroke:#1f77b4;\" x=\"100.151873\" xlink:href=\"#m459afa4ae4\" y=\"50.983018\"/>\r\n     <use style=\"fill:#1f77b4;stroke:#1f77b4;\" x=\"187.931098\" xlink:href=\"#m459afa4ae4\" y=\"121.564849\"/>\r\n     <use style=\"fill:#1f77b4;stroke:#1f77b4;\" x=\"134.139458\" xlink:href=\"#m459afa4ae4\" y=\"91.904005\"/>\r\n     <use style=\"fill:#1f77b4;stroke:#1f77b4;\" x=\"95.748471\" xlink:href=\"#m459afa4ae4\" y=\"68.954028\"/>\r\n     <use style=\"fill:#1f77b4;stroke:#1f77b4;\" x=\"131.884283\" xlink:href=\"#m459afa4ae4\" y=\"84.680643\"/>\r\n     <use style=\"fill:#1f77b4;stroke:#1f77b4;\" x=\"168.196457\" xlink:href=\"#m459afa4ae4\" y=\"112.312251\"/>\r\n     <use style=\"fill:#1f77b4;stroke:#1f77b4;\" x=\"166.25882\" xlink:href=\"#m459afa4ae4\" y=\"109.578018\"/>\r\n     <use style=\"fill:#1f77b4;stroke:#1f77b4;\" x=\"122.183359\" xlink:href=\"#m459afa4ae4\" y=\"78.721803\"/>\r\n     <use style=\"fill:#1f77b4;stroke:#1f77b4;\" x=\"83.00743\" xlink:href=\"#m459afa4ae4\" y=\"60.581906\"/>\r\n     <use style=\"fill:#1f77b4;stroke:#1f77b4;\" x=\"105.096718\" xlink:href=\"#m459afa4ae4\" y=\"84.756862\"/>\r\n     <use style=\"fill:#1f77b4;stroke:#1f77b4;\" x=\"104.780469\" xlink:href=\"#m459afa4ae4\" y=\"70.817266\"/>\r\n     <use style=\"fill:#1f77b4;stroke:#1f77b4;\" x=\"142.977787\" xlink:href=\"#m459afa4ae4\" y=\"84.246885\"/>\r\n     <use style=\"fill:#1f77b4;stroke:#1f77b4;\" x=\"138.510726\" xlink:href=\"#m459afa4ae4\" y=\"103.522481\"/>\r\n     <use style=\"fill:#1f77b4;stroke:#1f77b4;\" x=\"138.79025\" xlink:href=\"#m459afa4ae4\" y=\"62.824778\"/>\r\n     <use style=\"fill:#1f77b4;stroke:#1f77b4;\" x=\"137.819055\" xlink:href=\"#m459afa4ae4\" y=\"91.742048\"/>\r\n     <use style=\"fill:#1f77b4;stroke:#1f77b4;\" x=\"125.810287\" xlink:href=\"#m459afa4ae4\" y=\"73.813322\"/>\r\n     <use style=\"fill:#1f77b4;stroke:#1f77b4;\" x=\"136.170645\" xlink:href=\"#m459afa4ae4\" y=\"62.761617\"/>\r\n     <use style=\"fill:#1f77b4;stroke:#1f77b4;\" x=\"101.645317\" xlink:href=\"#m459afa4ae4\" y=\"64.777368\"/>\r\n     <use style=\"fill:#1f77b4;stroke:#1f77b4;\" x=\"118.082997\" xlink:href=\"#m459afa4ae4\" y=\"78.421944\"/>\r\n     <use style=\"fill:#1f77b4;stroke:#1f77b4;\" x=\"124.631885\" xlink:href=\"#m459afa4ae4\" y=\"89.375905\"/>\r\n     <use style=\"fill:#1f77b4;stroke:#1f77b4;\" x=\"156.950267\" xlink:href=\"#m459afa4ae4\" y=\"108.636853\"/>\r\n     <use style=\"fill:#1f77b4;stroke:#1f77b4;\" x=\"111.678183\" xlink:href=\"#m459afa4ae4\" y=\"64.65374\"/>\r\n     <use style=\"fill:#1f77b4;stroke:#1f77b4;\" x=\"157.076031\" xlink:href=\"#m459afa4ae4\" y=\"100.253787\"/>\r\n     <use style=\"fill:#1f77b4;stroke:#1f77b4;\" x=\"155.445998\" xlink:href=\"#m459afa4ae4\" y=\"94.622204\"/>\r\n     <use style=\"fill:#1f77b4;stroke:#1f77b4;\" x=\"100.01762\" xlink:href=\"#m459afa4ae4\" y=\"44.587998\"/>\r\n     <use style=\"fill:#1f77b4;stroke:#1f77b4;\" x=\"61.663992\" xlink:href=\"#m459afa4ae4\" y=\"53.591572\"/>\r\n     <use style=\"fill:#1f77b4;stroke:#1f77b4;\" x=\"95.812716\" xlink:href=\"#m459afa4ae4\" y=\"36.915069\"/>\r\n     <use style=\"fill:#1f77b4;stroke:#1f77b4;\" x=\"154.717479\" xlink:href=\"#m459afa4ae4\" y=\"91.708918\"/>\r\n     <use style=\"fill:#1f77b4;stroke:#1f77b4;\" x=\"148.500698\" xlink:href=\"#m459afa4ae4\" y=\"103.139362\"/>\r\n     <use style=\"fill:#1f77b4;stroke:#1f77b4;\" x=\"105.016358\" xlink:href=\"#m459afa4ae4\" y=\"76.090731\"/>\r\n     <use style=\"fill:#1f77b4;stroke:#1f77b4;\" x=\"166.504901\" xlink:href=\"#m459afa4ae4\" y=\"111.017252\"/>\r\n     <use style=\"fill:#1f77b4;stroke:#1f77b4;\" x=\"133.825899\" xlink:href=\"#m459afa4ae4\" y=\"105.15797\"/>\r\n     <use style=\"fill:#1f77b4;stroke:#1f77b4;\" x=\"117.410277\" xlink:href=\"#m459afa4ae4\" y=\"56.242106\"/>\r\n     <use style=\"fill:#1f77b4;stroke:#1f77b4;\" x=\"81.915223\" xlink:href=\"#m459afa4ae4\" y=\"51.236586\"/>\r\n     <use style=\"fill:#1f77b4;stroke:#1f77b4;\" x=\"87.282191\" xlink:href=\"#m459afa4ae4\" y=\"54.491729\"/>\r\n     <use style=\"fill:#1f77b4;stroke:#1f77b4;\" x=\"122.24444\" xlink:href=\"#m459afa4ae4\" y=\"94.434019\"/>\r\n     <use style=\"fill:#1f77b4;stroke:#1f77b4;\" x=\"120.830372\" xlink:href=\"#m459afa4ae4\" y=\"70.564142\"/>\r\n     <use style=\"fill:#1f77b4;stroke:#1f77b4;\" x=\"58.603965\" xlink:href=\"#m459afa4ae4\" y=\"33.084596\"/>\r\n     <use style=\"fill:#1f77b4;stroke:#1f77b4;\" x=\"128.269405\" xlink:href=\"#m459afa4ae4\" y=\"72.056676\"/>\r\n     <use style=\"fill:#1f77b4;stroke:#1f77b4;\" x=\"142.104443\" xlink:href=\"#m459afa4ae4\" y=\"100.721745\"/>\r\n     <use style=\"fill:#1f77b4;stroke:#1f77b4;\" x=\"174.514096\" xlink:href=\"#m459afa4ae4\" y=\"116.376682\"/>\r\n     <use style=\"fill:#1f77b4;stroke:#1f77b4;\" x=\"115.548672\" xlink:href=\"#m459afa4ae4\" y=\"60.902451\"/>\r\n     <use style=\"fill:#1f77b4;stroke:#1f77b4;\" x=\"113.277908\" xlink:href=\"#m459afa4ae4\" y=\"61.658718\"/>\r\n     <use style=\"fill:#1f77b4;stroke:#1f77b4;\" x=\"100.268096\" xlink:href=\"#m459afa4ae4\" y=\"67.178107\"/>\r\n     <use style=\"fill:#1f77b4;stroke:#1f77b4;\" x=\"132.051291\" xlink:href=\"#m459afa4ae4\" y=\"74.837201\"/>\r\n     <use style=\"fill:#1f77b4;stroke:#1f77b4;\" x=\"145.133447\" xlink:href=\"#m459afa4ae4\" y=\"101.871333\"/>\r\n     <use style=\"fill:#1f77b4;stroke:#1f77b4;\" x=\"116.156286\" xlink:href=\"#m459afa4ae4\" y=\"55.097055\"/>\r\n     <use style=\"fill:#1f77b4;stroke:#1f77b4;\" x=\"167.424063\" xlink:href=\"#m459afa4ae4\" y=\"97.798115\"/>\r\n     <use style=\"fill:#1f77b4;stroke:#1f77b4;\" x=\"145.002763\" xlink:href=\"#m459afa4ae4\" y=\"103.974662\"/>\r\n     <use style=\"fill:#1f77b4;stroke:#1f77b4;\" x=\"117.058568\" xlink:href=\"#m459afa4ae4\" y=\"55.77712\"/>\r\n     <use style=\"fill:#1f77b4;stroke:#1f77b4;\" x=\"129.864596\" xlink:href=\"#m459afa4ae4\" y=\"107.145003\"/>\r\n     <use style=\"fill:#1f77b4;stroke:#1f77b4;\" x=\"145.945282\" xlink:href=\"#m459afa4ae4\" y=\"91.235125\"/>\r\n     <use style=\"fill:#1f77b4;stroke:#1f77b4;\" x=\"131.422003\" xlink:href=\"#m459afa4ae4\" y=\"92.44239\"/>\r\n     <use style=\"fill:#1f77b4;stroke:#1f77b4;\" x=\"139.002074\" xlink:href=\"#m459afa4ae4\" y=\"76.411117\"/>\r\n     <use style=\"fill:#1f77b4;stroke:#1f77b4;\" x=\"143.024024\" xlink:href=\"#m459afa4ae4\" y=\"84.355839\"/>\r\n     <use style=\"fill:#1f77b4;stroke:#1f77b4;\" x=\"138.60023\" xlink:href=\"#m459afa4ae4\" y=\"65.078289\"/>\r\n     <use style=\"fill:#1f77b4;stroke:#1f77b4;\" x=\"155.339037\" xlink:href=\"#m459afa4ae4\" y=\"106.390127\"/>\r\n     <use style=\"fill:#1f77b4;stroke:#1f77b4;\" x=\"106.676211\" xlink:href=\"#m459afa4ae4\" y=\"51.803333\"/>\r\n     <use style=\"fill:#1f77b4;stroke:#1f77b4;\" x=\"125.723861\" xlink:href=\"#m459afa4ae4\" y=\"103.43868\"/>\r\n     <use style=\"fill:#1f77b4;stroke:#1f77b4;\" x=\"155.752557\" xlink:href=\"#m459afa4ae4\" y=\"84.13176\"/>\r\n     <use style=\"fill:#1f77b4;stroke:#1f77b4;\" x=\"53.673409\" xlink:href=\"#m459afa4ae4\" y=\"27.792941\"/>\r\n     <use style=\"fill:#1f77b4;stroke:#1f77b4;\" x=\"152.643881\" xlink:href=\"#m459afa4ae4\" y=\"86.079678\"/>\r\n     <use style=\"fill:#1f77b4;stroke:#1f77b4;\" x=\"119.904377\" xlink:href=\"#m459afa4ae4\" y=\"92.899985\"/>\r\n     <use style=\"fill:#1f77b4;stroke:#1f77b4;\" x=\"114.617138\" xlink:href=\"#m459afa4ae4\" y=\"71.782115\"/>\r\n     <use style=\"fill:#1f77b4;stroke:#1f77b4;\" x=\"118.389242\" xlink:href=\"#m459afa4ae4\" y=\"62.490804\"/>\r\n     <use style=\"fill:#1f77b4;stroke:#1f77b4;\" x=\"131.336379\" xlink:href=\"#m459afa4ae4\" y=\"106.306534\"/>\r\n     <use style=\"fill:#1f77b4;stroke:#1f77b4;\" x=\"75.680336\" xlink:href=\"#m459afa4ae4\" y=\"20.612062\"/>\r\n     <use style=\"fill:#1f77b4;stroke:#1f77b4;\" x=\"95.933298\" xlink:href=\"#m459afa4ae4\" y=\"70.511668\"/>\r\n     <use style=\"fill:#1f77b4;stroke:#1f77b4;\" x=\"101.95824\" xlink:href=\"#m459afa4ae4\" y=\"51.613833\"/>\r\n     <use style=\"fill:#1f77b4;stroke:#1f77b4;\" x=\"119.103663\" xlink:href=\"#m459afa4ae4\" y=\"70.965919\"/>\r\n     <use style=\"fill:#1f77b4;stroke:#1f77b4;\" x=\"122.517495\" xlink:href=\"#m459afa4ae4\" y=\"76.146634\"/>\r\n     <use style=\"fill:#1f77b4;stroke:#1f77b4;\" x=\"83.439736\" xlink:href=\"#m459afa4ae4\" y=\"52.276232\"/>\r\n     <use style=\"fill:#1f77b4;stroke:#1f77b4;\" x=\"175.307936\" xlink:href=\"#m459afa4ae4\" y=\"89.20085\"/>\r\n     <use style=\"fill:#1f77b4;stroke:#1f77b4;\" x=\"128.658165\" xlink:href=\"#m459afa4ae4\" y=\"67.005221\"/>\r\n     <use style=\"fill:#1f77b4;stroke:#1f77b4;\" x=\"109.589951\" xlink:href=\"#m459afa4ae4\" y=\"71.52451\"/>\r\n     <use style=\"fill:#1f77b4;stroke:#1f77b4;\" x=\"93.151305\" xlink:href=\"#m459afa4ae4\" y=\"67.492211\"/>\r\n     <use style=\"fill:#1f77b4;stroke:#1f77b4;\" x=\"138.53551\" xlink:href=\"#m459afa4ae4\" y=\"76.478956\"/>\r\n     <use style=\"fill:#1f77b4;stroke:#1f77b4;\" x=\"144.528472\" xlink:href=\"#m459afa4ae4\" y=\"84.107749\"/>\r\n     <use style=\"fill:#1f77b4;stroke:#1f77b4;\" x=\"105.450749\" xlink:href=\"#m459afa4ae4\" y=\"56.396112\"/>\r\n     <use style=\"fill:#1f77b4;stroke:#1f77b4;\" x=\"112.832818\" xlink:href=\"#m459afa4ae4\" y=\"70.597364\"/>\r\n     <use style=\"fill:#1f77b4;stroke:#1f77b4;\" x=\"135.233752\" xlink:href=\"#m459afa4ae4\" y=\"73.28585\"/>\r\n     <use style=\"fill:#1f77b4;stroke:#1f77b4;\" x=\"120.33853\" xlink:href=\"#m459afa4ae4\" y=\"71.393594\"/>\r\n     <use style=\"fill:#1f77b4;stroke:#1f77b4;\" x=\"90.442715\" xlink:href=\"#m459afa4ae4\" y=\"49.614245\"/>\r\n     <use style=\"fill:#1f77b4;stroke:#1f77b4;\" x=\"94.53462\" xlink:href=\"#m459afa4ae4\" y=\"60.704497\"/>\r\n     <use style=\"fill:#1f77b4;stroke:#1f77b4;\" x=\"144.008084\" xlink:href=\"#m459afa4ae4\" y=\"81.930354\"/>\r\n     <use style=\"fill:#1f77b4;stroke:#1f77b4;\" x=\"158.237127\" xlink:href=\"#m459afa4ae4\" y=\"106.67929\"/>\r\n     <use style=\"fill:#1f77b4;stroke:#1f77b4;\" x=\"145.918774\" xlink:href=\"#m459afa4ae4\" y=\"93.4055\"/>\r\n     <use style=\"fill:#1f77b4;stroke:#1f77b4;\" x=\"122.230645\" xlink:href=\"#m459afa4ae4\" y=\"70.172461\"/>\r\n     <use style=\"fill:#1f77b4;stroke:#1f77b4;\" x=\"153.098973\" xlink:href=\"#m459afa4ae4\" y=\"101.086883\"/>\r\n     <use style=\"fill:#1f77b4;stroke:#1f77b4;\" x=\"145.163694\" xlink:href=\"#m459afa4ae4\" y=\"84.576415\"/>\r\n     <use style=\"fill:#1f77b4;stroke:#1f77b4;\" x=\"101.698844\" xlink:href=\"#m459afa4ae4\" y=\"64.22641\"/>\r\n     <use style=\"fill:#1f77b4;stroke:#1f77b4;\" x=\"123.304439\" xlink:href=\"#m459afa4ae4\" y=\"70.720899\"/>\r\n     <use style=\"fill:#1f77b4;stroke:#1f77b4;\" x=\"129.853103\" xlink:href=\"#m459afa4ae4\" y=\"98.029757\"/>\r\n     <use style=\"fill:#1f77b4;stroke:#1f77b4;\" x=\"122.951945\" xlink:href=\"#m459afa4ae4\" y=\"91.944504\"/>\r\n     <use style=\"fill:#1f77b4;stroke:#1f77b4;\" x=\"157.948057\" xlink:href=\"#m459afa4ae4\" y=\"99.716031\"/>\r\n     <use style=\"fill:#1f77b4;stroke:#1f77b4;\" x=\"121.923844\" xlink:href=\"#m459afa4ae4\" y=\"74.159834\"/>\r\n     <use style=\"fill:#1f77b4;stroke:#1f77b4;\" x=\"144.370049\" xlink:href=\"#m459afa4ae4\" y=\"93.122113\"/>\r\n     <use style=\"fill:#1f77b4;stroke:#1f77b4;\" x=\"86.907018\" xlink:href=\"#m459afa4ae4\" y=\"62.842517\"/>\r\n     <use style=\"fill:#1f77b4;stroke:#1f77b4;\" x=\"163.418927\" xlink:href=\"#m459afa4ae4\" y=\"110.400451\"/>\r\n     <use style=\"fill:#1f77b4;stroke:#1f77b4;\" x=\"126.167041\" xlink:href=\"#m459afa4ae4\" y=\"103.644267\"/>\r\n     <use style=\"fill:#1f77b4;stroke:#1f77b4;\" x=\"147.606317\" xlink:href=\"#m459afa4ae4\" y=\"94.983623\"/>\r\n     <use style=\"fill:#1f77b4;stroke:#1f77b4;\" x=\"89.594501\" xlink:href=\"#m459afa4ae4\" y=\"63.602065\"/>\r\n     <use style=\"fill:#1f77b4;stroke:#1f77b4;\" x=\"112.057426\" xlink:href=\"#m459afa4ae4\" y=\"61.752268\"/>\r\n     <use style=\"fill:#1f77b4;stroke:#1f77b4;\" x=\"167.698397\" xlink:href=\"#m459afa4ae4\" y=\"100.148466\"/>\r\n     <use style=\"fill:#1f77b4;stroke:#1f77b4;\" x=\"85.921242\" xlink:href=\"#m459afa4ae4\" y=\"55.385505\"/>\r\n     <use style=\"fill:#1f77b4;stroke:#1f77b4;\" x=\"137.004124\" xlink:href=\"#m459afa4ae4\" y=\"86.305403\"/>\r\n     <use style=\"fill:#1f77b4;stroke:#1f77b4;\" x=\"85.773017\" xlink:href=\"#m459afa4ae4\" y=\"49.607839\"/>\r\n     <use style=\"fill:#1f77b4;stroke:#1f77b4;\" x=\"123.754375\" xlink:href=\"#m459afa4ae4\" y=\"79.998422\"/>\r\n     <use style=\"fill:#1f77b4;stroke:#1f77b4;\" x=\"109.392022\" xlink:href=\"#m459afa4ae4\" y=\"50.134595\"/>\r\n     <use style=\"fill:#1f77b4;stroke:#1f77b4;\" x=\"123.126541\" xlink:href=\"#m459afa4ae4\" y=\"79.010138\"/>\r\n     <use style=\"fill:#1f77b4;stroke:#1f77b4;\" x=\"120.832502\" xlink:href=\"#m459afa4ae4\" y=\"72.393082\"/>\r\n     <use style=\"fill:#1f77b4;stroke:#1f77b4;\" x=\"140.541137\" xlink:href=\"#m459afa4ae4\" y=\"91.172884\"/>\r\n     <use style=\"fill:#1f77b4;stroke:#1f77b4;\" x=\"133.796289\" xlink:href=\"#m459afa4ae4\" y=\"75.518338\"/>\r\n     <use style=\"fill:#1f77b4;stroke:#1f77b4;\" x=\"136.066436\" xlink:href=\"#m459afa4ae4\" y=\"102.886805\"/>\r\n     <use style=\"fill:#1f77b4;stroke:#1f77b4;\" x=\"117.25703\" xlink:href=\"#m459afa4ae4\" y=\"58.399734\"/>\r\n     <use style=\"fill:#1f77b4;stroke:#1f77b4;\" x=\"153.929297\" xlink:href=\"#m459afa4ae4\" y=\"106.379639\"/>\r\n     <use style=\"fill:#1f77b4;stroke:#1f77b4;\" x=\"87.527643\" xlink:href=\"#m459afa4ae4\" y=\"61.785604\"/>\r\n     <use style=\"fill:#1f77b4;stroke:#1f77b4;\" x=\"136.976496\" xlink:href=\"#m459afa4ae4\" y=\"84.2692\"/>\r\n     <use style=\"fill:#1f77b4;stroke:#1f77b4;\" x=\"170.895837\" xlink:href=\"#m459afa4ae4\" y=\"108.804922\"/>\r\n     <use style=\"fill:#1f77b4;stroke:#1f77b4;\" x=\"151.763296\" xlink:href=\"#m459afa4ae4\" y=\"87.844281\"/>\r\n     <use style=\"fill:#1f77b4;stroke:#1f77b4;\" x=\"110.87032\" xlink:href=\"#m459afa4ae4\" y=\"70.373949\"/>\r\n     <use style=\"fill:#1f77b4;stroke:#1f77b4;\" x=\"99.557918\" xlink:href=\"#m459afa4ae4\" y=\"63.987279\"/>\r\n     <use style=\"fill:#1f77b4;stroke:#1f77b4;\" x=\"104.600646\" xlink:href=\"#m459afa4ae4\" y=\"62.430984\"/>\r\n     <use style=\"fill:#1f77b4;stroke:#1f77b4;\" x=\"90.2686\" xlink:href=\"#m459afa4ae4\" y=\"60.491666\"/>\r\n     <use style=\"fill:#1f77b4;stroke:#1f77b4;\" x=\"125.288947\" xlink:href=\"#m459afa4ae4\" y=\"84.803982\"/>\r\n     <use style=\"fill:#1f77b4;stroke:#1f77b4;\" x=\"175.195063\" xlink:href=\"#m459afa4ae4\" y=\"97.934618\"/>\r\n     <use style=\"fill:#1f77b4;stroke:#1f77b4;\" x=\"86.360248\" xlink:href=\"#m459afa4ae4\" y=\"56.02707\"/>\r\n     <use style=\"fill:#1f77b4;stroke:#1f77b4;\" x=\"177.67856\" xlink:href=\"#m459afa4ae4\" y=\"86.085357\"/>\r\n     <use style=\"fill:#1f77b4;stroke:#1f77b4;\" x=\"141.57198\" xlink:href=\"#m459afa4ae4\" y=\"92.747183\"/>\r\n     <use style=\"fill:#1f77b4;stroke:#1f77b4;\" x=\"148.951802\" xlink:href=\"#m459afa4ae4\" y=\"83.072848\"/>\r\n     <use style=\"fill:#1f77b4;stroke:#1f77b4;\" x=\"136.082792\" xlink:href=\"#m459afa4ae4\" y=\"83.120608\"/>\r\n     <use style=\"fill:#1f77b4;stroke:#1f77b4;\" x=\"142.654446\" xlink:href=\"#m459afa4ae4\" y=\"92.987377\"/>\r\n     <use style=\"fill:#1f77b4;stroke:#1f77b4;\" x=\"158.281649\" xlink:href=\"#m459afa4ae4\" y=\"118.643216\"/>\r\n     <use style=\"fill:#1f77b4;stroke:#1f77b4;\" x=\"138.495908\" xlink:href=\"#m459afa4ae4\" y=\"78.905557\"/>\r\n     <use style=\"fill:#1f77b4;stroke:#1f77b4;\" x=\"146.635399\" xlink:href=\"#m459afa4ae4\" y=\"97.813812\"/>\r\n     <use style=\"fill:#1f77b4;stroke:#1f77b4;\" x=\"99.87095\" xlink:href=\"#m459afa4ae4\" y=\"70.544905\"/>\r\n     <use style=\"fill:#1f77b4;stroke:#1f77b4;\" x=\"134.301405\" xlink:href=\"#m459afa4ae4\" y=\"87.077451\"/>\r\n     <use style=\"fill:#1f77b4;stroke:#1f77b4;\" x=\"129.093078\" xlink:href=\"#m459afa4ae4\" y=\"123.257135\"/>\r\n     <use style=\"fill:#1f77b4;stroke:#1f77b4;\" x=\"131.003026\" xlink:href=\"#m459afa4ae4\" y=\"85.193138\"/>\r\n     <use style=\"fill:#1f77b4;stroke:#1f77b4;\" x=\"145.753873\" xlink:href=\"#m459afa4ae4\" y=\"89.648859\"/>\r\n     <use style=\"fill:#1f77b4;stroke:#1f77b4;\" x=\"146.879045\" xlink:href=\"#m459afa4ae4\" y=\"93.214601\"/>\r\n     <use style=\"fill:#1f77b4;stroke:#1f77b4;\" x=\"106.933999\" xlink:href=\"#m459afa4ae4\" y=\"41.172145\"/>\r\n     <use style=\"fill:#1f77b4;stroke:#1f77b4;\" x=\"135.973499\" xlink:href=\"#m459afa4ae4\" y=\"93.20668\"/>\r\n     <use style=\"fill:#1f77b4;stroke:#1f77b4;\" x=\"132.132431\" xlink:href=\"#m459afa4ae4\" y=\"83.044545\"/>\r\n     <use style=\"fill:#1f77b4;stroke:#1f77b4;\" x=\"134.861718\" xlink:href=\"#m459afa4ae4\" y=\"83.41017\"/>\r\n     <use style=\"fill:#1f77b4;stroke:#1f77b4;\" x=\"141.880341\" xlink:href=\"#m459afa4ae4\" y=\"71.48477\"/>\r\n     <use style=\"fill:#1f77b4;stroke:#1f77b4;\" x=\"128.378651\" xlink:href=\"#m459afa4ae4\" y=\"97.839265\"/>\r\n     <use style=\"fill:#1f77b4;stroke:#1f77b4;\" x=\"118.698342\" xlink:href=\"#m459afa4ae4\" y=\"78.747579\"/>\r\n     <use style=\"fill:#1f77b4;stroke:#1f77b4;\" x=\"76.324929\" xlink:href=\"#m459afa4ae4\" y=\"49.65183\"/>\r\n     <use style=\"fill:#1f77b4;stroke:#1f77b4;\" x=\"147.047734\" xlink:href=\"#m459afa4ae4\" y=\"93.366914\"/>\r\n     <use style=\"fill:#1f77b4;stroke:#1f77b4;\" x=\"143.540009\" xlink:href=\"#m459afa4ae4\" y=\"77.946006\"/>\r\n     <use style=\"fill:#1f77b4;stroke:#1f77b4;\" x=\"141.306616\" xlink:href=\"#m459afa4ae4\" y=\"89.204677\"/>\r\n     <use style=\"fill:#1f77b4;stroke:#1f77b4;\" x=\"99.0037\" xlink:href=\"#m459afa4ae4\" y=\"66.340697\"/>\r\n     <use style=\"fill:#1f77b4;stroke:#1f77b4;\" x=\"148.254276\" xlink:href=\"#m459afa4ae4\" y=\"99.561961\"/>\r\n     <use style=\"fill:#1f77b4;stroke:#1f77b4;\" x=\"156.793267\" xlink:href=\"#m459afa4ae4\" y=\"69.018405\"/>\r\n     <use style=\"fill:#1f77b4;stroke:#1f77b4;\" x=\"87.220553\" xlink:href=\"#m459afa4ae4\" y=\"41.755505\"/>\r\n     <use style=\"fill:#1f77b4;stroke:#1f77b4;\" x=\"105.706434\" xlink:href=\"#m459afa4ae4\" y=\"79.158623\"/>\r\n     <use style=\"fill:#1f77b4;stroke:#1f77b4;\" x=\"134.85248\" xlink:href=\"#m459afa4ae4\" y=\"69.835874\"/>\r\n     <use style=\"fill:#1f77b4;stroke:#1f77b4;\" x=\"123.592295\" xlink:href=\"#m459afa4ae4\" y=\"78.707951\"/>\r\n     <use style=\"fill:#1f77b4;stroke:#1f77b4;\" x=\"126.321148\" xlink:href=\"#m459afa4ae4\" y=\"92.92523\"/>\r\n     <use style=\"fill:#1f77b4;stroke:#1f77b4;\" x=\"146.37872\" xlink:href=\"#m459afa4ae4\" y=\"110.062991\"/>\r\n     <use style=\"fill:#1f77b4;stroke:#1f77b4;\" x=\"85.529664\" xlink:href=\"#m459afa4ae4\" y=\"36.530595\"/>\r\n     <use style=\"fill:#1f77b4;stroke:#1f77b4;\" x=\"103.36996\" xlink:href=\"#m459afa4ae4\" y=\"77.581543\"/>\r\n     <use style=\"fill:#1f77b4;stroke:#1f77b4;\" x=\"114.425807\" xlink:href=\"#m459afa4ae4\" y=\"97.896206\"/>\r\n     <use style=\"fill:#1f77b4;stroke:#1f77b4;\" x=\"127.57552\" xlink:href=\"#m459afa4ae4\" y=\"72.868533\"/>\r\n     <use style=\"fill:#1f77b4;stroke:#1f77b4;\" x=\"123.665011\" xlink:href=\"#m459afa4ae4\" y=\"95.563564\"/>\r\n     <use style=\"fill:#1f77b4;stroke:#1f77b4;\" x=\"133.315967\" xlink:href=\"#m459afa4ae4\" y=\"74.16383\"/>\r\n     <use style=\"fill:#1f77b4;stroke:#1f77b4;\" x=\"90.197483\" xlink:href=\"#m459afa4ae4\" y=\"46.427232\"/>\r\n     <use style=\"fill:#1f77b4;stroke:#1f77b4;\" x=\"116.278156\" xlink:href=\"#m459afa4ae4\" y=\"75.313067\"/>\r\n     <use style=\"fill:#1f77b4;stroke:#1f77b4;\" x=\"183.061229\" xlink:href=\"#m459afa4ae4\" y=\"94.915855\"/>\r\n     <use style=\"fill:#1f77b4;stroke:#1f77b4;\" x=\"104.382498\" xlink:href=\"#m459afa4ae4\" y=\"83.739208\"/>\r\n     <use style=\"fill:#1f77b4;stroke:#1f77b4;\" x=\"97.041337\" xlink:href=\"#m459afa4ae4\" y=\"56.619998\"/>\r\n     <use style=\"fill:#1f77b4;stroke:#1f77b4;\" x=\"141.535735\" xlink:href=\"#m459afa4ae4\" y=\"106.548007\"/>\r\n     <use style=\"fill:#1f77b4;stroke:#1f77b4;\" x=\"124.738722\" xlink:href=\"#m459afa4ae4\" y=\"79.227662\"/>\r\n     <use style=\"fill:#1f77b4;stroke:#1f77b4;\" x=\"184.953833\" xlink:href=\"#m459afa4ae4\" y=\"118.316286\"/>\r\n     <use style=\"fill:#1f77b4;stroke:#1f77b4;\" x=\"116.249209\" xlink:href=\"#m459afa4ae4\" y=\"75.018226\"/>\r\n     <use style=\"fill:#1f77b4;stroke:#1f77b4;\" x=\"102.191641\" xlink:href=\"#m459afa4ae4\" y=\"46.072989\"/>\r\n     <use style=\"fill:#1f77b4;stroke:#1f77b4;\" x=\"146.404165\" xlink:href=\"#m459afa4ae4\" y=\"102.162369\"/>\r\n     <use style=\"fill:#1f77b4;stroke:#1f77b4;\" x=\"152.551641\" xlink:href=\"#m459afa4ae4\" y=\"86.661348\"/>\r\n     <use style=\"fill:#1f77b4;stroke:#1f77b4;\" x=\"128.300461\" xlink:href=\"#m459afa4ae4\" y=\"80.455301\"/>\r\n     <use style=\"fill:#1f77b4;stroke:#1f77b4;\" x=\"89.274774\" xlink:href=\"#m459afa4ae4\" y=\"65.081694\"/>\r\n     <use style=\"fill:#1f77b4;stroke:#1f77b4;\" x=\"138.685753\" xlink:href=\"#m459afa4ae4\" y=\"88.275836\"/>\r\n     <use style=\"fill:#1f77b4;stroke:#1f77b4;\" x=\"93.411168\" xlink:href=\"#m459afa4ae4\" y=\"75.136748\"/>\r\n     <use style=\"fill:#1f77b4;stroke:#1f77b4;\" x=\"82.367089\" xlink:href=\"#m459afa4ae4\" y=\"63.356181\"/>\r\n     <use style=\"fill:#1f77b4;stroke:#1f77b4;\" x=\"101.50391\" xlink:href=\"#m459afa4ae4\" y=\"50.727635\"/>\r\n     <use style=\"fill:#1f77b4;stroke:#1f77b4;\" x=\"93.899269\" xlink:href=\"#m459afa4ae4\" y=\"68.691083\"/>\r\n     <use style=\"fill:#1f77b4;stroke:#1f77b4;\" x=\"133.984177\" xlink:href=\"#m459afa4ae4\" y=\"68.463073\"/>\r\n     <use style=\"fill:#1f77b4;stroke:#1f77b4;\" x=\"105.056102\" xlink:href=\"#m459afa4ae4\" y=\"65.111803\"/>\r\n     <use style=\"fill:#1f77b4;stroke:#1f77b4;\" x=\"98.619813\" xlink:href=\"#m459afa4ae4\" y=\"79.106386\"/>\r\n     <use style=\"fill:#1f77b4;stroke:#1f77b4;\" x=\"98.737314\" xlink:href=\"#m459afa4ae4\" y=\"66.704671\"/>\r\n     <use style=\"fill:#1f77b4;stroke:#1f77b4;\" x=\"149.153761\" xlink:href=\"#m459afa4ae4\" y=\"102.746587\"/>\r\n     <use style=\"fill:#1f77b4;stroke:#1f77b4;\" x=\"88.741064\" xlink:href=\"#m459afa4ae4\" y=\"61.433265\"/>\r\n     <use style=\"fill:#1f77b4;stroke:#1f77b4;\" x=\"125.839518\" xlink:href=\"#m459afa4ae4\" y=\"88.393424\"/>\r\n     <use style=\"fill:#1f77b4;stroke:#1f77b4;\" x=\"131.539554\" xlink:href=\"#m459afa4ae4\" y=\"95.454812\"/>\r\n     <use style=\"fill:#1f77b4;stroke:#1f77b4;\" x=\"127.968475\" xlink:href=\"#m459afa4ae4\" y=\"73.648584\"/>\r\n     <use style=\"fill:#1f77b4;stroke:#1f77b4;\" x=\"109.273887\" xlink:href=\"#m459afa4ae4\" y=\"60.695014\"/>\r\n     <use style=\"fill:#1f77b4;stroke:#1f77b4;\" x=\"175.887909\" xlink:href=\"#m459afa4ae4\" y=\"123.255773\"/>\r\n     <use style=\"fill:#1f77b4;stroke:#1f77b4;\" x=\"128.692092\" xlink:href=\"#m459afa4ae4\" y=\"70.085818\"/>\r\n     <use style=\"fill:#1f77b4;stroke:#1f77b4;\" x=\"149.699048\" xlink:href=\"#m459afa4ae4\" y=\"84.807005\"/>\r\n     <use style=\"fill:#1f77b4;stroke:#1f77b4;\" x=\"69.620181\" xlink:href=\"#m459afa4ae4\" y=\"17.190382\"/>\r\n     <use style=\"fill:#1f77b4;stroke:#1f77b4;\" x=\"150.031011\" xlink:href=\"#m459afa4ae4\" y=\"98.806129\"/>\r\n     <use style=\"fill:#1f77b4;stroke:#1f77b4;\" x=\"122.369016\" xlink:href=\"#m459afa4ae4\" y=\"79.982604\"/>\r\n     <use style=\"fill:#1f77b4;stroke:#1f77b4;\" x=\"105.616951\" xlink:href=\"#m459afa4ae4\" y=\"74.018951\"/>\r\n     <use style=\"fill:#1f77b4;stroke:#1f77b4;\" x=\"126.853513\" xlink:href=\"#m459afa4ae4\" y=\"61.388704\"/>\r\n     <use style=\"fill:#1f77b4;stroke:#1f77b4;\" x=\"151.37902\" xlink:href=\"#m459afa4ae4\" y=\"98.220105\"/>\r\n     <use style=\"fill:#1f77b4;stroke:#1f77b4;\" x=\"146.998418\" xlink:href=\"#m459afa4ae4\" y=\"101.265943\"/>\r\n     <use style=\"fill:#1f77b4;stroke:#1f77b4;\" x=\"111.809668\" xlink:href=\"#m459afa4ae4\" y=\"60.151381\"/>\r\n     <use style=\"fill:#1f77b4;stroke:#1f77b4;\" x=\"93.1264\" xlink:href=\"#m459afa4ae4\" y=\"58.997083\"/>\r\n     <use style=\"fill:#1f77b4;stroke:#1f77b4;\" x=\"143.488914\" xlink:href=\"#m459afa4ae4\" y=\"70.696439\"/>\r\n     <use style=\"fill:#1f77b4;stroke:#1f77b4;\" x=\"96.050639\" xlink:href=\"#m459afa4ae4\" y=\"55.920084\"/>\r\n     <use style=\"fill:#1f77b4;stroke:#1f77b4;\" x=\"135.573495\" xlink:href=\"#m459afa4ae4\" y=\"95.343524\"/>\r\n     <use style=\"fill:#1f77b4;stroke:#1f77b4;\" x=\"78.785051\" xlink:href=\"#m459afa4ae4\" y=\"43.872211\"/>\r\n     <use style=\"fill:#1f77b4;stroke:#1f77b4;\" x=\"95.525409\" xlink:href=\"#m459afa4ae4\" y=\"51.401037\"/>\r\n     <use style=\"fill:#1f77b4;stroke:#1f77b4;\" x=\"159.93373\" xlink:href=\"#m459afa4ae4\" y=\"104.169741\"/>\r\n     <use style=\"fill:#1f77b4;stroke:#1f77b4;\" x=\"123.872136\" xlink:href=\"#m459afa4ae4\" y=\"60.902765\"/>\r\n     <use style=\"fill:#1f77b4;stroke:#1f77b4;\" x=\"89.298891\" xlink:href=\"#m459afa4ae4\" y=\"61.527797\"/>\r\n     <use style=\"fill:#1f77b4;stroke:#1f77b4;\" x=\"183.466067\" xlink:href=\"#m459afa4ae4\" y=\"108.291689\"/>\r\n     <use style=\"fill:#1f77b4;stroke:#1f77b4;\" x=\"166.965572\" xlink:href=\"#m459afa4ae4\" y=\"99.563695\"/>\r\n     <use style=\"fill:#1f77b4;stroke:#1f77b4;\" x=\"153.365882\" xlink:href=\"#m459afa4ae4\" y=\"104.995297\"/>\r\n     <use style=\"fill:#1f77b4;stroke:#1f77b4;\" x=\"139.205038\" xlink:href=\"#m459afa4ae4\" y=\"74.231047\"/>\r\n     <use style=\"fill:#1f77b4;stroke:#1f77b4;\" x=\"153.349519\" xlink:href=\"#m459afa4ae4\" y=\"85.170908\"/>\r\n     <use style=\"fill:#1f77b4;stroke:#1f77b4;\" x=\"115.105062\" xlink:href=\"#m459afa4ae4\" y=\"68.502159\"/>\r\n     <use style=\"fill:#1f77b4;stroke:#1f77b4;\" x=\"72.661917\" xlink:href=\"#m459afa4ae4\" y=\"22.844965\"/>\r\n     <use style=\"fill:#1f77b4;stroke:#1f77b4;\" x=\"152.527936\" xlink:href=\"#m459afa4ae4\" y=\"90.486843\"/>\r\n     <use style=\"fill:#1f77b4;stroke:#1f77b4;\" x=\"152.827565\" xlink:href=\"#m459afa4ae4\" y=\"98.777411\"/>\r\n     <use style=\"fill:#1f77b4;stroke:#1f77b4;\" x=\"96.956073\" xlink:href=\"#m459afa4ae4\" y=\"58.062152\"/>\r\n     <use style=\"fill:#1f77b4;stroke:#1f77b4;\" x=\"196.976812\" xlink:href=\"#m459afa4ae4\" y=\"127.840288\"/>\r\n     <use style=\"fill:#1f77b4;stroke:#1f77b4;\" x=\"143.334086\" xlink:href=\"#m459afa4ae4\" y=\"86.551596\"/>\r\n     <use style=\"fill:#1f77b4;stroke:#1f77b4;\" x=\"108.107471\" xlink:href=\"#m459afa4ae4\" y=\"60.40211\"/>\r\n     <use style=\"fill:#1f77b4;stroke:#1f77b4;\" x=\"110.161073\" xlink:href=\"#m459afa4ae4\" y=\"47.05883\"/>\r\n     <use style=\"fill:#1f77b4;stroke:#1f77b4;\" x=\"65.473878\" xlink:href=\"#m459afa4ae4\" y=\"35.28928\"/>\r\n    </g>\r\n   </g>\r\n   <g id=\"matplotlib.axis_1\">\r\n    <g id=\"xtick_1\">\r\n     <g id=\"line2d_1\">\r\n      <defs>\r\n       <path d=\"M 0 0 \r\nL 0 3.5 \r\n\" id=\"m0b235cff73\" style=\"stroke:#000000;stroke-width:0.8;\"/>\r\n      </defs>\r\n      <g>\r\n       <use style=\"stroke:#000000;stroke-width:0.8;\" x=\"70.718961\" xlink:href=\"#m0b235cff73\" y=\"143.1\"/>\r\n      </g>\r\n     </g>\r\n     <g id=\"text_1\">\r\n      <!-- −2 -->\r\n      <g transform=\"translate(63.347868 157.698438)scale(0.1 -0.1)\">\r\n       <defs>\r\n        <path d=\"M 678 2272 \r\nL 4684 2272 \r\nL 4684 1741 \r\nL 678 1741 \r\nL 678 2272 \r\nz\r\n\" id=\"DejaVuSans-2212\" transform=\"scale(0.015625)\"/>\r\n        <path d=\"M 1228 531 \r\nL 3431 531 \r\nL 3431 0 \r\nL 469 0 \r\nL 469 531 \r\nQ 828 903 1448 1529 \r\nQ 2069 2156 2228 2338 \r\nQ 2531 2678 2651 2914 \r\nQ 2772 3150 2772 3378 \r\nQ 2772 3750 2511 3984 \r\nQ 2250 4219 1831 4219 \r\nQ 1534 4219 1204 4116 \r\nQ 875 4013 500 3803 \r\nL 500 4441 \r\nQ 881 4594 1212 4672 \r\nQ 1544 4750 1819 4750 \r\nQ 2544 4750 2975 4387 \r\nQ 3406 4025 3406 3419 \r\nQ 3406 3131 3298 2873 \r\nQ 3191 2616 2906 2266 \r\nQ 2828 2175 2409 1742 \r\nQ 1991 1309 1228 531 \r\nz\r\n\" id=\"DejaVuSans-32\" transform=\"scale(0.015625)\"/>\r\n       </defs>\r\n       <use xlink:href=\"#DejaVuSans-2212\"/>\r\n       <use x=\"83.789062\" xlink:href=\"#DejaVuSans-32\"/>\r\n      </g>\r\n     </g>\r\n    </g>\r\n    <g id=\"xtick_2\">\r\n     <g id=\"line2d_2\">\r\n      <g>\r\n       <use style=\"stroke:#000000;stroke-width:0.8;\" x=\"127.513488\" xlink:href=\"#m0b235cff73\" y=\"143.1\"/>\r\n      </g>\r\n     </g>\r\n     <g id=\"text_2\">\r\n      <!-- 0 -->\r\n      <g transform=\"translate(124.332238 157.698438)scale(0.1 -0.1)\">\r\n       <defs>\r\n        <path d=\"M 2034 4250 \r\nQ 1547 4250 1301 3770 \r\nQ 1056 3291 1056 2328 \r\nQ 1056 1369 1301 889 \r\nQ 1547 409 2034 409 \r\nQ 2525 409 2770 889 \r\nQ 3016 1369 3016 2328 \r\nQ 3016 3291 2770 3770 \r\nQ 2525 4250 2034 4250 \r\nz\r\nM 2034 4750 \r\nQ 2819 4750 3233 4129 \r\nQ 3647 3509 3647 2328 \r\nQ 3647 1150 3233 529 \r\nQ 2819 -91 2034 -91 \r\nQ 1250 -91 836 529 \r\nQ 422 1150 422 2328 \r\nQ 422 3509 836 4129 \r\nQ 1250 4750 2034 4750 \r\nz\r\n\" id=\"DejaVuSans-30\" transform=\"scale(0.015625)\"/>\r\n       </defs>\r\n       <use xlink:href=\"#DejaVuSans-30\"/>\r\n      </g>\r\n     </g>\r\n    </g>\r\n    <g id=\"xtick_3\">\r\n     <g id=\"line2d_3\">\r\n      <g>\r\n       <use style=\"stroke:#000000;stroke-width:0.8;\" x=\"184.308015\" xlink:href=\"#m0b235cff73\" y=\"143.1\"/>\r\n      </g>\r\n     </g>\r\n     <g id=\"text_3\">\r\n      <!-- 2 -->\r\n      <g transform=\"translate(181.126765 157.698438)scale(0.1 -0.1)\">\r\n       <use xlink:href=\"#DejaVuSans-32\"/>\r\n      </g>\r\n     </g>\r\n    </g>\r\n   </g>\r\n   <g id=\"matplotlib.axis_2\">\r\n    <g id=\"ytick_1\">\r\n     <g id=\"line2d_4\">\r\n      <defs>\r\n       <path d=\"M 0 0 \r\nL -3.5 0 \r\n\" id=\"m38aebce97d\" style=\"stroke:#000000;stroke-width:0.8;\"/>\r\n      </defs>\r\n      <g>\r\n       <use style=\"stroke:#000000;stroke-width:0.8;\" x=\"28.942188\" xlink:href=\"#m38aebce97d\" y=\"132.393972\"/>\r\n      </g>\r\n     </g>\r\n     <g id=\"text_4\">\r\n      <!-- −5 -->\r\n      <g transform=\"translate(7.2 136.19319)scale(0.1 -0.1)\">\r\n       <defs>\r\n        <path d=\"M 691 4666 \r\nL 3169 4666 \r\nL 3169 4134 \r\nL 1269 4134 \r\nL 1269 2991 \r\nQ 1406 3038 1543 3061 \r\nQ 1681 3084 1819 3084 \r\nQ 2600 3084 3056 2656 \r\nQ 3513 2228 3513 1497 \r\nQ 3513 744 3044 326 \r\nQ 2575 -91 1722 -91 \r\nQ 1428 -91 1123 -41 \r\nQ 819 9 494 109 \r\nL 494 744 \r\nQ 775 591 1075 516 \r\nQ 1375 441 1709 441 \r\nQ 2250 441 2565 725 \r\nQ 2881 1009 2881 1497 \r\nQ 2881 1984 2565 2268 \r\nQ 2250 2553 1709 2553 \r\nQ 1456 2553 1204 2497 \r\nQ 953 2441 691 2322 \r\nL 691 4666 \r\nz\r\n\" id=\"DejaVuSans-35\" transform=\"scale(0.015625)\"/>\r\n       </defs>\r\n       <use xlink:href=\"#DejaVuSans-2212\"/>\r\n       <use x=\"83.789062\" xlink:href=\"#DejaVuSans-35\"/>\r\n      </g>\r\n     </g>\r\n    </g>\r\n    <g id=\"ytick_2\">\r\n     <g id=\"line2d_5\">\r\n      <g>\r\n       <use style=\"stroke:#000000;stroke-width:0.8;\" x=\"28.942188\" xlink:href=\"#m38aebce97d\" y=\"104.494694\"/>\r\n      </g>\r\n     </g>\r\n     <g id=\"text_5\">\r\n      <!-- 0 -->\r\n      <g transform=\"translate(15.579688 108.293913)scale(0.1 -0.1)\">\r\n       <use xlink:href=\"#DejaVuSans-30\"/>\r\n      </g>\r\n     </g>\r\n    </g>\r\n    <g id=\"ytick_3\">\r\n     <g id=\"line2d_6\">\r\n      <g>\r\n       <use style=\"stroke:#000000;stroke-width:0.8;\" x=\"28.942188\" xlink:href=\"#m38aebce97d\" y=\"76.595417\"/>\r\n      </g>\r\n     </g>\r\n     <g id=\"text_6\">\r\n      <!-- 5 -->\r\n      <g transform=\"translate(15.579688 80.394636)scale(0.1 -0.1)\">\r\n       <use xlink:href=\"#DejaVuSans-35\"/>\r\n      </g>\r\n     </g>\r\n    </g>\r\n    <g id=\"ytick_4\">\r\n     <g id=\"line2d_7\">\r\n      <g>\r\n       <use style=\"stroke:#000000;stroke-width:0.8;\" x=\"28.942188\" xlink:href=\"#m38aebce97d\" y=\"48.69614\"/>\r\n      </g>\r\n     </g>\r\n     <g id=\"text_7\">\r\n      <!-- 10 -->\r\n      <g transform=\"translate(9.217188 52.495358)scale(0.1 -0.1)\">\r\n       <defs>\r\n        <path d=\"M 794 531 \r\nL 1825 531 \r\nL 1825 4091 \r\nL 703 3866 \r\nL 703 4441 \r\nL 1819 4666 \r\nL 2450 4666 \r\nL 2450 531 \r\nL 3481 531 \r\nL 3481 0 \r\nL 794 0 \r\nL 794 531 \r\nz\r\n\" id=\"DejaVuSans-31\" transform=\"scale(0.015625)\"/>\r\n       </defs>\r\n       <use xlink:href=\"#DejaVuSans-31\"/>\r\n       <use x=\"63.623047\" xlink:href=\"#DejaVuSans-30\"/>\r\n      </g>\r\n     </g>\r\n    </g>\r\n    <g id=\"ytick_5\">\r\n     <g id=\"line2d_8\">\r\n      <g>\r\n       <use style=\"stroke:#000000;stroke-width:0.8;\" x=\"28.942188\" xlink:href=\"#m38aebce97d\" y=\"20.796862\"/>\r\n      </g>\r\n     </g>\r\n     <g id=\"text_8\">\r\n      <!-- 15 -->\r\n      <g transform=\"translate(9.217188 24.596081)scale(0.1 -0.1)\">\r\n       <use xlink:href=\"#DejaVuSans-31\"/>\r\n       <use x=\"63.623047\" xlink:href=\"#DejaVuSans-35\"/>\r\n      </g>\r\n     </g>\r\n    </g>\r\n   </g>\r\n   <g id=\"patch_3\">\r\n    <path d=\"M 28.942188 143.1 \r\nL 28.942188 7.2 \r\n\" style=\"fill:none;stroke:#000000;stroke-linecap:square;stroke-linejoin:miter;stroke-width:0.8;\"/>\r\n   </g>\r\n   <g id=\"patch_4\">\r\n    <path d=\"M 224.242188 143.1 \r\nL 224.242188 7.2 \r\n\" style=\"fill:none;stroke:#000000;stroke-linecap:square;stroke-linejoin:miter;stroke-width:0.8;\"/>\r\n   </g>\r\n   <g id=\"patch_5\">\r\n    <path d=\"M 28.942188 143.1 \r\nL 224.242188 143.1 \r\n\" style=\"fill:none;stroke:#000000;stroke-linecap:square;stroke-linejoin:miter;stroke-width:0.8;\"/>\r\n   </g>\r\n   <g id=\"patch_6\">\r\n    <path d=\"M 28.942188 7.2 \r\nL 224.242188 7.2 \r\n\" style=\"fill:none;stroke:#000000;stroke-linecap:square;stroke-linejoin:miter;stroke-width:0.8;\"/>\r\n   </g>\r\n  </g>\r\n </g>\r\n <defs>\r\n  <clipPath id=\"pddddaf2c6b\">\r\n   <rect height=\"135.9\" width=\"195.3\" x=\"28.942188\" y=\"7.2\"/>\r\n  </clipPath>\r\n </defs>\r\n</svg>\r\n",
      "text/plain": [
       "<Figure size 252x180 with 1 Axes>"
      ]
     },
     "metadata": {
      "needs_background": "light"
     },
     "output_type": "display_data"
    }
   ],
   "source": [
    "def use_svg_display():\n",
    "    # 使用 svg 展示\n",
    "    display.set_matplotlib_formats('svg')\n",
    "\n",
    "def set_figsize(figsize=(3.5, 2.5)):\n",
    "    use_svg_display()\n",
    "    # 设置图尺寸\n",
    "    plt.rcParams['figure.figsize'] = figsize\n",
    "\n",
    "set_figsize()\n",
    "plt.scatter(features[:,1].numpy(), labels.numpy(), 1)"
   ]
  },
  {
   "cell_type": "markdown",
   "metadata": {},
   "source": [
    "## 读取数据"
   ]
  },
  {
   "cell_type": "code",
   "execution_count": 100,
   "metadata": {},
   "outputs": [],
   "source": [
    "# 训练模型时 需要遍历数据集并不断读取小批量数据样本\n",
    "# 该函数每次返回 batch_size 批量大小个随机样本的特征和标签 也就是把样本分成 batch_size 份\n",
    "def data_iter(batch_size, features, labels):\n",
    "    num_examples = len(features)            # 获取样本总数\n",
    "    indices = list(range(num_examples))     # 生成样本总数的一个索引 例如 [0,1,2,...,num_example-1]\n",
    "    # print(\"indices:\", indices)\n",
    "    random.shuffle(indices)                 # 样本读取顺序是随机的 所以使用 shuffle 进行打乱\n",
    "    for i in range(0, num_examples, batch_size):    # 步长为 batch_size\n",
    "        # j 是一个序列 由于 indices 已经打乱 所以可以顺序截取\n",
    "        j = torch.LongTensor(indices[i: min(i+batch_size, num_examples)])   # 最后一次可能不足一个batch\n",
    "        # print(j)    # 如 [761, 432, 254, 417, 367,   6, 540, 955, 328,  15]\n",
    "        yield features.index_select(0, j), labels.index_select(0, j)"
   ]
  },
  {
   "cell_type": "code",
   "execution_count": 101,
   "metadata": {},
   "outputs": [
    {
     "name": "stdout",
     "output_type": "stream",
     "text": [
      "tensor([[ 0.2197, -2.1488],\n",
      "        [ 0.8090, -0.4557],\n",
      "        [ 0.8199,  0.9091],\n",
      "        [ 1.7475, -0.6336],\n",
      "        [ 0.8773, -1.3141],\n",
      "        [-0.3836, -1.3116],\n",
      "        [-0.6887,  0.9302],\n",
      "        [-1.6018, -0.8304],\n",
      "        [ 2.9051, -0.8173],\n",
      "        [ 1.6569,  1.0987]]) tensor([11.9348,  7.3637,  2.7414,  9.8650, 10.4066,  7.8861, -0.3378,  3.8208,\n",
      "        12.7888,  3.7840])\n"
     ]
    }
   ],
   "source": [
    "batch_size = 10\n",
    "\n",
    "for X, y in data_iter(batch_size, features, labels):\n",
    "    print(X, y)\n",
    "    break"
   ]
  },
  {
   "cell_type": "markdown",
   "metadata": {},
   "source": [
    "## 初始化模型参数"
   ]
  },
  {
   "cell_type": "code",
   "execution_count": 102,
   "metadata": {},
   "outputs": [
    {
     "name": "stdout",
     "output_type": "stream",
     "text": [
      "tensor([[ 0.0038],\n",
      "        [-0.0251]])\n",
      "tensor([0.])\n"
     ]
    }
   ],
   "source": [
    "# 权重初始化为： 均值 0  标准差 0.01 的正态随机数 偏差初始化为0\n",
    "# 权重为 2 行 1 列 (num_inputs, 1) 对应要输入两个特征\n",
    "w = torch.tensor(np.random.normal(0, 0.01, (num_inputs, 1)), dtype=torch.float32)\n",
    "b = torch.zeros(1, dtype=torch.float32)\n",
    "print(w)\n",
    "print(b)"
   ]
  },
  {
   "cell_type": "markdown",
   "metadata": {},
   "source": [
    "之后的模型训练中，需要对这些参数求梯度来迭代参数的值，因此我们要让它们的`requires_grad=True`。"
   ]
  },
  {
   "cell_type": "code",
   "execution_count": 103,
   "metadata": {},
   "outputs": [
    {
     "data": {
      "text/plain": [
       "tensor([0.], requires_grad=True)"
      ]
     },
     "execution_count": 103,
     "metadata": {},
     "output_type": "execute_result"
    }
   ],
   "source": [
    "w.requires_grad_(requires_grad=True)\n",
    "b.requires_grad_(requires_grad=True)"
   ]
  },
  {
   "cell_type": "markdown",
   "metadata": {},
   "source": [
    "## 定义模型\n",
    "下面是线性回归的矢量计算表达式的实现。我们使用`mm`函数做矩阵乘法。"
   ]
  },
  {
   "cell_type": "code",
   "execution_count": 104,
   "metadata": {},
   "outputs": [],
   "source": [
    "def linreg(X, w, b):\n",
    "    return torch.mm(X, w) + b"
   ]
  },
  {
   "cell_type": "markdown",
   "metadata": {},
   "source": [
    "## 定义损失函数\n",
    "使用上一节描述的平方损失来定义线性回归的损失函数。在实现中，我们需要把真实值y变形成预测值`y_hat`的形状。以下函数返回的结果也将和`y_hat`的形状相同。"
   ]
  },
  {
   "cell_type": "code",
   "execution_count": 105,
   "metadata": {},
   "outputs": [],
   "source": [
    "def square_loss(y_hat, y):\n",
    "    # 这里返回的是向量 pytorch 中 MSELoss 没有除以2\n",
    "    return (y_hat - y.view(y_hat.size())) ** 2 / 2"
   ]
  },
  {
   "cell_type": "markdown",
   "metadata": {},
   "source": [
    "## 定义优化算法\n",
    "实现了上一节中介绍的小批量随机梯度下降算法。它通过不断迭代模型参数来优化损失函数。这里自动求梯度模块计算得来的梯度是一个批量样本的梯度和。我们将它除以批量大小来得到平均值。"
   ]
  },
  {
   "cell_type": "code",
   "execution_count": 106,
   "metadata": {},
   "outputs": [],
   "source": [
    "def sgd(params, lr, batch_size):\n",
    "    for param in params:\n",
    "        param.data -= lr * param.grad / batch_size  # 注意这里更改param时用的param.data"
   ]
  },
  {
   "cell_type": "markdown",
   "metadata": {},
   "source": [
    "## 模型训练\n",
    "多次迭代模型参数。在每次迭代中，我们根据当前读取的小批量数据样本（特征`X`和标签`y`），通过调用反向函数`backward`计算小批量随机梯度，并调用优化算法`sgd`迭代模型参数。由于我们之前设批量大小`batch_size`为10，每个小批量的损失l的形状为(10, 1)。回忆一下自动求梯度一节。由于变量l并不是一个标量，所以我们可以调用`.sum()`将其求和得到一个标量，再运行`l.backward()`得到该变量有关模型参数的梯度。注意在每次更新完参数后不要忘了将参数的梯度清零。\n",
    "\n",
    "在一个迭代周期（epoch）中，我们将完整遍历一遍`data_iter`函数，并对训练数据集中所有样本都使用一次（假设样本数能够被批量大小整除）。这里的迭代周期个数`num_epochs`和学习率`lr`都是超参数，分别设3和0.03。在实践中，**大多超参数都需要通过反复试错来不断调节**。虽然迭代周期数设得越大模型可能越有效，但是训练时间可能过长。而有关学习率对模型的影响，我们会在后面“优化算法”一章中详细介绍。"
   ]
  },
  {
   "cell_type": "code",
   "execution_count": 107,
   "metadata": {},
   "outputs": [
    {
     "name": "stdout",
     "output_type": "stream",
     "text": [
      "epoch 1, loss 0.037160\n",
      "epoch 2, loss 0.000130\n",
      "epoch 3, loss 0.000048\n"
     ]
    }
   ],
   "source": [
    "lr = 0.03       # 学习率\n",
    "num_epochs = 3  # 迭代轮次\n",
    "net = linreg\n",
    "loss = square_loss\n",
    "\n",
    "for epoch in range(num_epochs): # 训练模型一共需要num_epochs个迭代周期\n",
    "    # 在每一个迭代周期中，会使用训练数据集中所有样本一次（假设样本数能够被批量大小整除）。\n",
    "    # X和y分别是小批量样本的特征和标签\n",
    "    for X, y in data_iter(batch_size, features, labels):\n",
    "        l = loss(net(X, w, b), y).sum() # l是有关小批量X和y的损失\n",
    "        l.backward()                    # 小批量的损失对模型参数求梯度\n",
    "        sgd([w, b], lr, batch_size)     # 使用小批量随机梯度下降迭代模型参数 每次迭代中更新权重和偏差\n",
    "\n",
    "        # 不要忘记 梯度清零\n",
    "        w.grad.data.zero_()\n",
    "        b.grad.data.zero_()\n",
    "    \n",
    "    train_l = loss(net(features, w, b), labels)\n",
    "    print('epoch %d, loss %f' % (epoch + 1, train_l.mean().item()))"
   ]
  },
  {
   "cell_type": "code",
   "execution_count": 108,
   "metadata": {},
   "outputs": [
    {
     "name": "stdout",
     "output_type": "stream",
     "text": [
      "[2, -3.4] \n",
      " tensor([[ 1.9989],\n",
      "        [-3.3993]], requires_grad=True)\n",
      "4.2 \n",
      " tensor([4.1991], requires_grad=True)\n"
     ]
    }
   ],
   "source": [
    "# 训练完成后，可以比较学到的参数和用来生成训练集的真实参数。它们应该很接近。\n",
    "print(true_w, '\\n', w)\n",
    "print(true_b, '\\n', b)"
   ]
  },
  {
   "cell_type": "markdown",
   "metadata": {},
   "source": [
    "# 简洁的实现线性回归\n",
    "使用PyTorch"
   ]
  },
  {
   "cell_type": "markdown",
   "metadata": {},
   "source": [
    "### 生成数据集"
   ]
  },
  {
   "cell_type": "code",
   "execution_count": 109,
   "metadata": {},
   "outputs": [],
   "source": [
    "num_inputs = 2\n",
    "num_examples = 1000\n",
    "true_w = [2, -3.4]\n",
    "true_b = 4.2\n",
    "\n",
    "# 生成特征\n",
    "# 均值为 0 标准差为 1 的正态分布 数组结构为 (num_example, num_inputs) 类型为 float64\n",
    "features = torch.tensor(np.random.normal(0, 1, (num_examples, num_inputs)), dtype=torch.float)\n",
    "\n",
    "# 为每个样本构造标签\n",
    "labels = true_w[0] * features[:, 0] + true_w[1] * features[:, 1] + true_b\n"
   ]
  },
  {
   "cell_type": "markdown",
   "metadata": {},
   "source": [
    "### 读取数据\n",
    "PyTorch提供了`data`包来读取数据。由于`data`常用作变量名，我们将导入的`data`模块用`Data`代替。在每一次迭代中，我们将随机读取包含10个数据样本的小批量。"
   ]
  },
  {
   "cell_type": "code",
   "execution_count": 110,
   "metadata": {},
   "outputs": [
    {
     "name": "stdout",
     "output_type": "stream",
     "text": [
      "tensor([[-0.5807,  0.5338],\n",
      "        [ 0.6162,  1.2615],\n",
      "        [ 1.5956, -0.1802],\n",
      "        [ 0.3294,  0.6714],\n",
      "        [ 2.3733,  0.0138],\n",
      "        [-1.5177,  1.0574],\n",
      "        [-1.5049,  0.2796],\n",
      "        [-0.2071, -1.3819],\n",
      "        [ 2.3059, -0.3240],\n",
      "        [-2.7423, -1.2921]]) tensor([ 1.2238,  1.1432,  8.0038,  2.5759,  8.8997, -2.4306,  0.2397,  8.4845,\n",
      "         9.9134,  3.1087])\n"
     ]
    }
   ],
   "source": [
    "import torch.utils.data as Data\n",
    "\n",
    "# 每一批读取10个样本的小批量数据\n",
    "batch_size = 10\n",
    "# 组合训练数据的特征和标签\n",
    "dataset = Data.TensorDataset(features, labels)\n",
    "# 随机小批量读取\n",
    "data_iter = Data.DataLoader(dataset, batch_size, shuffle=True)\n",
    "for X, y in data_iter:\n",
    "    print(X, y)\n",
    "    break"
   ]
  },
  {
   "cell_type": "markdown",
   "metadata": {},
   "source": [
    "### 定义模型\n",
    "PyTorch提供了大量预定义的层，这使我们只需关注使用哪些层来构造模型。下面将介绍如何使用PyTorch更简洁地定义线性回归。\n",
    "导入`torch.nn`模块。实际上，“nn”是neural networks（神经网络）的缩写。顾名思义，该模块定义了大量神经网络的层。之前我们已经用过了`autograd`，而`nn`就是利用`autograd`来定义模型。`nn`的核心数据结构是`Module`，它是一个抽象概念，既可以表示神经网络中的某个层（layer），也可以表示一个包含很多层的神经网络。在实际使用中，最常见的做法是继承`nn.Module`，撰写自己的网络/层。一个`nn.Module`实例应该包含一些层以及返回输出的前向传播（forward）方法。下面先来看看如何用`nn.Module`实现一个线性回归模型。"
   ]
  },
  {
   "cell_type": "code",
   "execution_count": 111,
   "metadata": {},
   "outputs": [
    {
     "name": "stdout",
     "output_type": "stream",
     "text": [
      "LinearNet(\n",
      "  (linear): Linear(in_features=2, out_features=1, bias=True)\n",
      ")\n"
     ]
    }
   ],
   "source": [
    "import torch.nn as nn    # neural networks\n",
    "\n",
    "class LinearNet(nn.Module):\n",
    "    def __init__(self, n_feature):\n",
    "        super(LinearNet, self).__init__()\n",
    "        self.linear = nn.Linear(n_feature, 1)\n",
    "\n",
    "    # 定义前向传播\n",
    "    def forward(self, x):\n",
    "        y = self.linear(x)\n",
    "        return y\n",
    "\n",
    "\n",
    "net = LinearNet(num_inputs)\n",
    "print(net)  # 打印网络结构\n"
   ]
  },
  {
   "cell_type": "markdown",
   "metadata": {},
   "source": [
    "还可以用`nn.Sequential`来更加方便地搭建网络，`Sequential`是一个有序的容器，网络层将按照在传入`Sequential`的顺序依次被添加到计算图中。"
   ]
  },
  {
   "cell_type": "code",
   "execution_count": 112,
   "metadata": {},
   "outputs": [
    {
     "name": "stdout",
     "output_type": "stream",
     "text": [
      "Sequential(\n",
      "  (linear): Linear(in_features=2, out_features=1, bias=True)\n",
      ")\n",
      "Linear(in_features=2, out_features=1, bias=True)\n"
     ]
    }
   ],
   "source": [
    "# 写法一\n",
    "net = nn.Sequential(\n",
    "    nn.Linear(num_inputs, 1)\n",
    "    # 还可以传入其他层\n",
    ")\n",
    "\n",
    "# 写法二\n",
    "net = nn.Sequential()\n",
    "net.add_module('linear', nn.Linear(num_inputs, 1))\n",
    "# net.add_module 还可以继续添加module\n",
    "\n",
    "# 写法三\n",
    "from collections import OrderedDict\n",
    "net = nn.Sequential(OrderedDict([\n",
    "    ('linear', nn.Linear(num_inputs, 1))\n",
    "    # ... 可以继续加\n",
    "]))\n",
    "\n",
    "print(net)\n",
    "print(net[0])\n"
   ]
  },
  {
   "cell_type": "markdown",
   "metadata": {},
   "source": [
    "可以通过`net.parameters()`来查看模型所有的可学习参数，此函数将返回一个生成器"
   ]
  },
  {
   "cell_type": "code",
   "execution_count": 113,
   "metadata": {},
   "outputs": [
    {
     "name": "stdout",
     "output_type": "stream",
     "text": [
      "Parameter containing:\n",
      "tensor([[-0.6613, -0.4438]], requires_grad=True)\n",
      "Parameter containing:\n",
      "tensor([0.5312], requires_grad=True)\n"
     ]
    }
   ],
   "source": [
    "for param in net.parameters():\n",
    "    print(param)"
   ]
  },
  {
   "cell_type": "markdown",
   "metadata": {},
   "source": [
    "### 初始化模型参数\n",
    "在使用net前，我们需要初始化模型参数，如线性回归模型中的权重和偏差。PyTorch在init模块中提供了多种参数初始化方法。这里的init是initializer的缩写形式。我们通过`init.normal_`将权重参数每个元素初始化为随机采样于均值为0、标准差为0.01的正态分布。偏差会初始化为零。"
   ]
  },
  {
   "cell_type": "code",
   "execution_count": 114,
   "metadata": {},
   "outputs": [
    {
     "data": {
      "text/plain": [
       "Parameter containing:\n",
       "tensor([0.], requires_grad=True)"
      ]
     },
     "execution_count": 114,
     "metadata": {},
     "output_type": "execute_result"
    }
   ],
   "source": [
    "from torch.nn import init\n",
    "\n",
    "init.normal_(net[0].weight, mean=0, std=0.01)   # net[0]的写法是由于这个net是由nn.Sequential()定义的\n",
    "init.constant_(net[0].bias, val=0)\n",
    "\n",
    "# init.normal_(net.linear.weight, mean=0, std=0.01)\n",
    "# init.normal_(net.linear.bias, 0)"
   ]
  },
  {
   "cell_type": "markdown",
   "metadata": {},
   "source": [
    "### 定义损失函数\n",
    "PyTorch在nn模块中提供了各种损失函数，这些损失函数可看作是一种特殊的层，PyTorch也将这些损失函数实现为`nn.Module`的子类。我们现在使用它提供的均方误差损失作为模型的损失函数。"
   ]
  },
  {
   "cell_type": "code",
   "execution_count": 115,
   "metadata": {},
   "outputs": [],
   "source": [
    "loss = nn.MSELoss()"
   ]
  },
  {
   "cell_type": "markdown",
   "metadata": {},
   "source": [
    "### 定义优化算法\n",
    "同样，我们也无须自己实现小批量随机梯度下降算法。`torch.optim`模块提供了很多常用的优化算法比如SGD、Adam和RMSProp等。下面我们创建一个用于优化net所有参数的优化器实例，并指定学习率为0.03的小批量随机梯度下降（SGD）为优化算法。"
   ]
  },
  {
   "cell_type": "code",
   "execution_count": 116,
   "metadata": {},
   "outputs": [
    {
     "name": "stdout",
     "output_type": "stream",
     "text": [
      "SGD (\n",
      "Parameter Group 0\n",
      "    dampening: 0\n",
      "    lr: 0.03\n",
      "    maximize: False\n",
      "    momentum: 0\n",
      "    nesterov: False\n",
      "    weight_decay: 0\n",
      ")\n"
     ]
    }
   ],
   "source": [
    "import torch.optim as optim\n",
    "\n",
    "optimizer = optim.SGD(net.parameters(), lr=0.03)\n",
    "print(optimizer)"
   ]
  },
  {
   "cell_type": "markdown",
   "metadata": {},
   "source": [
    "还可以为不同子网络设置不同的学习率，这在finetune时经常用到。\n",
    "```python\n",
    "optimizer = optim.SGD([\n",
    "    # 如果对某个参数不指定学习率，就使用最外层的默认学习率\n",
    "    {'params': net.subnet1.parameters()},   # lr=0.03   可以用 net[i] 表示第i个网络\n",
    "    {'params': net.subnet2.parameters(), 'lr': 0.01},   # lr=0.01\n",
    "], lr=0.03)\n",
    "print(optimizer)\n",
    "```\n",
    "此外可以让学习率变化，进行调整"
   ]
  },
  {
   "cell_type": "code",
   "execution_count": 117,
   "metadata": {},
   "outputs": [],
   "source": [
    "for param_group in optimizer.param_groups:\n",
    "    param_group['lr'] *= 0.1"
   ]
  },
  {
   "cell_type": "markdown",
   "metadata": {},
   "source": [
    "### 训练模型\n",
    "通过调用optim实例的step函数来迭代模型参数。按照小批量随机梯度下降的定义，我们在step函数中指明批量大小，从而对批量中样本梯度求平均。"
   ]
  },
  {
   "cell_type": "code",
   "execution_count": 120,
   "metadata": {},
   "outputs": [
    {
     "name": "stdout",
     "output_type": "stream",
     "text": [
      "epoch 1, loss: 0.000099\n",
      "epoch 2, loss: 0.000031\n",
      "epoch 3, loss: 0.000006\n"
     ]
    }
   ],
   "source": [
    "num_epochs = 3\n",
    "for epoch in range (1, num_epochs + 1):\n",
    "    for X, y in data_iter:\n",
    "        output = net(X)\n",
    "        l = loss(output, y.view(-1, 1))\n",
    "        optimizer.zero_grad()\n",
    "        l.backward()\n",
    "        optimizer.step()\n",
    "    print('epoch %d, loss: %f' % (epoch, l.item()))"
   ]
  },
  {
   "cell_type": "markdown",
   "metadata": {},
   "source": [
    "### 评估模型"
   ]
  },
  {
   "cell_type": "code",
   "execution_count": 121,
   "metadata": {},
   "outputs": [
    {
     "name": "stdout",
     "output_type": "stream",
     "text": [
      "[2, -3.4] Parameter containing:\n",
      "tensor([[ 1.9987, -3.3984]], requires_grad=True)\n",
      "4.2 Parameter containing:\n",
      "tensor([4.1980], requires_grad=True)\n"
     ]
    }
   ],
   "source": [
    "dense = net[0]\n",
    "print(true_w, dense.weight)\n",
    "print(true_b, dense.bias)"
   ]
  }
 ],
 "metadata": {
  "interpreter": {
   "hash": "75b6c9faefd3632622134dd0aa73546de62307e6a2df9b20f52f8cd2c4d749b9"
  },
  "kernelspec": {
   "display_name": "Python 3.9.7 ('base')",
   "language": "python",
   "name": "python3"
  },
  "language_info": {
   "codemirror_mode": {
    "name": "ipython",
    "version": 3
   },
   "file_extension": ".py",
   "mimetype": "text/x-python",
   "name": "python",
   "nbconvert_exporter": "python",
   "pygments_lexer": "ipython3",
   "version": "3.9.7"
  },
  "orig_nbformat": 4
 },
 "nbformat": 4,
 "nbformat_minor": 2
}
